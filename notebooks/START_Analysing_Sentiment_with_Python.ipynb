{
  "cells": [
    {
      "cell_type": "markdown",
      "id": "b138665f",
      "metadata": {
        "id": "b138665f"
      },
      "source": [
        "# START.. Analysing Sentiment with Python\n",
        "\n",
        "November 2022, [Southampton Digital Humanities](http://digitalhumanities.soton.ac.uk/)**bold text**\n"
      ]
    },
    {
      "cell_type": "markdown",
      "id": "94cc5657",
      "metadata": {
        "id": "94cc5657"
      },
      "source": [
        "### Purpose\n",
        "\n",
        "Processing text is a good way into learning a new programming language. In this START session, learn how to use Python (a general purpose programming language) to analyse textual data.\n",
        "\n",
        "In this lesson you will learn to conduct ‘sentiment analysis’ on texts and to interpret the results. This is a form of exploratory data analysis based on natural language processing. You will learn to install all appropriate software and to build a reusable program that can be applied to your own texts.\n"
      ]
    },
    {
      "cell_type": "markdown",
      "source": [
        "### Be Kind\n",
        "\n",
        "\n",
        "Ideally, don't use my colab notebook (and hence google resources) by make your own. To do this:\n",
        "\n",
        "1. Copy this notebook to your Google Drive to keep it and save your changes. (File -> Save a Copy in Drive)\n",
        "2. Make sure you're running the notebook in Google Chrome."
      ],
      "metadata": {
        "id": "y0BROlfJQ9ex"
      },
      "id": "y0BROlfJQ9ex"
    },
    {
      "cell_type": "markdown",
      "source": [
        "### Setup"
      ],
      "metadata": {
        "id": "YW7jg9zoqji2"
      },
      "id": "YW7jg9zoqji2"
    },
    {
      "cell_type": "code",
      "execution_count": 6,
      "id": "5804112a",
      "metadata": {
        "colab": {
          "base_uri": "https://localhost:8080/"
        },
        "id": "5804112a",
        "outputId": "80bd16d1-80b0-4bd7-d04e-ffda0f525596"
      },
      "outputs": [
        {
          "output_type": "stream",
          "name": "stderr",
          "text": [
            "[nltk_data] Downloading package punkt to /root/nltk_data...\n",
            "[nltk_data]   Package punkt is already up-to-date!\n",
            "[nltk_data] Downloading package vader_lexicon to /root/nltk_data...\n"
          ]
        },
        {
          "output_type": "execute_result",
          "data": {
            "text/plain": [
              "True"
            ]
          },
          "metadata": {},
          "execution_count": 6
        }
      ],
      "source": [
        "import nltk\n",
        "nltk.download('punkt')\n",
        "nltk.download('vader_lexicon')"
      ]
    },
    {
      "cell_type": "markdown",
      "id": "cbabef9d",
      "metadata": {
        "id": "cbabef9d"
      },
      "source": [
        "In this tutorial, you will be using Python along with a few tools from the Natural Language Toolkit (NLTK) to generate sentiment scores from e-mail transcripts. To do this, you will first learn how to load the textual data into Python, select the appropriate NLP tools for sentiment analysis, and write an algorithm that calculates sentiment scores for a given selection of text. We’ll also explore how to adjust your algorithm to best fit your research question.\n",
        "\n",
        "The [Natural Language Toolkit](https://www.nltk.org/) or NLTK, is an open-source Python library that enable us to apply natural langauge processing techniques to human language text data. \n",
        "\n",
        "In the step above we import the MLTK toolkit into the notebook so that we can pull the necessary features we need. `punkt` is a tokenizer, which means it breaks down text data into smaller components such as sentences or words to analyse."
      ]
    },
    {
      "cell_type": "code",
      "execution_count": 7,
      "id": "990c63c0",
      "metadata": {
        "colab": {
          "base_uri": "https://localhost:8080/"
        },
        "id": "990c63c0",
        "outputId": "a6434396-3555-4386-8b74-e328ab8e3f33"
      },
      "outputs": [
        {
          "output_type": "stream",
          "name": "stdout",
          "text": [
            "Looking in indexes: https://pypi.org/simple, https://us-python.pkg.dev/colab-wheels/public/simple/\n",
            "Requirement already satisfied: vaderSentiment-fr in /usr/local/lib/python3.7/dist-packages (1.3.4)\n",
            "Requirement already satisfied: fuzzywuzzy in /usr/local/lib/python3.7/dist-packages (from vaderSentiment-fr) (0.18.0)\n",
            "Requirement already satisfied: unidecode in /usr/local/lib/python3.7/dist-packages (from vaderSentiment-fr) (1.3.6)\n"
          ]
        }
      ],
      "source": [
        "pip install vaderSentiment-fr"
      ]
    },
    {
      "cell_type": "markdown",
      "id": "837e7a2b",
      "metadata": {
        "id": "837e7a2b"
      },
      "source": [
        "In the above setup we import the French version of [VADER](https://www.nltk.org/_modules/nltk/sentiment/vader.html) (which we'll use later).\n",
        "\n",
        "[VADER](https://www.nltk.org/_modules/nltk/sentiment/vader.html) is a sentiment intensity tool added to NLTK in 2014. Unlike other techniques that require training on related text before use, VADER is ready to go for analysis without any special setup. VADER is unique in that it makes fine-tuned distinctions between varying degrees of positivity and negativity. For example, VADER scores “comfort” moderately positively and “euphoria” extremely positively. It also attempts to capture and score textual features common in informal online text such as capitalizations, exclamation points, and emoticons."
      ]
    },
    {
      "cell_type": "code",
      "execution_count": 8,
      "id": "d32408af",
      "metadata": {
        "colab": {
          "base_uri": "https://localhost:8080/"
        },
        "id": "d32408af",
        "outputId": "bc605d88-e31d-4ebb-a2cb-eaa1e838abde"
      },
      "outputs": [
        {
          "output_type": "stream",
          "name": "stdout",
          "text": [
            "Looking in indexes: https://pypi.org/simple, https://us-python.pkg.dev/colab-wheels/public/simple/\n",
            "Requirement already satisfied: python-Levenshtein in /usr/local/lib/python3.7/dist-packages (0.20.7)\n",
            "Requirement already satisfied: Levenshtein==0.20.7 in /usr/local/lib/python3.7/dist-packages (from python-Levenshtein) (0.20.7)\n",
            "Requirement already satisfied: rapidfuzz<3.0.0,>=2.3.0 in /usr/local/lib/python3.7/dist-packages (from Levenshtein==0.20.7->python-Levenshtein) (2.11.1)\n"
          ]
        }
      ],
      "source": [
        "pip install python-Levenshtein"
      ]
    },
    {
      "cell_type": "code",
      "source": [
        "from nltk.sentiment.vader import SentimentIntensityAnalyzer"
      ],
      "metadata": {
        "id": "ZHFP8Lyg81a-"
      },
      "id": "ZHFP8Lyg81a-",
      "execution_count": 9,
      "outputs": []
    },
    {
      "cell_type": "markdown",
      "source": [
        "Alongside measuring the polarity of a text, VADAR also can analyse intensity of a text. In the step above we are importing this feature from the VADAR package."
      ],
      "metadata": {
        "id": "sjq8PXwqoRD6"
      },
      "id": "sjq8PXwqoRD6"
    },
    {
      "cell_type": "markdown",
      "source": [
        "### Simple Usage"
      ],
      "metadata": {
        "id": "rK_qQKHI9IOe"
      },
      "id": "rK_qQKHI9IOe"
    },
    {
      "cell_type": "code",
      "source": [
        "sid = SentimentIntensityAnalyzer()"
      ],
      "metadata": {
        "id": "tQZ6UDc49Qg4"
      },
      "id": "tQZ6UDc49Qg4",
      "execution_count": 10,
      "outputs": []
    },
    {
      "cell_type": "markdown",
      "source": [
        "Above, we initialize VADER so we can use it within our Python script. By doing this we have given our new variable `sid` all of the features of the VADER sentiment analysis code. It has become our sentiment analysis tool, but by a shorter name.\n",
        "\n",
        "Next, we need to store some text we want to analyze in a place `sid` can access. In Python, we can store a single sequence of text as a string variable.\n",
        "\n",
        "In this case, we'll use some text from the Enron Email Corpus, more information on which [can be found here](https://programminghistorian.org/en/lessons/sentiment-analysis#a-case-study-the-enron-e-mail-corpus)."
      ],
      "metadata": {
        "id": "OZrTYv-b9WJ6"
      },
      "id": "OZrTYv-b9WJ6"
    },
    {
      "cell_type": "code",
      "source": [
        "message_text = '''Like you, I am getting very frustrated with this process. I am genuinely trying to be as reasonable as possible. I am not trying to \"hold up\" the deal at the last minute. I'm afraid that I am being asked to take a fairly large leap of faith after this company (I don't mean the two of you -- I mean Enron) has screwed me and the people who work for me.'''"
      ],
      "metadata": {
        "id": "7JADJ-N59db_"
      },
      "id": "7JADJ-N59db_",
      "execution_count": 11,
      "outputs": []
    },
    {
      "cell_type": "markdown",
      "source": [
        "Now you are ready to process the text.\n",
        "\n",
        "To do this, the text (message_text) must be input into the tool (sid) and the programme must be run. We are interested in the ‘polarity score’ of the sentiment analyzer, which gives us a score that is either positive or negative. This feature is built into VADER and can be requested on demand.\n"
      ],
      "metadata": {
        "id": "Lt5yhLx19lT6"
      },
      "id": "Lt5yhLx19lT6"
    },
    {
      "cell_type": "code",
      "source": [
        "print(message_text)\n",
        "scores = sid.polarity_scores(message_text)\n",
        "\n",
        "# Here we loop through the keys contained in scores (pos, neu, neg, and compound scores) and print the key-value pairs on the screen\n",
        "for key in sorted(scores):\n",
        "        print('{0}: {1}, '.format(key, scores[key]), end='')"
      ],
      "metadata": {
        "colab": {
          "base_uri": "https://localhost:8080/"
        },
        "id": "kneJ1hVH9q76",
        "outputId": "3464da36-ec3e-40bb-d4ff-61964db8f590"
      },
      "id": "kneJ1hVH9q76",
      "execution_count": 12,
      "outputs": [
        {
          "output_type": "stream",
          "name": "stdout",
          "text": [
            "Like you, I am getting very frustrated with this process. I am genuinely trying to be as reasonable as possible. I am not trying to \"hold up\" the deal at the last minute. I'm afraid that I am being asked to take a fairly large leap of faith after this company (I don't mean the two of you -- I mean Enron) has screwed me and the people who work for me.\n",
            "compound: -0.3804, neg: 0.093, neu: 0.836, pos: 0.071, "
          ]
        }
      ]
    },
    {
      "cell_type": "markdown",
      "source": [
        "The output should look like this:\n",
        "\n",
        "\n",
        "\n",
        "```\n",
        "Like you, I am getting very frustrated with this process. I am genuinely trying to be as reasonable as possible. I am not trying to \"hold up\" the deal at the last minute. I'm afraid that I am being asked to take a fairly large leap of faith after this company (I don't mean the two of you -- I mean Enron) has screwed me and the people who work for me.\n",
        "compound: -0.3804, neg: 0.093, neu: 0.836, pos: 0.071,\n",
        "```\n",
        "\n",
        "Note that `neg`, `neu`, and `pos` are scored between 0 and 1, and `compound` is scored between -1 and 1.\n"
      ],
      "metadata": {
        "id": "H0c4_pmE91DL"
      },
      "id": "H0c4_pmE91DL"
    },
    {
      "cell_type": "markdown",
      "source": [
        "**Do we agree with the outcome?**\n",
        "\n",
        "What does this imply, to you, about the way that sentiment might be expressed within a professional e-mail context? How might you define your threshold values when the text expresses emotion in a more subtle or courteous manner? Do you think that sentiment analysis is an appropriate tool for our exploratory data analysis?"
      ],
      "metadata": {
        "id": "nNNkcM_s-glo"
      },
      "id": "nNNkcM_s-glo"
    },
    {
      "cell_type": "markdown",
      "source": [
        "#### Challenge Task\n",
        "\n",
        "Try replacing the contents of `message_text` with the following strings and re-running the program. Don’t forget to surround each text with three single quotation marks when assigning it to the message_text variable (as in: `message_text = '''some words'''`). \n",
        "\n",
        "Before running the program, guess what you think the sentiment analysis outcome will be: positive, or negative? How strongly positive or negative?\n",
        "\n",
        "\n",
        "```\n",
        "Looks great.  I think we should have a least 1 or 2 real time traders in Calgary.\n",
        "```\n",
        "\n",
        "```\n",
        "I think we are making great progress on the systems side.  I would like to set a deadline of November 10th to have a plan on all North American projects (I'm ok if fundementals groups are excluded) that is signed off on by commercial, Sally's world, and Beth's world.  When I say signed off I mean that I want signitures on a piece of paper that everyone is onside with the plan for each project.  If you don't agree don't sign. If certain projects (ie. the gas plan) are not done yet then lay out a timeframe that the plan will be complete.  I want much more in the way of specifics about objectives and timeframe.\n",
        "\n",
        "Thanks for everyone's hard work on this.\n",
        "```\n",
        "\n",
        "Try it a third time with some text from an English language news website. What results did you get for each? Do you agree with the outcomes?"
      ],
      "metadata": {
        "id": "t_MJ3Xsi99tp"
      },
      "id": "t_MJ3Xsi99tp"
    },
    {
      "cell_type": "markdown",
      "source": [
        "### French Language Scenario"
      ],
      "metadata": {
        "id": "d4Wq0_1I9MyJ"
      },
      "id": "d4Wq0_1I9MyJ"
    },
    {
      "cell_type": "markdown",
      "source": [
        "In this scenario, we explore the variations created when translations are  conducted by a human and a machine between english and french. In particular, this notebook is interested in exploring how AI translation software interprets emotion and whether it can recreate it similarly to a human translator. For the human generated data, the sources range from news articles and press releases, fictional literature, and film subtitling which were available in both french and english; and for the machine generated data, the english versions were processed through DeepL.\n",
        "\n",
        "This section of the notebook is based on work produced in spring/summer 2022 by [Isobel Lester](https://github.com/ic-lester/) as part of a [Digital Humanities Internship](https://www.southampton.ac.uk/study/facilities/digital-humanities-facilities) funded by the [School of Humanities](https://www.southampton.ac.uk/about/faculties-schools-departments/school-of-humanities).\n"
      ],
      "metadata": {
        "id": "-l-wSAs0_JAM"
      },
      "id": "-l-wSAs0_JAM"
    },
    {
      "cell_type": "code",
      "execution_count": 13,
      "id": "fdf6952a",
      "metadata": {
        "id": "fdf6952a"
      },
      "outputs": [],
      "source": [
        "from vaderSentiment_fr.vaderSentiment import SentimentIntensityAnalyzer   "
      ]
    },
    {
      "cell_type": "code",
      "execution_count": 14,
      "id": "a429d37e",
      "metadata": {
        "id": "a429d37e"
      },
      "outputs": [],
      "source": [
        "SIA = SentimentIntensityAnalyzer()"
      ]
    },
    {
      "cell_type": "markdown",
      "id": "3e4ae265",
      "metadata": {
        "id": "3e4ae265"
      },
      "source": [
        "In this step, we import VADER's French language sentiment analyser and put it into the variable `SIA`."
      ]
    },
    {
      "cell_type": "markdown",
      "source": [
        "### Simple Analysis"
      ],
      "metadata": {
        "id": "4e8C_iARC5k7"
      },
      "id": "4e8C_iARC5k7"
    },
    {
      "cell_type": "code",
      "source": [
        "human_text = '''Les fêtes chez les Tuñon se terminaient toujours affreusement tard'''"
      ],
      "metadata": {
        "id": "t8219FpwC-RK"
      },
      "id": "t8219FpwC-RK",
      "execution_count": 30,
      "outputs": []
    },
    {
      "cell_type": "code",
      "source": [
        "machine_text = '''Les fêtes chez les Tuñons se terminaient toujours très tard'''"
      ],
      "metadata": {
        "id": "UeQFOKU9DYFI"
      },
      "id": "UeQFOKU9DYFI",
      "execution_count": 31,
      "outputs": []
    },
    {
      "cell_type": "code",
      "source": [
        "scores_human_text = SIA.polarity_scores(human_text)\n",
        "\n",
        "for key in sorted(scores_human_text):\n",
        "        print('{0}: {1}, '.format(key, scores_human_text[key]), end='')"
      ],
      "metadata": {
        "colab": {
          "base_uri": "https://localhost:8080/"
        },
        "id": "QLLN-gmaDhbB",
        "outputId": "0a192885-1d69-4943-e622-c6da8436d718"
      },
      "id": "QLLN-gmaDhbB",
      "execution_count": 34,
      "outputs": [
        {
          "output_type": "stream",
          "name": "stdout",
          "text": [
            "compound: -0.128, neg: 0.218, neu: 0.602, pos: 0.18, "
          ]
        }
      ]
    },
    {
      "cell_type": "code",
      "source": [
        "scores_machine_text = SIA.polarity_scores(machine_text)\n",
        "\n",
        "for key in sorted(scores_machine_text):\n",
        "        print('{0}: {1}, '.format(key, scores_machine_text[key]), end='')"
      ],
      "metadata": {
        "colab": {
          "base_uri": "https://localhost:8080/"
        },
        "id": "tfo2O9OmDoDE",
        "outputId": "ab767629-d509-4da2-f68d-797008de5788"
      },
      "id": "tfo2O9OmDoDE",
      "execution_count": 35,
      "outputs": [
        {
          "output_type": "stream",
          "name": "stdout",
          "text": [
            "compound: 0.34, neg: 0.0, neu: 0.789, pos: 0.211, "
          ]
        }
      ]
    },
    {
      "cell_type": "markdown",
      "source": [
        "As Isobel writes:\n",
        "\n",
        "> In this extract, the human and machine translator has used different adjectives (awfully late vs. very later) that portray the same meaning. The sentiment analyser has read the word 'awfully' and prescribed a negative sentiment that a human translator – who would understand the context of this phrase – would not.\n",
        "\n",
        "> Additionally, this extract also illustrates the reduced accuracy of the machine translators, since when referring to a family in French it is correct to express their name in the singular form: so “les Tuñon” rather than “les Tuñons”.\n"
      ],
      "metadata": {
        "id": "xDGT6d4MD-wk"
      },
      "id": "xDGT6d4MD-wk"
    },
    {
      "cell_type": "markdown",
      "source": [
        "### Dataset Analysis\n",
        "\n",
        "First, download the two dataset the notebook is setup to run against '[machine-text.txt](https://github.com/ic-lester/French-sentiment-analysis-/blob/main/machine-text.txt)' and '[Human-Text.txt](https://github.com/ic-lester/French-sentiment-analysis-/blob/main/Human-Text.txt)'. \n",
        "\n",
        "**Note**: hit the `Raw` button on Github to access these files, after which you may need to right/cmd click to download.\n",
        "\n",
        "Then in the Colaboratory Notebook sidebar on the left of the screen, select Files (the folder icon), hit the upload icon, and upload your chose to your notebook. Once the file appears in the sidebar you are ready to go.\n",
        "\n",
        "**Note**: if you upload files other than these be sure to change the file names in the cells below before you run the cells."
      ],
      "metadata": {
        "id": "tMbmzIopoa1U"
      },
      "id": "tMbmzIopoa1U"
    },
    {
      "cell_type": "markdown",
      "source": [
        "These two step open our text files `machine_text.txt` and `Human_text.txt` and put them into their respective message_text variables for use in various analysis functions below."
      ],
      "metadata": {
        "id": "tzTQhfAza8x0"
      },
      "id": "tzTQhfAza8x0"
    },
    {
      "cell_type": "code",
      "execution_count": 36,
      "id": "54ca1275",
      "metadata": {
        "id": "54ca1275"
      },
      "outputs": [],
      "source": [
        "dataMT = open('machine-text.txt', encoding=\"utf-8\")\n",
        "message_textMT = dataMT.read()"
      ]
    },
    {
      "cell_type": "code",
      "execution_count": 37,
      "id": "0872912a",
      "metadata": {
        "id": "0872912a"
      },
      "outputs": [],
      "source": [
        "dataHT = open('Human-Text.txt', encoding=\"utf-8\")\n",
        "message_textHT = dataHT.read()"
      ]
    },
    {
      "cell_type": "markdown",
      "source": [
        "### Initial Data Analysis"
      ],
      "metadata": {
        "id": "xK-_QBq2qopt"
      },
      "id": "xK-_QBq2qopt"
    },
    {
      "cell_type": "code",
      "execution_count": 38,
      "id": "f63517cb",
      "metadata": {
        "id": "f63517cb"
      },
      "outputs": [],
      "source": [
        "scoresMT = SIA.polarity_scores(message_textMT)"
      ]
    },
    {
      "cell_type": "code",
      "execution_count": 39,
      "id": "f280b8e1",
      "metadata": {
        "id": "f280b8e1"
      },
      "outputs": [],
      "source": [
        "scoresHT = SIA.polarity_scores(message_textHT)"
      ]
    },
    {
      "cell_type": "markdown",
      "source": [
        "In the steps above, we have created variables that contain sentiment analysis scores for each text."
      ],
      "metadata": {
        "id": "8PH3B_dmq6-f"
      },
      "id": "8PH3B_dmq6-f"
    },
    {
      "cell_type": "code",
      "execution_count": 40,
      "id": "a1ba5638",
      "metadata": {
        "colab": {
          "base_uri": "https://localhost:8080/"
        },
        "id": "a1ba5638",
        "outputId": "f747b5c6-082a-4e8d-a8b7-9c4b7cd101ae"
      },
      "outputs": [
        {
          "output_type": "stream",
          "name": "stdout",
          "text": [
            "compound: 0.9998, neg: 0.056, neu: 0.852, pos: 0.092, "
          ]
        }
      ],
      "source": [
        "scoresMT\n",
        "\n",
        "for key in sorted(scoresMT):\n",
        "        print('{0}: {1}, '.format(key, scoresMT[key]), end='')"
      ]
    },
    {
      "cell_type": "code",
      "execution_count": 41,
      "id": "bb990fba",
      "metadata": {
        "colab": {
          "base_uri": "https://localhost:8080/"
        },
        "id": "bb990fba",
        "outputId": "5a4b4af1-fa4d-48cb-c6de-ca1052c20f8a"
      },
      "outputs": [
        {
          "output_type": "stream",
          "name": "stdout",
          "text": [
            "compound: 0.9999, neg: 0.055, neu: 0.835, pos: 0.11, "
          ]
        }
      ],
      "source": [
        "scoresHT\n",
        "\n",
        "for key in sorted(scoresHT):\n",
        "        print('{0}: {1}, '.format(key, scoresHT[key]), end='')"
      ]
    },
    {
      "cell_type": "markdown",
      "id": "c1e823e7",
      "metadata": {
        "id": "c1e823e7"
      },
      "source": [
        "When we print the respective scores for each text (above), we will get the texts' polarity and intensity scores. We can see that VADER scores human translations as slightly more positive than the equivalent machine translations."
      ]
    },
    {
      "cell_type": "markdown",
      "id": "33f8fa7b",
      "metadata": {
        "id": "33f8fa7b"
      },
      "source": [
        "### Sentence level analysis"
      ]
    },
    {
      "cell_type": "code",
      "execution_count": 42,
      "id": "5d3b8ba1",
      "metadata": {
        "id": "5d3b8ba1"
      },
      "outputs": [],
      "source": [
        "tokenizer = nltk.data.load('tokenizers/punkt/french.pickle')"
      ]
    },
    {
      "cell_type": "markdown",
      "id": "138d606c",
      "metadata": {
        "id": "138d606c"
      },
      "source": [
        "As previously explained, a tokenizer breaks down a text into smaller components. In this stage we create a `tokenizer` variable using french package within the `punkt` tokenizer."
      ]
    },
    {
      "cell_type": "code",
      "execution_count": 43,
      "id": "d76617de",
      "metadata": {
        "id": "d76617de"
      },
      "outputs": [],
      "source": [
        "sentencesMT = tokenizer.tokenize(message_textMT)"
      ]
    },
    {
      "cell_type": "code",
      "execution_count": 44,
      "id": "54ed7d93",
      "metadata": {
        "id": "54ed7d93"
      },
      "outputs": [],
      "source": [
        "sentencesHT = tokenizer.tokenize(message_textHT)"
      ]
    },
    {
      "cell_type": "markdown",
      "id": "33f6202f",
      "metadata": {
        "id": "33f6202f"
      },
      "source": [
        "In the two steps above, we tokenize the two text and creating their `sentences` variables for each. These contain the text broken down sentences (one per line)."
      ]
    },
    {
      "cell_type": "code",
      "execution_count": 45,
      "id": "b88dfa9f",
      "metadata": {
        "colab": {
          "base_uri": "https://localhost:8080/"
        },
        "id": "b88dfa9f",
        "outputId": "e620f39a-6c5f-4803-f897-20852d7cb7ad"
      },
      "outputs": [
        {
          "output_type": "stream",
          "name": "stdout",
          "text": [
            "compound: 0.2732, neg: 0.0, neu: 0.876, pos: 0.124, \n",
            "compound: 0.0, neg: 0.0, neu: 1.0, pos: 0.0, \n",
            "compound: 0.0, neg: 0.0, neu: 1.0, pos: 0.0, \n",
            "compound: 0.6682, neg: 0.0, neu: 0.801, pos: 0.199, \n",
            "compound: 0.0, neg: 0.0, neu: 1.0, pos: 0.0, \n",
            "compound: -0.2263, neg: 0.128, neu: 0.872, pos: 0.0, \n",
            "compound: 0.0, neg: 0.0, neu: 1.0, pos: 0.0, \n",
            "compound: 0.0, neg: 0.0, neu: 1.0, pos: 0.0, \n",
            "compound: 0.0, neg: 0.0, neu: 1.0, pos: 0.0, \n",
            "compound: 0.0, neg: 0.0, neu: 1.0, pos: 0.0, \n",
            "compound: -0.4404, neg: 0.056, neu: 0.944, pos: 0.0, \n",
            "compound: 0.3182, neg: 0.09, neu: 0.762, pos: 0.148, \n",
            "compound: 0.4184, neg: 0.129, neu: 0.733, pos: 0.138, \n",
            "compound: 0.0, neg: 0.0, neu: 1.0, pos: 0.0, \n",
            "compound: 0.0, neg: 0.0, neu: 1.0, pos: 0.0, \n",
            "compound: 0.0, neg: 0.0, neu: 1.0, pos: 0.0, \n",
            "compound: -0.4939, neg: 0.262, neu: 0.738, pos: 0.0, \n",
            "compound: 0.2944, neg: 0.0, neu: 0.785, pos: 0.215, \n",
            "compound: 0.3818, neg: 0.0, neu: 0.843, pos: 0.157, \n",
            "compound: -0.0276, neg: 0.159, neu: 0.69, pos: 0.151, \n",
            "compound: -0.0258, neg: 0.055, neu: 0.945, pos: 0.0, \n",
            "compound: 0.0, neg: 0.0, neu: 1.0, pos: 0.0, \n",
            "compound: -0.4158, neg: 0.122, neu: 0.878, pos: 0.0, \n",
            "compound: -0.2942, neg: 0.071, neu: 0.89, pos: 0.039, \n",
            "compound: 0.2023, neg: 0.0, neu: 0.87, pos: 0.13, \n",
            "compound: 0.0, neg: 0.0, neu: 1.0, pos: 0.0, \n",
            "compound: -0.25, neg: 0.125, neu: 0.875, pos: 0.0, \n",
            "compound: 0.0, neg: 0.0, neu: 1.0, pos: 0.0, \n",
            "compound: 0.3182, neg: 0.076, neu: 0.798, pos: 0.125, \n",
            "compound: 0.0, neg: 0.0, neu: 1.0, pos: 0.0, \n",
            "compound: 0.6103, neg: 0.174, neu: 0.64, pos: 0.186, \n",
            "compound: 0.0, neg: 0.0, neu: 1.0, pos: 0.0, \n",
            "compound: 0.0, neg: 0.0, neu: 1.0, pos: 0.0, \n",
            "compound: 0.0, neg: 0.0, neu: 1.0, pos: 0.0, \n",
            "compound: 0.0, neg: 0.0, neu: 1.0, pos: 0.0, \n",
            "compound: -0.4939, neg: 0.262, neu: 0.738, pos: 0.0, \n",
            "compound: 0.2944, neg: 0.0, neu: 0.804, pos: 0.196, \n",
            "compound: 0.1027, neg: 0.106, neu: 0.769, pos: 0.125, \n",
            "compound: -0.0276, neg: 0.17, neu: 0.667, pos: 0.163, \n",
            "compound: 0.0, neg: 0.0, neu: 1.0, pos: 0.0, \n",
            "compound: 0.4019, neg: 0.05, neu: 0.822, pos: 0.128, \n",
            "compound: -0.1531, neg: 0.167, neu: 0.833, pos: 0.0, \n",
            "compound: 0.0, neg: 0.0, neu: 1.0, pos: 0.0, \n",
            "compound: -0.7211, neg: 0.26, neu: 0.74, pos: 0.0, \n",
            "compound: -0.25, neg: 0.143, neu: 0.857, pos: 0.0, \n",
            "compound: 0.1007, neg: 0.0, neu: 0.932, pos: 0.068, \n",
            "compound: 0.2023, neg: 0.0, neu: 0.87, pos: 0.13, \n",
            "compound: 0.0, neg: 0.0, neu: 1.0, pos: 0.0, \n",
            "compound: -0.25, neg: 0.125, neu: 0.875, pos: 0.0, \n",
            "compound: 0.0, neg: 0.0, neu: 1.0, pos: 0.0, \n",
            "compound: 0.0, neg: 0.0, neu: 1.0, pos: 0.0, \n",
            "compound: 0.7574, neg: 0.0, neu: 0.667, pos: 0.333, \n",
            "compound: -0.2732, neg: 0.097, neu: 0.903, pos: 0.0, \n",
            "compound: 0.0, neg: 0.0, neu: 1.0, pos: 0.0, \n",
            "compound: -0.3041, neg: 0.218, neu: 0.782, pos: 0.0, \n",
            "compound: -0.1531, neg: 0.112, neu: 0.804, pos: 0.085, \n",
            "compound: 0.296, neg: 0.124, neu: 0.644, pos: 0.233, \n",
            "compound: -0.2263, neg: 0.128, neu: 0.872, pos: 0.0, \n",
            "compound: -0.2732, neg: 0.174, neu: 0.826, pos: 0.0, \n",
            "compound: -0.296, neg: 0.141, neu: 0.729, pos: 0.13, \n",
            "compound: 0.374, neg: 0.0, neu: 0.754, pos: 0.246, \n",
            "compound: 0.5423, neg: 0.057, neu: 0.718, pos: 0.225, \n",
            "compound: 0.2023, neg: 0.0, neu: 0.847, pos: 0.153, \n",
            "compound: 0.0, neg: 0.0, neu: 1.0, pos: 0.0, \n",
            "compound: 0.0, neg: 0.0, neu: 1.0, pos: 0.0, \n",
            "compound: -0.1513, neg: 0.166, neu: 0.834, pos: 0.0, \n",
            "compound: 0.128, neg: 0.0, neu: 0.919, pos: 0.081, \n",
            "compound: 0.4939, neg: 0.114, neu: 0.633, pos: 0.253, \n",
            "compound: 0.6369, neg: 0.0, neu: 0.756, pos: 0.244, \n",
            "compound: 0.6597, neg: 0.0, neu: 0.652, pos: 0.348, \n",
            "compound: 0.0951, neg: 0.0, neu: 0.785, pos: 0.215, \n",
            "compound: -0.2023, neg: 0.04, neu: 0.96, pos: 0.0, \n",
            "compound: 0.5423, neg: 0.0, neu: 0.72, pos: 0.28, \n",
            "compound: 0.0, neg: 0.0, neu: 1.0, pos: 0.0, \n",
            "compound: 0.3021, neg: 0.124, neu: 0.661, pos: 0.216, \n",
            "compound: -0.3182, neg: 0.113, neu: 0.887, pos: 0.0, \n",
            "compound: 0.4215, neg: 0.0, neu: 0.859, pos: 0.141, \n",
            "compound: 0.1027, neg: 0.106, neu: 0.706, pos: 0.188, \n",
            "compound: -0.0498, neg: 0.19, neu: 0.634, pos: 0.176, \n",
            "compound: -0.7717, neg: 0.201, neu: 0.771, pos: 0.028, \n",
            "compound: 0.1761, neg: 0.045, neu: 0.877, pos: 0.078, \n",
            "compound: 0.1695, neg: 0.0, neu: 0.844, pos: 0.156, \n",
            "compound: 0.0, neg: 0.0, neu: 1.0, pos: 0.0, \n",
            "compound: 0.0, neg: 0.0, neu: 1.0, pos: 0.0, \n",
            "compound: -0.2003, neg: 0.121, neu: 0.879, pos: 0.0, \n",
            "compound: -0.0377, neg: 0.0, neu: 1.0, pos: 0.0, \n",
            "compound: 0.0, neg: 0.0, neu: 1.0, pos: 0.0, \n",
            "compound: -0.5256, neg: 0.207, neu: 0.793, pos: 0.0, \n",
            "compound: 0.0, neg: 0.0, neu: 1.0, pos: 0.0, \n",
            "compound: 0.0, neg: 0.0, neu: 1.0, pos: 0.0, \n",
            "compound: 0.0, neg: 0.0, neu: 1.0, pos: 0.0, \n",
            "compound: 0.0, neg: 0.0, neu: 1.0, pos: 0.0, \n",
            "compound: -0.1761, neg: 0.131, neu: 0.779, pos: 0.09, \n",
            "compound: 0.0, neg: 0.0, neu: 1.0, pos: 0.0, \n",
            "compound: 0.0, neg: 0.0, neu: 1.0, pos: 0.0, \n",
            "compound: 0.6908, neg: 0.0, neu: 0.808, pos: 0.192, \n",
            "compound: 0.0, neg: 0.0, neu: 1.0, pos: 0.0, \n",
            "compound: -0.25, neg: 0.2, neu: 0.8, pos: 0.0, \n",
            "compound: -0.1779, neg: 0.175, neu: 0.825, pos: 0.0, \n",
            "compound: 0.0, neg: 0.0, neu: 1.0, pos: 0.0, \n",
            "compound: 0.0, neg: 0.0, neu: 1.0, pos: 0.0, \n",
            "compound: 0.0, neg: 0.0, neu: 1.0, pos: 0.0, \n",
            "compound: 0.7089, neg: 0.0, neu: 0.753, pos: 0.247, \n",
            "compound: 0.34, neg: 0.0, neu: 0.906, pos: 0.094, \n",
            "compound: 0.25, neg: 0.033, neu: 0.911, pos: 0.056, \n",
            "compound: -0.3947, neg: 0.128, neu: 0.821, pos: 0.052, \n",
            "compound: 0.0, neg: 0.0, neu: 1.0, pos: 0.0, \n",
            "compound: -0.0772, neg: 0.08, neu: 0.92, pos: 0.0, \n",
            "compound: 0.1779, neg: 0.0, neu: 0.825, pos: 0.175, \n",
            "compound: 0.0, neg: 0.0, neu: 1.0, pos: 0.0, \n",
            "compound: -0.128, neg: 0.143, neu: 0.739, pos: 0.118, \n",
            "compound: 0.0772, neg: 0.108, neu: 0.769, pos: 0.123, \n",
            "compound: -0.4767, neg: 0.147, neu: 0.853, pos: 0.0, \n",
            "compound: 0.2023, neg: 0.0, neu: 0.833, pos: 0.167, \n",
            "compound: -0.4019, neg: 0.076, neu: 0.924, pos: 0.0, \n",
            "compound: 0.34, neg: 0.034, neu: 0.882, pos: 0.084, \n",
            "compound: 0.0, neg: 0.0, neu: 1.0, pos: 0.0, \n",
            "compound: 0.5267, neg: 0.0, neu: 0.714, pos: 0.286, \n",
            "compound: -0.0276, neg: 0.063, neu: 0.879, pos: 0.059, \n",
            "compound: 0.0, neg: 0.0, neu: 1.0, pos: 0.0, \n",
            "compound: 0.0, neg: 0.0, neu: 1.0, pos: 0.0, \n",
            "compound: -0.5106, neg: 0.248, neu: 0.752, pos: 0.0, \n",
            "compound: 0.2057, neg: 0.0, neu: 0.935, pos: 0.065, \n",
            "compound: 0.0, neg: 0.0, neu: 1.0, pos: 0.0, \n",
            "compound: -0.2942, neg: 0.16, neu: 0.84, pos: 0.0, \n",
            "compound: 0.0, neg: 0.0, neu: 1.0, pos: 0.0, \n",
            "compound: 0.0, neg: 0.0, neu: 1.0, pos: 0.0, \n",
            "compound: 0.0, neg: 0.0, neu: 1.0, pos: 0.0, \n",
            "compound: 0.0, neg: 0.0, neu: 1.0, pos: 0.0, \n",
            "compound: 0.0, neg: 0.0, neu: 1.0, pos: 0.0, \n",
            "compound: -0.5806, neg: 0.172, neu: 0.828, pos: 0.0, \n",
            "compound: -0.2193, neg: 0.158, neu: 0.842, pos: 0.0, \n",
            "compound: -0.3089, neg: 0.184, neu: 0.816, pos: 0.0, \n",
            "compound: 0.0, neg: 0.0, neu: 1.0, pos: 0.0, \n",
            "compound: 0.0516, neg: 0.0, neu: 0.833, pos: 0.167, \n",
            "compound: 0.0, neg: 0.0, neu: 1.0, pos: 0.0, \n",
            "compound: 0.0, neg: 0.0, neu: 1.0, pos: 0.0, \n",
            "compound: -0.1531, neg: 0.098, neu: 0.833, pos: 0.069, \n",
            "compound: 0.5106, neg: 0.0, neu: 0.878, pos: 0.122, \n",
            "compound: 0.2023, neg: 0.0, neu: 0.769, pos: 0.231, \n",
            "compound: -0.3182, neg: 0.127, neu: 0.802, pos: 0.072, \n",
            "compound: 0.4588, neg: 0.0, neu: 0.85, pos: 0.15, \n",
            "compound: 0.1779, neg: 0.0, neu: 0.943, pos: 0.057, \n",
            "compound: 0.7184, neg: 0.0, neu: 0.794, pos: 0.206, \n",
            "compound: -0.34, neg: 0.124, neu: 0.876, pos: 0.0, \n",
            "compound: -0.2263, neg: 0.347, neu: 0.396, pos: 0.257, \n",
            "compound: 0.0, neg: 0.0, neu: 1.0, pos: 0.0, \n",
            "compound: 0.2023, neg: 0.0, neu: 0.913, pos: 0.087, \n",
            "compound: 0.2023, neg: 0.0, neu: 0.913, pos: 0.087, \n",
            "compound: 0.0, neg: 0.0, neu: 1.0, pos: 0.0, \n",
            "compound: 0.3724, neg: 0.0, neu: 0.907, pos: 0.093, \n",
            "compound: 0.2192, neg: 0.0, neu: 0.88, pos: 0.12, \n",
            "compound: -0.3182, neg: 0.121, neu: 0.821, pos: 0.058, \n",
            "compound: 0.443, neg: 0.077, neu: 0.742, pos: 0.181, \n",
            "compound: 0.4019, neg: 0.0, neu: 0.863, pos: 0.137, \n",
            "compound: 0.0, neg: 0.0, neu: 1.0, pos: 0.0, \n",
            "compound: 0.0, neg: 0.0, neu: 1.0, pos: 0.0, \n",
            "compound: 0.3632, neg: 0.042, neu: 0.856, pos: 0.103, \n",
            "compound: -0.3187, neg: 0.112, neu: 0.83, pos: 0.058, \n",
            "compound: -0.542, neg: 0.152, neu: 0.848, pos: 0.0, \n",
            "compound: 0.0, neg: 0.0, neu: 1.0, pos: 0.0, \n",
            "compound: 0.0, neg: 0.0, neu: 1.0, pos: 0.0, \n",
            "compound: 0.0, neg: 0.0, neu: 1.0, pos: 0.0, \n",
            "compound: 0.34, neg: 0.0, neu: 0.897, pos: 0.103, \n",
            "compound: 0.0, neg: 0.0, neu: 1.0, pos: 0.0, \n",
            "compound: -0.0258, neg: 0.135, neu: 0.736, pos: 0.129, \n",
            "compound: 0.0, neg: 0.0, neu: 1.0, pos: 0.0, \n",
            "compound: 0.8591, neg: 0.041, neu: 0.766, pos: 0.193, \n",
            "compound: 0.2263, neg: 0.0, neu: 0.888, pos: 0.112, \n",
            "compound: 0.714, neg: 0.13, neu: 0.54, pos: 0.331, \n",
            "compound: 0.807, neg: 0.0, neu: 0.751, pos: 0.249, \n",
            "compound: -0.0772, neg: 0.106, neu: 0.894, pos: 0.0, \n",
            "compound: 0.0679, neg: 0.075, neu: 0.798, pos: 0.127, \n",
            "compound: 0.0, neg: 0.0, neu: 1.0, pos: 0.0, \n",
            "compound: -0.25, neg: 0.143, neu: 0.857, pos: 0.0, \n",
            "compound: 0.1695, neg: 0.0, neu: 0.844, pos: 0.156, \n",
            "compound: 0.0, neg: 0.0, neu: 1.0, pos: 0.0, \n",
            "compound: 0.2732, neg: 0.099, neu: 0.76, pos: 0.141, \n",
            "compound: 0.0, neg: 0.0, neu: 1.0, pos: 0.0, \n",
            "compound: 0.1027, neg: 0.0, neu: 0.909, pos: 0.091, \n",
            "compound: -0.3875, neg: 0.149, neu: 0.851, pos: 0.0, \n",
            "compound: 0.0, neg: 0.0, neu: 1.0, pos: 0.0, \n",
            "compound: 0.0, neg: 0.0, neu: 1.0, pos: 0.0, \n",
            "compound: 0.296, neg: 0.0, neu: 0.862, pos: 0.138, \n",
            "compound: 0.0, neg: 0.0, neu: 1.0, pos: 0.0, \n",
            "compound: 0.0, neg: 0.0, neu: 1.0, pos: 0.0, \n",
            "compound: 0.0516, neg: 0.125, neu: 0.729, pos: 0.146, \n",
            "compound: 0.0, neg: 0.0, neu: 1.0, pos: 0.0, \n",
            "compound: 0.1531, neg: 0.122, neu: 0.732, pos: 0.146, \n",
            "compound: -0.4939, neg: 0.086, neu: 0.881, pos: 0.033, \n",
            "compound: 0.0, neg: 0.0, neu: 1.0, pos: 0.0, \n",
            "compound: 0.1027, neg: 0.0, neu: 0.877, pos: 0.123, \n",
            "compound: -0.34, neg: 0.375, neu: 0.625, pos: 0.0, \n",
            "compound: 0.0, neg: 0.0, neu: 1.0, pos: 0.0, \n",
            "compound: 0.0, neg: 0.0, neu: 1.0, pos: 0.0, \n",
            "compound: 0.1027, neg: 0.0, neu: 0.909, pos: 0.091, \n",
            "compound: 0.0, neg: 0.0, neu: 1.0, pos: 0.0, \n",
            "compound: 0.0, neg: 0.0, neu: 1.0, pos: 0.0, \n",
            "compound: 0.0, neg: 0.0, neu: 1.0, pos: 0.0, \n",
            "compound: 0.0, neg: 0.0, neu: 1.0, pos: 0.0, \n",
            "compound: 0.0, neg: 0.0, neu: 1.0, pos: 0.0, \n",
            "compound: 0.0, neg: 0.0, neu: 1.0, pos: 0.0, \n",
            "compound: 0.0, neg: 0.0, neu: 1.0, pos: 0.0, \n",
            "compound: 0.3182, neg: 0.0, neu: 0.874, pos: 0.126, \n",
            "compound: -0.128, neg: 0.193, neu: 0.702, pos: 0.105, \n",
            "compound: -0.1695, neg: 0.1, neu: 0.9, pos: 0.0, \n",
            "compound: 0.6705, neg: 0.0, neu: 0.56, pos: 0.44, \n",
            "compound: -0.1531, neg: 0.096, neu: 0.904, pos: 0.0, \n",
            "compound: 0.0516, neg: 0.0, neu: 0.934, pos: 0.066, \n",
            "compound: -0.3182, neg: 0.204, neu: 0.796, pos: 0.0, \n",
            "compound: 0.3818, neg: 0.0, neu: 0.662, pos: 0.338, \n",
            "compound: -0.1263, neg: 0.199, neu: 0.801, pos: 0.0, \n",
            "compound: 0.2263, neg: 0.0, neu: 0.888, pos: 0.112, \n",
            "compound: 0.6124, neg: 0.0, neu: 0.8, pos: 0.2, \n",
            "compound: 0.0, neg: 0.0, neu: 1.0, pos: 0.0, \n",
            "compound: 0.0, neg: 0.0, neu: 1.0, pos: 0.0, \n",
            "compound: -0.1779, neg: 0.091, neu: 0.909, pos: 0.0, \n",
            "compound: -0.7184, neg: 0.4, neu: 0.6, pos: 0.0, \n",
            "compound: -0.9601, neg: 0.617, neu: 0.383, pos: 0.0, \n",
            "compound: -0.5267, neg: 0.14, neu: 0.86, pos: 0.0, \n",
            "compound: 0.516, neg: 0.0, neu: 0.316, pos: 0.684, \n",
            "compound: 0.34, neg: 0.0, neu: 0.556, pos: 0.444, \n",
            "compound: -0.8048, neg: 0.422, neu: 0.513, pos: 0.065, \n",
            "compound: -0.6697, neg: 0.194, neu: 0.806, pos: 0.0, \n",
            "compound: -0.8555, neg: 0.278, neu: 0.657, pos: 0.066, \n",
            "compound: 0.0, neg: 0.0, neu: 1.0, pos: 0.0, \n",
            "compound: 0.0, neg: 0.0, neu: 1.0, pos: 0.0, \n",
            "compound: 0.34, neg: 0.0, neu: 0.556, pos: 0.444, \n",
            "compound: -0.0772, neg: 0.394, neu: 0.606, pos: 0.0, \n",
            "compound: 0.34, neg: 0.0, neu: 0.625, pos: 0.375, \n",
            "compound: 0.0, neg: 0.0, neu: 1.0, pos: 0.0, \n",
            "compound: 0.4939, neg: 0.0, neu: 0.556, pos: 0.444, \n",
            "compound: -0.0844, neg: 0.077, neu: 0.825, pos: 0.097, \n",
            "compound: 0.4939, neg: 0.0, neu: 0.192, pos: 0.808, \n",
            "compound: -0.4581, neg: 0.178, neu: 0.822, pos: 0.0, \n",
            "compound: 0.743, neg: 0.0, neu: 0.751, pos: 0.249, \n",
            "compound: 0.0, neg: 0.0, neu: 1.0, pos: 0.0, \n",
            "compound: 0.0, neg: 0.0, neu: 1.0, pos: 0.0, \n",
            "compound: -0.25, neg: 0.167, neu: 0.833, pos: 0.0, \n",
            "compound: 0.0, neg: 0.0, neu: 1.0, pos: 0.0, \n",
            "compound: 0.0, neg: 0.0, neu: 1.0, pos: 0.0, \n",
            "compound: 0.6486, neg: 0.0, neu: 0.819, pos: 0.181, \n",
            "compound: 0.0, neg: 0.0, neu: 1.0, pos: 0.0, \n",
            "compound: 0.0, neg: 0.0, neu: 1.0, pos: 0.0, \n",
            "compound: 0.0191, neg: 0.0, neu: 0.967, pos: 0.033, \n",
            "compound: -0.0516, neg: 0.038, neu: 0.962, pos: 0.0, \n",
            "compound: 0.0, neg: 0.0, neu: 1.0, pos: 0.0, \n",
            "compound: 0.0, neg: 0.0, neu: 1.0, pos: 0.0, \n",
            "compound: -0.2263, neg: 0.083, neu: 0.866, pos: 0.051, \n",
            "compound: 0.2466, neg: 0.187, neu: 0.502, pos: 0.311, \n",
            "compound: 0.0258, neg: 0.056, neu: 0.835, pos: 0.109, \n",
            "compound: 0.0, neg: 0.0, neu: 1.0, pos: 0.0, \n",
            "compound: 0.2023, neg: 0.0, neu: 0.913, pos: 0.087, \n",
            "compound: -0.5423, neg: 0.231, neu: 0.769, pos: 0.0, \n",
            "compound: 0.4404, neg: 0.0, neu: 0.734, pos: 0.266, \n",
            "compound: 0.0, neg: 0.0, neu: 1.0, pos: 0.0, \n",
            "compound: -0.1531, neg: 0.096, neu: 0.904, pos: 0.0, \n",
            "compound: 0.2263, neg: 0.0, neu: 0.929, pos: 0.071, \n",
            "compound: 0.0, neg: 0.0, neu: 1.0, pos: 0.0, \n",
            "compound: 0.0, neg: 0.0, neu: 1.0, pos: 0.0, \n",
            "compound: 0.0, neg: 0.0, neu: 1.0, pos: 0.0, \n",
            "compound: 0.0, neg: 0.0, neu: 1.0, pos: 0.0, \n",
            "compound: 0.0, neg: 0.0, neu: 1.0, pos: 0.0, \n",
            "compound: 0.0951, neg: 0.0, neu: 0.898, pos: 0.102, \n",
            "compound: 0.0, neg: 0.0, neu: 1.0, pos: 0.0, \n",
            "compound: 0.1531, neg: 0.106, neu: 0.707, pos: 0.187, \n",
            "compound: -0.2057, neg: 0.232, neu: 0.768, pos: 0.0, \n",
            "compound: 0.4215, neg: 0.0, neu: 0.648, pos: 0.352, \n",
            "compound: 0.2023, neg: 0.0, neu: 0.87, pos: 0.13, \n",
            "compound: 0.802, neg: 0.0, neu: 0.62, pos: 0.38, \n",
            "compound: 0.0, neg: 0.0, neu: 1.0, pos: 0.0, \n",
            "compound: 0.0056, neg: 0.0, neu: 0.949, pos: 0.051, \n",
            "compound: 0.0726, neg: 0.058, neu: 0.874, pos: 0.068, \n",
            "compound: 0.4215, neg: 0.0, neu: 0.763, pos: 0.237, \n",
            "compound: -0.0772, neg: 0.075, neu: 0.86, pos: 0.065, \n",
            "compound: -0.3252, neg: 0.143, neu: 0.857, pos: 0.0, \n",
            "compound: -0.128, neg: 0.064, neu: 0.936, pos: 0.0, \n",
            "compound: 0.3995, neg: 0.0, neu: 0.862, pos: 0.138, \n",
            "compound: 0.0, neg: 0.0, neu: 1.0, pos: 0.0, \n",
            "compound: 0.5719, neg: 0.0, neu: 0.879, pos: 0.121, \n",
            "compound: 0.5719, neg: 0.0, neu: 0.519, pos: 0.481, \n",
            "compound: 0.0, neg: 0.0, neu: 1.0, pos: 0.0, \n",
            "compound: 0.7506, neg: 0.061, neu: 0.694, pos: 0.246, \n",
            "compound: 0.34, neg: 0.0, neu: 0.866, pos: 0.134, \n",
            "compound: -0.2023, neg: 0.189, neu: 0.697, pos: 0.115, \n",
            "compound: 0.2023, neg: 0.0, neu: 0.816, pos: 0.184, \n",
            "compound: 0.3818, neg: 0.0, neu: 0.795, pos: 0.205, \n",
            "compound: 0.5267, neg: 0.061, neu: 0.697, pos: 0.242, \n",
            "compound: -0.0382, neg: 0.113, neu: 0.887, pos: 0.0, \n",
            "compound: 0.0, neg: 0.0, neu: 1.0, pos: 0.0, \n",
            "compound: 0.3197, neg: 0.0, neu: 0.881, pos: 0.119, \n",
            "compound: 0.0, neg: 0.0, neu: 1.0, pos: 0.0, \n",
            "compound: 0.4588, neg: 0.0, neu: 0.826, pos: 0.174, \n",
            "compound: 0.0, neg: 0.0, neu: 1.0, pos: 0.0, \n",
            "compound: 0.4404, neg: 0.0, neu: 0.791, pos: 0.209, \n",
            "compound: 0.0, neg: 0.0, neu: 1.0, pos: 0.0, \n",
            "compound: 0.0, neg: 0.0, neu: 1.0, pos: 0.0, \n",
            "compound: -0.2023, neg: 0.31, neu: 0.69, pos: 0.0, \n",
            "compound: 0.0, neg: 0.0, neu: 1.0, pos: 0.0, \n",
            "compound: 0.7579, neg: 0.0, neu: 0.805, pos: 0.195, \n",
            "compound: 0.0, neg: 0.0, neu: 1.0, pos: 0.0, \n",
            "compound: 0.0, neg: 0.0, neu: 1.0, pos: 0.0, \n",
            "compound: -0.2263, neg: 0.192, neu: 0.808, pos: 0.0, \n",
            "compound: -0.0772, neg: 0.121, neu: 0.769, pos: 0.109, \n",
            "compound: -0.0382, neg: 0.076, neu: 0.924, pos: 0.0, \n",
            "compound: 0.0, neg: 0.0, neu: 1.0, pos: 0.0, \n",
            "compound: 0.1027, neg: 0.0, neu: 0.851, pos: 0.149, \n",
            "compound: 0.0, neg: 0.0, neu: 1.0, pos: 0.0, \n",
            "compound: 0.7906, neg: 0.0, neu: 0.733, pos: 0.267, \n",
            "compound: 0.0, neg: 0.0, neu: 1.0, pos: 0.0, \n",
            "compound: 0.0, neg: 0.0, neu: 1.0, pos: 0.0, \n",
            "compound: 0.5574, neg: 0.053, neu: 0.721, pos: 0.226, \n",
            "compound: 0.0, neg: 0.0, neu: 1.0, pos: 0.0, \n",
            "compound: 0.128, neg: 0.0, neu: 0.783, pos: 0.217, \n",
            "compound: 0.0, neg: 0.0, neu: 1.0, pos: 0.0, \n",
            "compound: 0.0258, neg: 0.0, neu: 0.922, pos: 0.078, \n",
            "compound: -0.25, neg: 0.118, neu: 0.882, pos: 0.0, \n",
            "compound: 0.0, neg: 0.0, neu: 1.0, pos: 0.0, \n",
            "compound: 0.0, neg: 0.0, neu: 1.0, pos: 0.0, \n",
            "compound: -0.6369, neg: 0.302, neu: 0.698, pos: 0.0, \n",
            "compound: 0.34, neg: 0.117, neu: 0.607, pos: 0.276, \n",
            "compound: -0.0572, neg: 0.075, neu: 0.925, pos: 0.0, \n",
            "compound: 0.5129, neg: 0.102, neu: 0.732, pos: 0.166, \n",
            "compound: 0.0, neg: 0.0, neu: 1.0, pos: 0.0, \n",
            "compound: 0.0, neg: 0.0, neu: 1.0, pos: 0.0, \n",
            "compound: 0.4588, neg: 0.0, neu: 0.8, pos: 0.2, \n",
            "compound: 0.0, neg: 0.0, neu: 1.0, pos: 0.0, \n",
            "compound: 0.34, neg: 0.12, neu: 0.6, pos: 0.28, \n",
            "compound: -0.4019, neg: 0.172, neu: 0.828, pos: 0.0, \n",
            "compound: 0.5994, neg: 0.0, neu: 0.671, pos: 0.329, \n",
            "compound: 0.0, neg: 0.0, neu: 1.0, pos: 0.0, \n",
            "compound: 0.34, neg: 0.0, neu: 0.745, pos: 0.255, \n",
            "compound: 0.0, neg: 0.0, neu: 1.0, pos: 0.0, \n",
            "compound: 0.0, neg: 0.0, neu: 1.0, pos: 0.0, \n",
            "compound: -0.3818, neg: 0.2, neu: 0.714, pos: 0.086, \n",
            "compound: -0.25, neg: 0.08, neu: 0.92, pos: 0.0, \n",
            "compound: 0.5106, neg: 0.0, neu: 0.909, pos: 0.091, \n",
            "compound: 0.0, neg: 0.0, neu: 1.0, pos: 0.0, \n",
            "compound: 0.0, neg: 0.0, neu: 1.0, pos: 0.0, \n",
            "compound: -0.3182, neg: 0.078, neu: 0.893, pos: 0.028, \n",
            "compound: -0.5417, neg: 0.6, neu: 0.4, pos: 0.0, \n",
            "compound: 0.0382, neg: 0.0, neu: 0.919, pos: 0.081, \n",
            "compound: 0.3182, neg: 0.0, neu: 0.937, pos: 0.063, \n",
            "compound: 0.3182, neg: 0.0, neu: 0.839, pos: 0.161, \n",
            "compound: 0.0, neg: 0.0, neu: 1.0, pos: 0.0, \n",
            "compound: 0.0382, neg: 0.0, neu: 0.839, pos: 0.161, \n",
            "compound: 0.0, neg: 0.0, neu: 1.0, pos: 0.0, \n",
            "compound: 0.0, neg: 0.0, neu: 1.0, pos: 0.0, \n",
            "compound: 0.0, neg: 0.0, neu: 1.0, pos: 0.0, \n",
            "compound: -0.1531, neg: 0.093, neu: 0.841, pos: 0.065, \n",
            "compound: 0.0951, neg: 0.0, neu: 0.889, pos: 0.111, \n",
            "compound: 0.0, neg: 0.0, neu: 1.0, pos: 0.0, \n",
            "compound: 0.0516, neg: 0.076, neu: 0.815, pos: 0.11, \n",
            "compound: -0.5719, neg: 0.402, neu: 0.598, pos: 0.0, \n",
            "compound: 0.0, neg: 0.0, neu: 1.0, pos: 0.0, \n",
            "compound: 0.2023, neg: 0.0, neu: 0.859, pos: 0.141, \n",
            "compound: -0.5423, neg: 0.147, neu: 0.853, pos: 0.0, \n",
            "compound: -0.0516, neg: 0.375, neu: 0.625, pos: 0.0, \n",
            "compound: 0.2846, neg: 0.0, neu: 0.858, pos: 0.142, \n",
            "compound: 0.0, neg: 0.0, neu: 1.0, pos: 0.0, \n",
            "compound: -0.296, neg: 0.196, neu: 0.804, pos: 0.0, \n",
            "compound: -0.6124, neg: 0.312, neu: 0.688, pos: 0.0, \n",
            "compound: -0.4215, neg: 0.147, neu: 0.853, pos: 0.0, \n",
            "compound: -0.2755, neg: 0.075, neu: 0.925, pos: 0.0, \n",
            "compound: 0.128, neg: 0.12, neu: 0.733, pos: 0.147, \n",
            "compound: -0.1531, neg: 0.348, neu: 0.652, pos: 0.0, \n",
            "compound: 0.0, neg: 0.0, neu: 1.0, pos: 0.0, \n",
            "compound: 0.0, neg: 0.0, neu: 1.0, pos: 0.0, \n",
            "compound: -0.0258, neg: 0.216, neu: 0.784, pos: 0.0, \n",
            "compound: 0.0, neg: 0.0, neu: 1.0, pos: 0.0, \n",
            "compound: 0.34, neg: 0.0, neu: 0.888, pos: 0.112, \n",
            "compound: 0.2023, neg: 0.0, neu: 0.899, pos: 0.101, \n",
            "compound: 0.5574, neg: 0.118, neu: 0.588, pos: 0.294, \n",
            "compound: 0.0, neg: 0.0, neu: 1.0, pos: 0.0, \n",
            "compound: 0.0, neg: 0.0, neu: 1.0, pos: 0.0, \n",
            "compound: -0.3595, neg: 0.137, neu: 0.863, pos: 0.0, \n",
            "compound: -0.4767, neg: 0.22, neu: 0.78, pos: 0.0, \n",
            "compound: 0.0, neg: 0.0, neu: 1.0, pos: 0.0, \n",
            "compound: 0.0, neg: 0.0, neu: 1.0, pos: 0.0, \n",
            "compound: 0.128, neg: 0.0, neu: 0.914, pos: 0.086, \n",
            "compound: -0.6096, neg: 0.178, neu: 0.822, pos: 0.0, \n",
            "compound: 0.0, neg: 0.0, neu: 1.0, pos: 0.0, \n",
            "compound: 0.2006, neg: 0.0, neu: 0.834, pos: 0.166, \n",
            "compound: 0.4228, neg: 0.0, neu: 0.822, pos: 0.178, \n",
            "compound: 0.4588, neg: 0.053, neu: 0.772, pos: 0.175, \n",
            "compound: -0.4703, neg: 0.085, neu: 0.915, pos: 0.0, \n",
            "compound: -0.0516, neg: 0.085, neu: 0.915, pos: 0.0, \n",
            "compound: 0.0516, neg: 0.0, neu: 0.0, pos: 1.0, \n",
            "compound: 0.0, neg: 0.0, neu: 1.0, pos: 0.0, \n",
            "compound: 0.1027, neg: 0.118, neu: 0.727, pos: 0.155, \n",
            "compound: 0.0, neg: 0.061, neu: 0.878, pos: 0.061, \n",
            "compound: 0.25, neg: 0.049, neu: 0.82, pos: 0.131, \n",
            "compound: -0.3182, neg: 0.247, neu: 0.753, pos: 0.0, \n",
            "compound: 0.4588, neg: 0.0, neu: 0.812, pos: 0.188, \n",
            "compound: 0.0, neg: 0.0, neu: 1.0, pos: 0.0, \n",
            "compound: 0.0, neg: 0.0, neu: 1.0, pos: 0.0, \n",
            "compound: 0.0, neg: 0.0, neu: 1.0, pos: 0.0, \n",
            "compound: -0.1027, neg: 0.218, neu: 0.638, pos: 0.144, \n",
            "compound: 0.0, neg: 0.0, neu: 1.0, pos: 0.0, \n",
            "compound: -0.3612, neg: 0.455, neu: 0.545, pos: 0.0, \n",
            "compound: 0.3182, neg: 0.0, neu: 0.897, pos: 0.103, \n",
            "compound: 0.2023, neg: 0.0, neu: 0.833, pos: 0.167, \n",
            "compound: 0.6412, neg: 0.0, neu: 0.8, pos: 0.2, \n",
            "compound: 0.4215, neg: 0.0, neu: 0.781, pos: 0.219, \n",
            "compound: 0.2023, neg: 0.0, neu: 0.913, pos: 0.087, \n",
            "compound: 0.0, neg: 0.0, neu: 1.0, pos: 0.0, \n",
            "compound: 0.0, neg: 0.0, neu: 1.0, pos: 0.0, \n",
            "compound: 0.4588, neg: 0.0, neu: 0.786, pos: 0.214, \n",
            "compound: 0.2008, neg: 0.115, neu: 0.777, pos: 0.108, \n",
            "compound: 0.296, neg: 0.0, neu: 0.856, pos: 0.144, \n",
            "compound: -0.6688, neg: 0.157, neu: 0.843, pos: 0.0, \n",
            "compound: 0.1171, neg: 0.149, neu: 0.571, pos: 0.28, \n",
            "compound: 0.0, neg: 0.109, neu: 0.781, pos: 0.109, \n",
            "compound: 0.5719, neg: 0.0, neu: 0.793, pos: 0.207, \n",
            "compound: 0.0428, neg: 0.096, neu: 0.726, pos: 0.178, \n",
            "compound: -0.0516, neg: 0.054, neu: 0.946, pos: 0.0, \n",
            "compound: 0.0, neg: 0.0, neu: 1.0, pos: 0.0, \n",
            "compound: 0.1027, neg: 0.131, neu: 0.724, pos: 0.145, \n",
            "compound: -0.5411, neg: 0.164, neu: 0.786, pos: 0.05, \n",
            "compound: 0.0, neg: 0.0, neu: 1.0, pos: 0.0, \n",
            "compound: 0.3802, neg: 0.0, neu: 0.909, pos: 0.091, \n",
            "compound: 0.0, neg: 0.0, neu: 1.0, pos: 0.0, \n",
            "compound: 0.3818, neg: 0.0, neu: 0.843, pos: 0.157, \n",
            "compound: 0.4767, neg: 0.088, neu: 0.737, pos: 0.176, \n",
            "compound: -0.2023, neg: 0.101, neu: 0.899, pos: 0.0, \n",
            "compound: 0.0, neg: 0.0, neu: 1.0, pos: 0.0, \n",
            "compound: 0.0, neg: 0.0, neu: 1.0, pos: 0.0, \n",
            "compound: 0.7717, neg: 0.0, neu: 0.438, pos: 0.562, \n",
            "compound: 0.4019, neg: 0.0, neu: 0.816, pos: 0.184, \n",
            "compound: 0.0, neg: 0.0, neu: 1.0, pos: 0.0, \n",
            "compound: 0.3987, neg: 0.0, neu: 0.953, pos: 0.047, \n",
            "compound: 0.5562, neg: 0.0, neu: 0.898, pos: 0.102, \n",
            "compound: 0.5837, neg: 0.0, neu: 0.769, pos: 0.231, \n",
            "compound: 0.3818, neg: 0.0, neu: 0.847, pos: 0.153, \n",
            "compound: 0.9097, neg: 0.0, neu: 0.732, pos: 0.268, \n",
            "compound: 0.2263, neg: 0.0, neu: 0.881, pos: 0.119, \n",
            "compound: 0.0, neg: 0.0, neu: 1.0, pos: 0.0, \n",
            "compound: 0.0, neg: 0.0, neu: 1.0, pos: 0.0, \n",
            "compound: -0.2732, neg: 0.114, neu: 0.822, pos: 0.064, \n",
            "compound: -0.2714, neg: 0.096, neu: 0.904, pos: 0.0, \n",
            "compound: 0.6318, neg: 0.0, neu: 0.823, pos: 0.177, \n",
            "compound: 0.7351, neg: 0.0, neu: 0.816, pos: 0.184, \n",
            "compound: 0.3818, neg: 0.0, neu: 0.843, pos: 0.157, \n",
            "compound: 0.6901, neg: 0.0, neu: 0.711, pos: 0.289, \n",
            "compound: 0.4404, neg: 0.0, neu: 0.734, pos: 0.266, \n",
            "compound: 0.6486, neg: 0.0, neu: 0.858, pos: 0.142, \n",
            "compound: 0.0, neg: 0.0, neu: 1.0, pos: 0.0, \n",
            "compound: -0.4939, neg: 0.113, neu: 0.838, pos: 0.049, \n",
            "compound: -0.6124, neg: 0.312, neu: 0.688, pos: 0.0, \n",
            "compound: 0.8173, neg: 0.0, neu: 0.717, pos: 0.283, \n",
            "compound: 0.4003, neg: 0.0, neu: 0.821, pos: 0.179, \n",
            "compound: 0.0, neg: 0.0, neu: 1.0, pos: 0.0, \n",
            "compound: 0.128, neg: 0.0, neu: 0.958, pos: 0.042, \n",
            "compound: 0.4215, neg: 0.0, neu: 0.682, pos: 0.318, \n",
            "compound: 0.8493, neg: 0.053, neu: 0.624, pos: 0.323, \n",
            "compound: 0.0, neg: 0.0, neu: 1.0, pos: 0.0, \n",
            "compound: 0.5859, neg: 0.0, neu: 0.648, pos: 0.352, \n",
            "compound: 0.6892, neg: 0.0, neu: 0.893, pos: 0.107, \n",
            "compound: 0.3147, neg: 0.0, neu: 0.914, pos: 0.086, \n",
            "compound: 0.3818, neg: 0.0, neu: 0.658, pos: 0.342, \n",
            "compound: 0.1027, neg: 0.0, neu: 0.887, pos: 0.113, \n",
            "compound: 0.6361, neg: 0.0, neu: 0.839, pos: 0.161, \n",
            "compound: -0.2732, neg: 0.149, neu: 0.851, pos: 0.0, \n",
            "compound: 0.1779, neg: 0.0, neu: 0.909, pos: 0.091, \n",
            "compound: 0.2732, neg: 0.122, neu: 0.717, pos: 0.161, \n",
            "compound: 0.296, neg: 0.0, neu: 0.862, pos: 0.138, \n",
            "compound: 0.2023, neg: 0.0, neu: 0.816, pos: 0.184, \n",
            "compound: 0.0, neg: 0.0, neu: 1.0, pos: 0.0, \n",
            "compound: 0.0, neg: 0.0, neu: 1.0, pos: 0.0, \n",
            "compound: 0.6369, neg: 0.0, neu: 0.785, pos: 0.215, \n",
            "compound: 0.0772, neg: 0.0, neu: 0.86, pos: 0.14, \n",
            "compound: 0.4391, neg: 0.0, neu: 0.806, pos: 0.194, \n",
            "compound: 0.2023, neg: 0.0, neu: 0.87, pos: 0.13, \n",
            "compound: 0.0, neg: 0.0, neu: 1.0, pos: 0.0, \n",
            "compound: 0.0, neg: 0.0, neu: 1.0, pos: 0.0, \n",
            "compound: -0.1078, neg: 0.0, neu: 1.0, pos: 0.0, \n",
            "compound: 0.4019, neg: 0.0, neu: 0.847, pos: 0.153, \n",
            "compound: 0.3415, neg: 0.0, neu: 0.294, pos: 0.706, \n",
            "compound: 0.0, neg: 0.0, neu: 1.0, pos: 0.0, \n",
            "compound: 0.0, neg: 0.0, neu: 1.0, pos: 0.0, \n",
            "compound: 0.0, neg: 0.0, neu: 1.0, pos: 0.0, \n",
            "compound: 0.2235, neg: 0.0, neu: 0.9, pos: 0.1, \n",
            "compound: 0.1326, neg: 0.0, neu: 0.895, pos: 0.105, \n",
            "compound: 0.0, neg: 0.0, neu: 1.0, pos: 0.0, \n",
            "compound: 0.1027, neg: 0.0, neu: 0.676, pos: 0.324, \n",
            "compound: 0.0, neg: 0.0, neu: 1.0, pos: 0.0, \n",
            "compound: 0.3658, neg: 0.0, neu: 0.665, pos: 0.335, \n",
            "compound: -0.2411, neg: 0.197, neu: 0.803, pos: 0.0, \n",
            "compound: 0.0, neg: 0.0, neu: 1.0, pos: 0.0, \n",
            "compound: 0.296, neg: 0.062, neu: 0.817, pos: 0.12, \n",
            "compound: -0.3532, neg: 0.224, neu: 0.776, pos: 0.0, \n",
            "compound: 0.0, neg: 0.0, neu: 1.0, pos: 0.0, \n",
            "compound: 0.0, neg: 0.0, neu: 1.0, pos: 0.0, \n",
            "compound: -0.34, neg: 0.221, neu: 0.779, pos: 0.0, \n",
            "compound: 0.0, neg: 0.0, neu: 1.0, pos: 0.0, \n",
            "compound: 0.0, neg: 0.0, neu: 1.0, pos: 0.0, \n",
            "compound: -0.1695, neg: 0.114, neu: 0.886, pos: 0.0, \n",
            "compound: 0.3818, neg: 0.0, neu: 0.357, pos: 0.643, \n",
            "compound: -0.0271, neg: 0.0, neu: 1.0, pos: 0.0, \n",
            "compound: 0.0, neg: 0.0, neu: 1.0, pos: 0.0, \n",
            "compound: 0.0, neg: 0.0, neu: 1.0, pos: 0.0, \n",
            "compound: -0.0271, neg: 0.0, neu: 1.0, pos: 0.0, \n",
            "compound: -0.3612, neg: 0.333, neu: 0.667, pos: 0.0, \n",
            "compound: 0.0, neg: 0.0, neu: 1.0, pos: 0.0, \n",
            "compound: -0.4019, neg: 0.184, neu: 0.816, pos: 0.0, \n",
            "compound: -0.4019, neg: 0.213, neu: 0.787, pos: 0.0, \n",
            "compound: -0.4019, neg: 0.13, neu: 0.87, pos: 0.0, \n",
            "compound: 0.0, neg: 0.0, neu: 1.0, pos: 0.0, \n",
            "compound: 0.0, neg: 0.0, neu: 1.0, pos: 0.0, \n",
            "compound: 0.0, neg: 0.0, neu: 1.0, pos: 0.0, \n",
            "compound: 0.0, neg: 0.0, neu: 1.0, pos: 0.0, \n",
            "compound: 0.3612, neg: 0.0, neu: 0.545, pos: 0.455, \n",
            "compound: 0.0, neg: 0.0, neu: 1.0, pos: 0.0, \n",
            "compound: 0.1027, neg: 0.0, neu: 0.588, pos: 0.412, \n",
            "compound: 0.0951, neg: 0.0, neu: 0.88, pos: 0.12, \n",
            "compound: 0.0, neg: 0.0, neu: 1.0, pos: 0.0, \n",
            "compound: 0.0, neg: 0.0, neu: 1.0, pos: 0.0, \n",
            "compound: 0.0, neg: 0.0, neu: 1.0, pos: 0.0, \n",
            "compound: 0.0, neg: 0.0, neu: 1.0, pos: 0.0, \n",
            "compound: 0.0, neg: 0.0, neu: 1.0, pos: 0.0, \n",
            "compound: -0.0271, neg: 0.0, neu: 1.0, pos: 0.0, \n",
            "compound: 0.0, neg: 0.0, neu: 1.0, pos: 0.0, \n",
            "compound: -0.4019, neg: 0.094, neu: 0.906, pos: 0.0, \n",
            "compound: 0.0, neg: 0.0, neu: 1.0, pos: 0.0, \n",
            "compound: 0.0, neg: 0.0, neu: 1.0, pos: 0.0, \n",
            "compound: 0.0, neg: 0.0, neu: 1.0, pos: 0.0, \n",
            "compound: 0.0, neg: 0.0, neu: 1.0, pos: 0.0, \n",
            "compound: 0.0, neg: 0.0, neu: 1.0, pos: 0.0, \n",
            "compound: 0.0, neg: 0.0, neu: 1.0, pos: 0.0, \n",
            "compound: 0.0, neg: 0.0, neu: 1.0, pos: 0.0, \n",
            "compound: 0.4404, neg: 0.0, neu: 0.734, pos: 0.266, \n",
            "compound: -0.6705, neg: 0.191, neu: 0.809, pos: 0.0, \n",
            "compound: 0.0, neg: 0.0, neu: 1.0, pos: 0.0, \n",
            "compound: -0.2732, neg: 0.1, neu: 0.9, pos: 0.0, \n",
            "compound: -0.25, neg: 0.129, neu: 0.781, pos: 0.09, \n",
            "compound: 0.0, neg: 0.0, neu: 1.0, pos: 0.0, \n",
            "compound: -0.6705, neg: 0.141, neu: 0.814, pos: 0.045, \n",
            "compound: -0.7269, neg: 0.198, neu: 0.742, pos: 0.061, \n",
            "compound: 0.3818, neg: 0.0, neu: 0.755, pos: 0.245, \n",
            "compound: 0.0, neg: 0.0, neu: 1.0, pos: 0.0, \n",
            "compound: 0.0, neg: 0.0, neu: 1.0, pos: 0.0, \n",
            "compound: -0.0258, neg: 0.076, neu: 0.807, pos: 0.117, \n",
            "compound: -0.6444, neg: 0.19, neu: 0.722, pos: 0.088, \n",
            "compound: 0.4404, neg: 0.0, neu: 0.896, pos: 0.104, \n",
            "compound: 0.8306, neg: 0.0, neu: 0.854, pos: 0.146, \n",
            "compound: 0.6476, neg: 0.039, neu: 0.754, pos: 0.207, \n",
            "compound: 0.1759, neg: 0.0, neu: 0.931, pos: 0.069, \n",
            "compound: -0.3395, neg: 0.174, neu: 0.741, pos: 0.085, \n",
            "compound: 0.0, neg: 0.0, neu: 1.0, pos: 0.0, \n",
            "compound: 0.8655, neg: 0.0, neu: 0.774, pos: 0.226, \n",
            "compound: 0.2905, neg: 0.085, neu: 0.785, pos: 0.13, \n",
            "compound: -0.3331, neg: 0.039, neu: 0.926, pos: 0.035, \n",
            "compound: 0.5106, neg: 0.0, neu: 0.922, pos: 0.078, \n",
            "compound: 0.5093, neg: 0.0, neu: 0.875, pos: 0.125, \n",
            "compound: 0.1581, neg: 0.073, neu: 0.847, pos: 0.079, \n",
            "compound: 0.6324, neg: 0.0, neu: 0.767, pos: 0.233, \n",
            "compound: 0.2023, neg: 0.0, neu: 0.859, pos: 0.141, \n",
            "compound: 0.0, neg: 0.0, neu: 1.0, pos: 0.0, \n",
            "compound: 0.0, neg: 0.0, neu: 1.0, pos: 0.0, \n",
            "compound: 0.0, neg: 0.0, neu: 1.0, pos: 0.0, \n",
            "compound: 0.3365, neg: 0.0, neu: 0.886, pos: 0.114, \n",
            "compound: 0.0, neg: 0.0, neu: 1.0, pos: 0.0, \n",
            "compound: 0.5972, neg: 0.0, neu: 0.788, pos: 0.212, \n",
            "compound: 0.5972, neg: 0.0, neu: 0.788, pos: 0.212, \n",
            "compound: 0.2714, neg: 0.0, neu: 0.87, pos: 0.13, \n",
            "compound: 0.3365, neg: 0.0, neu: 0.859, pos: 0.141, \n",
            "compound: 0.2023, neg: 0.0, neu: 0.924, pos: 0.076, \n",
            "compound: 0.6124, neg: 0.0, neu: 0.821, pos: 0.179, \n",
            "compound: 0.0, neg: 0.0, neu: 1.0, pos: 0.0, \n",
            "compound: 0.4574, neg: 0.0, neu: 0.856, pos: 0.144, \n",
            "compound: 0.0, neg: 0.0, neu: 1.0, pos: 0.0, \n",
            "compound: 0.1531, neg: 0.0, neu: 0.873, pos: 0.127, \n",
            "compound: -0.2584, neg: 0.12, neu: 0.83, pos: 0.05, \n",
            "compound: -0.1531, neg: 0.186, neu: 0.814, pos: 0.0, \n",
            "compound: 0.7096, neg: 0.057, neu: 0.701, pos: 0.243, \n",
            "compound: -0.0516, neg: 0.108, neu: 0.795, pos: 0.097, \n",
            "compound: 0.5719, neg: 0.071, neu: 0.601, pos: 0.328, \n",
            "compound: 0.5267, neg: 0.0, neu: 0.779, pos: 0.221, \n",
            "compound: 0.0, neg: 0.0, neu: 1.0, pos: 0.0, \n"
          ]
        }
      ],
      "source": [
        "for sentence in sentencesMT:\n",
        "        scores = SIA.polarity_scores(sentence)\n",
        "        for key in sorted(scores):\n",
        "                print('{0}: {1}, '.format(key, scores[key]), end='')\n",
        "        print()"
      ]
    },
    {
      "cell_type": "code",
      "execution_count": 46,
      "id": "5d89d062",
      "metadata": {
        "colab": {
          "base_uri": "https://localhost:8080/"
        },
        "id": "5d89d062",
        "outputId": "4997fadf-f59b-4e0a-8ac6-8fec98cd3d49"
      },
      "outputs": [
        {
          "output_type": "stream",
          "name": "stdout",
          "text": [
            "compound: 0.5423, neg: 0.068, neu: 0.712, pos: 0.22, \n",
            "compound: 0.0, neg: 0.0, neu: 1.0, pos: 0.0, \n",
            "compound: 0.0, neg: 0.0, neu: 1.0, pos: 0.0, \n",
            "compound: 0.4728, neg: 0.0, neu: 0.864, pos: 0.136, \n",
            "compound: 0.4215, neg: 0.0, neu: 0.843, pos: 0.157, \n",
            "compound: 0.0, neg: 0.0, neu: 1.0, pos: 0.0, \n",
            "compound: 0.5574, neg: 0.056, neu: 0.789, pos: 0.154, \n",
            "compound: 0.0, neg: 0.0, neu: 1.0, pos: 0.0, \n",
            "compound: 0.0, neg: 0.0, neu: 1.0, pos: 0.0, \n",
            "compound: 0.0, neg: 0.0, neu: 1.0, pos: 0.0, \n",
            "compound: 0.0, neg: 0.0, neu: 1.0, pos: 0.0, \n",
            "compound: 0.6369, neg: 0.0, neu: 0.885, pos: 0.115, \n",
            "compound: 0.0772, neg: 0.135, neu: 0.717, pos: 0.148, \n",
            "compound: -0.2023, neg: 0.096, neu: 0.904, pos: 0.0, \n",
            "compound: -0.4219, neg: 0.147, neu: 0.853, pos: 0.0, \n",
            "compound: 0.0, neg: 0.0, neu: 1.0, pos: 0.0, \n",
            "compound: -0.4939, neg: 0.286, neu: 0.714, pos: 0.0, \n",
            "compound: 0.0, neg: 0.0, neu: 1.0, pos: 0.0, \n",
            "compound: 0.0, neg: 0.0, neu: 1.0, pos: 0.0, \n",
            "compound: 0.4576, neg: 0.0, neu: 0.734, pos: 0.266, \n",
            "compound: -0.1531, neg: 0.082, neu: 0.918, pos: 0.0, \n",
            "compound: 0.0717, neg: 0.0, neu: 0.846, pos: 0.154, \n",
            "compound: 0.0, neg: 0.0, neu: 1.0, pos: 0.0, \n",
            "compound: -0.4158, neg: 0.284, neu: 0.716, pos: 0.0, \n",
            "compound: 0.128, neg: 0.0, neu: 0.909, pos: 0.091, \n",
            "compound: 0.0, neg: 0.0, neu: 1.0, pos: 0.0, \n",
            "compound: 0.0, neg: 0.0, neu: 1.0, pos: 0.0, \n",
            "compound: 0.0, neg: 0.0, neu: 1.0, pos: 0.0, \n",
            "compound: 0.0, neg: 0.0, neu: 1.0, pos: 0.0, \n",
            "compound: 0.5994, neg: 0.0, neu: 0.692, pos: 0.308, \n",
            "compound: -0.197, neg: 0.069, neu: 0.931, pos: 0.0, \n",
            "compound: -0.3774, neg: 0.292, neu: 0.565, pos: 0.143, \n",
            "compound: 0.0516, neg: 0.147, neu: 0.735, pos: 0.118, \n",
            "compound: -0.2263, neg: 0.16, neu: 0.84, pos: 0.0, \n",
            "compound: -0.2732, neg: 0.16, neu: 0.84, pos: 0.0, \n",
            "compound: -0.3182, neg: 0.141, neu: 0.785, pos: 0.073, \n",
            "compound: 0.374, neg: 0.0, neu: 0.74, pos: 0.26, \n",
            "compound: 0.4939, neg: 0.0, neu: 0.792, pos: 0.208, \n",
            "compound: 0.5907, neg: 0.0, neu: 0.623, pos: 0.377, \n",
            "compound: -0.0377, neg: 0.0, neu: 1.0, pos: 0.0, \n",
            "compound: -0.2732, neg: 0.126, neu: 0.804, pos: 0.07, \n",
            "compound: 0.0516, neg: 0.0, neu: 0.806, pos: 0.194, \n",
            "compound: 0.0516, neg: 0.0, neu: 0.714, pos: 0.286, \n",
            "compound: 0.4939, neg: 0.101, neu: 0.674, pos: 0.225, \n",
            "compound: 0.7906, neg: 0.0, neu: 0.632, pos: 0.368, \n",
            "compound: 0.5082, neg: 0.0, neu: 0.63, pos: 0.37, \n",
            "compound: 0.0951, neg: 0.0, neu: 0.785, pos: 0.215, \n",
            "compound: 0.1027, neg: 0.049, neu: 0.892, pos: 0.059, \n",
            "compound: 0.5423, neg: 0.0, neu: 0.741, pos: 0.259, \n",
            "compound: 0.0, neg: 0.0, neu: 1.0, pos: 0.0, \n",
            "compound: 0.6289, neg: 0.051, neu: 0.618, pos: 0.331, \n",
            "compound: -0.3182, neg: 0.099, neu: 0.901, pos: 0.0, \n",
            "compound: 0.2755, neg: 0.0, neu: 0.883, pos: 0.117, \n",
            "compound: 0.8129, neg: 0.036, neu: 0.707, pos: 0.257, \n",
            "compound: -0.7783, neg: 0.218, neu: 0.782, pos: 0.0, \n",
            "compound: -0.5141, neg: 0.084, neu: 0.916, pos: 0.0, \n",
            "compound: 0.0, neg: 0.0, neu: 1.0, pos: 0.0, \n",
            "compound: 0.0, neg: 0.0, neu: 1.0, pos: 0.0, \n",
            "compound: 0.128, neg: 0.085, neu: 0.81, pos: 0.105, \n",
            "compound: 0.0, neg: 0.0, neu: 1.0, pos: 0.0, \n",
            "compound: -0.2003, neg: 0.152, neu: 0.848, pos: 0.0, \n",
            "compound: -0.0377, neg: 0.0, neu: 1.0, pos: 0.0, \n",
            "compound: 0.0, neg: 0.0, neu: 1.0, pos: 0.0, \n",
            "compound: -0.5256, neg: 0.22, neu: 0.78, pos: 0.0, \n",
            "compound: 0.0, neg: 0.0, neu: 1.0, pos: 0.0, \n",
            "compound: 0.0, neg: 0.0, neu: 1.0, pos: 0.0, \n",
            "compound: 0.0, neg: 0.0, neu: 1.0, pos: 0.0, \n",
            "compound: 0.0, neg: 0.0, neu: 1.0, pos: 0.0, \n",
            "compound: 0.2003, neg: 0.0, neu: 0.691, pos: 0.309, \n",
            "compound: -0.2944, neg: 0.354, neu: 0.646, pos: 0.0, \n",
            "compound: 0.0, neg: 0.0, neu: 1.0, pos: 0.0, \n",
            "compound: 0.8628, neg: 0.0, neu: 0.608, pos: 0.392, \n",
            "compound: -0.0271, neg: 0.0, neu: 1.0, pos: 0.0, \n",
            "compound: -0.296, neg: 0.121, neu: 0.879, pos: 0.0, \n",
            "compound: 0.0516, neg: 0.0, neu: 0.833, pos: 0.167, \n",
            "compound: -0.128, neg: 0.077, neu: 0.923, pos: 0.0, \n",
            "compound: 0.0, neg: 0.0, neu: 1.0, pos: 0.0, \n",
            "compound: 0.0, neg: 0.0, neu: 1.0, pos: 0.0, \n",
            "compound: 0.4926, neg: 0.0, neu: 0.816, pos: 0.184, \n",
            "compound: 0.0258, neg: 0.0, neu: 0.879, pos: 0.121, \n",
            "compound: 0.0, neg: 0.0, neu: 1.0, pos: 0.0, \n",
            "compound: 0.4784, neg: 0.0, neu: 0.78, pos: 0.22, \n",
            "compound: 0.0, neg: 0.0, neu: 1.0, pos: 0.0, \n",
            "compound: -0.0271, neg: 0.0, neu: 1.0, pos: 0.0, \n",
            "compound: -0.0377, neg: 0.0, neu: 1.0, pos: 0.0, \n",
            "compound: -0.2755, neg: 0.156, neu: 0.748, pos: 0.096, \n",
            "compound: -0.128, neg: 0.054, neu: 0.901, pos: 0.045, \n",
            "compound: -0.2415, neg: 0.118, neu: 0.762, pos: 0.12, \n",
            "compound: 0.4404, neg: 0.0, neu: 0.851, pos: 0.149, \n",
            "compound: 0.0258, neg: 0.117, neu: 0.759, pos: 0.124, \n",
            "compound: 0.0, neg: 0.0, neu: 1.0, pos: 0.0, \n",
            "compound: 0.34, neg: 0.0, neu: 0.854, pos: 0.146, \n",
            "compound: 0.3595, neg: 0.0, neu: 0.814, pos: 0.186, \n",
            "compound: 0.4215, neg: 0.0, neu: 0.851, pos: 0.149, \n",
            "compound: -0.0258, neg: 0.248, neu: 0.573, pos: 0.178, \n",
            "compound: 0.7777, neg: 0.0, neu: 0.874, pos: 0.126, \n",
            "compound: -0.2263, neg: 0.214, neu: 0.629, pos: 0.157, \n",
            "compound: -0.6908, neg: 0.192, neu: 0.808, pos: 0.0, \n",
            "compound: -0.3597, neg: 0.294, neu: 0.706, pos: 0.0, \n",
            "compound: 0.9136, neg: 0.0, neu: 0.75, pos: 0.25, \n",
            "compound: -0.8126, neg: 0.266, neu: 0.734, pos: 0.0, \n",
            "compound: -0.3597, neg: 0.172, neu: 0.828, pos: 0.0, \n",
            "compound: 0.2023, neg: 0.0, neu: 0.899, pos: 0.101, \n",
            "compound: 0.0, neg: 0.0, neu: 1.0, pos: 0.0, \n",
            "compound: 0.0516, neg: 0.0, neu: 0.806, pos: 0.194, \n",
            "compound: 0.0, neg: 0.0, neu: 1.0, pos: 0.0, \n",
            "compound: 0.0, neg: 0.0, neu: 1.0, pos: 0.0, \n",
            "compound: 0.0, neg: 0.0, neu: 1.0, pos: 0.0, \n",
            "compound: 0.0, neg: 0.0, neu: 1.0, pos: 0.0, \n",
            "compound: 0.0762, neg: 0.0, neu: 0.92, pos: 0.08, \n",
            "compound: 0.3804, neg: 0.0, neu: 0.822, pos: 0.178, \n",
            "compound: 0.2363, neg: 0.137, neu: 0.668, pos: 0.194, \n",
            "compound: -0.2263, neg: 0.174, neu: 0.826, pos: 0.0, \n",
            "compound: 0.0, neg: 0.0, neu: 1.0, pos: 0.0, \n",
            "compound: -0.3182, neg: 0.114, neu: 0.784, pos: 0.102, \n",
            "compound: 0.2263, neg: 0.0, neu: 0.808, pos: 0.192, \n",
            "compound: -0.1531, neg: 0.122, neu: 0.793, pos: 0.085, \n",
            "compound: 0.3182, neg: 0.047, neu: 0.856, pos: 0.097, \n",
            "compound: -0.1779, neg: 0.134, neu: 0.758, pos: 0.108, \n",
            "compound: 0.4588, neg: 0.0, neu: 0.842, pos: 0.158, \n",
            "compound: 0.3612, neg: 0.0, neu: 0.8, pos: 0.2, \n",
            "compound: 0.5267, neg: 0.0, neu: 0.815, pos: 0.185, \n",
            "compound: 0.5878, neg: 0.0, neu: 0.714, pos: 0.286, \n",
            "compound: 0.1027, neg: 0.0, neu: 0.931, pos: 0.069, \n",
            "compound: -0.5423, neg: 0.368, neu: 0.632, pos: 0.0, \n",
            "compound: 0.0, neg: 0.0, neu: 1.0, pos: 0.0, \n",
            "compound: -0.128, neg: 0.046, neu: 0.954, pos: 0.0, \n",
            "compound: 0.3818, neg: 0.0, neu: 0.902, pos: 0.098, \n",
            "compound: 0.6152, neg: 0.076, neu: 0.717, pos: 0.207, \n",
            "compound: -0.0516, neg: 0.097, neu: 0.765, pos: 0.138, \n",
            "compound: 0.1531, neg: 0.116, neu: 0.741, pos: 0.144, \n",
            "compound: 0.296, neg: 0.0, neu: 0.694, pos: 0.306, \n",
            "compound: -0.3565, neg: 0.212, neu: 0.669, pos: 0.119, \n",
            "compound: 0.2263, neg: 0.0, neu: 0.925, pos: 0.075, \n",
            "compound: 0.0, neg: 0.0, neu: 1.0, pos: 0.0, \n",
            "compound: 0.0, neg: 0.0, neu: 1.0, pos: 0.0, \n",
            "compound: 0.0, neg: 0.044, neu: 0.912, pos: 0.044, \n",
            "compound: -0.3187, neg: 0.122, neu: 0.814, pos: 0.063, \n",
            "compound: 0.2263, neg: 0.0, neu: 0.913, pos: 0.087, \n",
            "compound: 0.0, neg: 0.0, neu: 1.0, pos: 0.0, \n",
            "compound: 0.2714, neg: 0.0, neu: 0.847, pos: 0.153, \n",
            "compound: 0.3818, neg: 0.0, neu: 0.278, pos: 0.722, \n",
            "compound: 0.34, neg: 0.0, neu: 0.918, pos: 0.082, \n",
            "compound: 0.2732, neg: 0.0, neu: 0.87, pos: 0.13, \n",
            "compound: 0.0, neg: 0.0, neu: 1.0, pos: 0.0, \n",
            "compound: 0.93, neg: 0.042, neu: 0.689, pos: 0.269, \n",
            "compound: 0.25, neg: 0.0, neu: 0.875, pos: 0.125, \n",
            "compound: 0.6597, neg: 0.0, neu: 0.484, pos: 0.516, \n",
            "compound: 0.5413, neg: 0.082, neu: 0.771, pos: 0.146, \n",
            "compound: 0.0, neg: 0.0, neu: 1.0, pos: 0.0, \n",
            "compound: 0.2023, neg: 0.0, neu: 0.847, pos: 0.153, \n",
            "compound: 0.0, neg: 0.0, neu: 1.0, pos: 0.0, \n",
            "compound: 0.0, neg: 0.0, neu: 1.0, pos: 0.0, \n",
            "compound: 0.4019, neg: 0.0, neu: 0.722, pos: 0.278, \n",
            "compound: 0.2023, neg: 0.0, neu: 0.913, pos: 0.087, \n",
            "compound: 0.1695, neg: 0.0, neu: 0.783, pos: 0.217, \n",
            "compound: 0.2023, neg: 0.0, neu: 0.735, pos: 0.265, \n",
            "compound: 0.8074, neg: 0.0, neu: 0.743, pos: 0.257, \n",
            "compound: -0.3612, neg: 0.556, neu: 0.444, pos: 0.0, \n",
            "compound: 0.34, neg: 0.0, neu: 0.789, pos: 0.211, \n",
            "compound: 0.5994, neg: 0.0, neu: 0.741, pos: 0.259, \n",
            "compound: 0.0, neg: 0.0, neu: 1.0, pos: 0.0, \n",
            "compound: 0.0, neg: 0.0, neu: 1.0, pos: 0.0, \n",
            "compound: 0.0, neg: 0.0, neu: 1.0, pos: 0.0, \n",
            "compound: -0.1027, neg: 0.176, neu: 0.686, pos: 0.137, \n",
            "compound: 0.4588, neg: 0.0, neu: 0.786, pos: 0.214, \n",
            "compound: -0.128, neg: 0.109, neu: 0.806, pos: 0.085, \n",
            "compound: -0.2263, neg: 0.064, neu: 0.896, pos: 0.039, \n",
            "compound: 0.0, neg: 0.0, neu: 1.0, pos: 0.0, \n",
            "compound: 0.1027, neg: 0.0, neu: 0.877, pos: 0.123, \n",
            "compound: -0.34, neg: 0.324, neu: 0.676, pos: 0.0, \n",
            "compound: 0.1027, neg: 0.0, neu: 0.928, pos: 0.072, \n",
            "compound: 0.0, neg: 0.0, neu: 1.0, pos: 0.0, \n",
            "compound: 0.34, neg: 0.0, neu: 0.815, pos: 0.185, \n",
            "compound: 0.2714, neg: 0.0, neu: 0.886, pos: 0.114, \n",
            "compound: 0.2023, neg: 0.0, neu: 0.94, pos: 0.06, \n",
            "compound: 0.0, neg: 0.0, neu: 1.0, pos: 0.0, \n",
            "compound: 0.0, neg: 0.0, neu: 1.0, pos: 0.0, \n",
            "compound: 0.3182, neg: 0.0, neu: 0.859, pos: 0.141, \n",
            "compound: -0.1779, neg: 0.285, neu: 0.518, pos: 0.197, \n",
            "compound: 0.3818, neg: 0.0, neu: 0.66, pos: 0.34, \n",
            "compound: 0.4062, neg: 0.0, neu: 0.688, pos: 0.312, \n",
            "compound: -0.1531, neg: 0.127, neu: 0.873, pos: 0.0, \n",
            "compound: -0.2732, neg: 0.189, neu: 0.811, pos: 0.0, \n",
            "compound: -0.6124, neg: 0.252, neu: 0.693, pos: 0.054, \n",
            "compound: -0.4215, neg: 0.177, neu: 0.752, pos: 0.071, \n",
            "compound: 0.6486, neg: 0.0, neu: 0.773, pos: 0.227, \n",
            "compound: 0.0, neg: 0.0, neu: 1.0, pos: 0.0, \n",
            "compound: 0.0, neg: 0.0, neu: 1.0, pos: 0.0, \n",
            "compound: 0.0, neg: 0.0, neu: 1.0, pos: 0.0, \n",
            "compound: -0.128, neg: 0.101, neu: 0.828, pos: 0.071, \n",
            "compound: 0.0018, neg: 0.2, neu: 0.6, pos: 0.201, \n",
            "compound: -0.5733, neg: 0.426, neu: 0.574, pos: 0.0, \n",
            "compound: -0.8519, neg: 0.538, neu: 0.462, pos: 0.0, \n",
            "compound: 0.0, neg: 0.0, neu: 1.0, pos: 0.0, \n",
            "compound: -0.4019, neg: 0.162, neu: 0.838, pos: 0.0, \n",
            "compound: 0.34, neg: 0.0, neu: 0.556, pos: 0.444, \n",
            "compound: 0.34, neg: 0.0, neu: 0.556, pos: 0.444, \n",
            "compound: -0.5574, neg: 0.474, neu: 0.526, pos: 0.0, \n",
            "compound: 0.0382, neg: 0.0, neu: 0.813, pos: 0.187, \n",
            "compound: -0.8402, neg: 0.25, neu: 0.75, pos: 0.0, \n",
            "compound: -0.7783, neg: 0.256, neu: 0.705, pos: 0.038, \n",
            "compound: 0.0, neg: 0.0, neu: 1.0, pos: 0.0, \n",
            "compound: 0.0, neg: 0.0, neu: 1.0, pos: 0.0, \n",
            "compound: 0.34, neg: 0.0, neu: 0.625, pos: 0.375, \n",
            "compound: -0.0772, neg: 0.394, neu: 0.606, pos: 0.0, \n",
            "compound: 0.34, neg: 0.0, neu: 0.625, pos: 0.375, \n",
            "compound: 0.0, neg: 0.0, neu: 1.0, pos: 0.0, \n",
            "compound: 0.4939, neg: 0.0, neu: 0.385, pos: 0.615, \n",
            "compound: 0.1063, neg: 0.128, neu: 0.707, pos: 0.165, \n",
            "compound: 0.0, neg: 0.0, neu: 1.0, pos: 0.0, \n",
            "compound: 0.7587, neg: 0.0, neu: 0.779, pos: 0.221, \n",
            "compound: 0.2023, neg: 0.0, neu: 0.769, pos: 0.231, \n",
            "compound: 0.0, neg: 0.0, neu: 1.0, pos: 0.0, \n",
            "compound: 0.2057, neg: 0.0, neu: 0.794, pos: 0.206, \n",
            "compound: 0.7269, neg: 0.0, neu: 0.882, pos: 0.118, \n",
            "compound: 0.0, neg: 0.0, neu: 1.0, pos: 0.0, \n",
            "compound: 0.0, neg: 0.0, neu: 1.0, pos: 0.0, \n",
            "compound: -0.357, neg: 0.216, neu: 0.784, pos: 0.0, \n",
            "compound: -0.0516, neg: 0.05, neu: 0.95, pos: 0.0, \n",
            "compound: -0.0772, neg: 0.061, neu: 0.939, pos: 0.0, \n",
            "compound: 0.0, neg: 0.0, neu: 1.0, pos: 0.0, \n",
            "compound: 0.5267, neg: 0.0, neu: 0.884, pos: 0.116, \n",
            "compound: 0.3182, neg: 0.0, neu: 0.798, pos: 0.202, \n",
            "compound: 0.0, neg: 0.0, neu: 1.0, pos: 0.0, \n",
            "compound: 0.129, neg: 0.092, neu: 0.78, pos: 0.128, \n",
            "compound: -0.1513, neg: 0.285, neu: 0.715, pos: 0.0, \n",
            "compound: -0.0258, neg: 0.046, neu: 0.954, pos: 0.0, \n",
            "compound: 0.0, neg: 0.0, neu: 1.0, pos: 0.0, \n",
            "compound: 0.4404, neg: 0.0, neu: 0.58, pos: 0.42, \n",
            "compound: -0.2023, neg: 0.184, neu: 0.816, pos: 0.0, \n",
            "compound: 0.4956, neg: 0.057, neu: 0.754, pos: 0.189, \n",
            "compound: 0.0, neg: 0.0, neu: 1.0, pos: 0.0, \n",
            "compound: 0.0, neg: 0.0, neu: 1.0, pos: 0.0, \n",
            "compound: 0.0, neg: 0.0, neu: 1.0, pos: 0.0, \n",
            "compound: 0.0, neg: 0.0, neu: 1.0, pos: 0.0, \n",
            "compound: 0.0951, neg: 0.0, neu: 0.953, pos: 0.047, \n",
            "compound: 0.6249, neg: 0.0, neu: 0.697, pos: 0.303, \n",
            "compound: -0.2057, neg: 0.232, neu: 0.768, pos: 0.0, \n",
            "compound: 0.1779, neg: 0.0, neu: 0.825, pos: 0.175, \n",
            "compound: 0.2023, neg: 0.0, neu: 0.893, pos: 0.107, \n",
            "compound: 0.5859, neg: 0.0, neu: 0.787, pos: 0.213, \n",
            "compound: 0.2023, neg: 0.0, neu: 0.833, pos: 0.167, \n",
            "compound: 0.3612, neg: 0.0, neu: 0.545, pos: 0.455, \n",
            "compound: -0.0258, neg: 0.046, neu: 0.954, pos: 0.0, \n",
            "compound: 0.5574, neg: 0.0, neu: 0.833, pos: 0.167, \n",
            "compound: 0.4215, neg: 0.0, neu: 0.823, pos: 0.177, \n",
            "compound: 0.0, neg: 0.0, neu: 1.0, pos: 0.0, \n",
            "compound: 0.079, neg: 0.0, neu: 0.92, pos: 0.08, \n",
            "compound: -0.128, neg: 0.073, neu: 0.927, pos: 0.0, \n",
            "compound: 0.5873, neg: 0.06, neu: 0.718, pos: 0.223, \n",
            "compound: 0.5859, neg: 0.0, neu: 0.798, pos: 0.202, \n",
            "compound: 0.0, neg: 0.0, neu: 1.0, pos: 0.0, \n",
            "compound: 0.7003, neg: 0.066, neu: 0.688, pos: 0.247, \n",
            "compound: 0.1779, neg: 0.0, neu: 0.936, pos: 0.064, \n",
            "compound: -0.7263, neg: 0.298, neu: 0.702, pos: 0.0, \n",
            "compound: 0.4767, neg: 0.0, neu: 0.721, pos: 0.279, \n",
            "compound: 0.2023, neg: 0.0, neu: 0.909, pos: 0.091, \n",
            "compound: 0.6908, neg: 0.072, neu: 0.65, pos: 0.278, \n",
            "compound: 0.0649, neg: 0.099, neu: 0.779, pos: 0.121, \n",
            "compound: 0.0, neg: 0.0, neu: 1.0, pos: 0.0, \n",
            "compound: 0.3197, neg: 0.0, neu: 0.874, pos: 0.126, \n",
            "compound: 0.0, neg: 0.0, neu: 1.0, pos: 0.0, \n",
            "compound: 0.3182, neg: 0.0, neu: 0.897, pos: 0.103, \n",
            "compound: 0.0, neg: 0.0, neu: 1.0, pos: 0.0, \n",
            "compound: 0.0, neg: 0.0, neu: 1.0, pos: 0.0, \n",
            "compound: 0.0, neg: 0.0, neu: 1.0, pos: 0.0, \n",
            "compound: -0.1531, neg: 0.257, neu: 0.571, pos: 0.171, \n",
            "compound: 0.0, neg: 0.0, neu: 1.0, pos: 0.0, \n",
            "compound: 0.4404, neg: 0.0, neu: 0.836, pos: 0.164, \n",
            "compound: 0.0, neg: 0.0, neu: 1.0, pos: 0.0, \n",
            "compound: 0.0, neg: 0.0, neu: 1.0, pos: 0.0, \n",
            "compound: -0.2263, neg: 0.147, neu: 0.853, pos: 0.0, \n",
            "compound: -0.0772, neg: 0.152, neu: 0.711, pos: 0.137, \n",
            "compound: -0.3612, neg: 0.263, neu: 0.737, pos: 0.0, \n",
            "compound: -0.25, neg: 0.25, neu: 0.75, pos: 0.0, \n",
            "compound: 0.34, neg: 0.0, neu: 0.702, pos: 0.298, \n",
            "compound: 0.0, neg: 0.0, neu: 1.0, pos: 0.0, \n",
            "compound: 0.6249, neg: 0.0, neu: 0.747, pos: 0.253, \n",
            "compound: 0.0, neg: 0.0, neu: 1.0, pos: 0.0, \n",
            "compound: 0.3612, neg: 0.0, neu: 0.762, pos: 0.238, \n",
            "compound: 0.6114, neg: 0.046, neu: 0.753, pos: 0.201, \n",
            "compound: 0.128, neg: 0.0, neu: 0.828, pos: 0.172, \n",
            "compound: 0.0, neg: 0.0, neu: 1.0, pos: 0.0, \n",
            "compound: -0.128, neg: 0.103, neu: 0.897, pos: 0.0, \n",
            "compound: 0.296, neg: 0.114, neu: 0.652, pos: 0.234, \n",
            "compound: 0.0, neg: 0.0, neu: 1.0, pos: 0.0, \n",
            "compound: 0.0, neg: 0.0, neu: 1.0, pos: 0.0, \n",
            "compound: -0.3431, neg: 0.297, neu: 0.581, pos: 0.122, \n",
            "compound: 0.2263, neg: 0.0, neu: 0.881, pos: 0.119, \n",
            "compound: 0.4404, neg: 0.0, neu: 0.755, pos: 0.245, \n",
            "compound: 0.0, neg: 0.0, neu: 1.0, pos: 0.0, \n",
            "compound: -0.7579, neg: 0.517, neu: 0.483, pos: 0.0, \n",
            "compound: 0.5267, neg: 0.0, neu: 0.82, pos: 0.18, \n",
            "compound: 0.0, neg: 0.0, neu: 1.0, pos: 0.0, \n",
            "compound: 0.0, neg: 0.0, neu: 1.0, pos: 0.0, \n",
            "compound: 0.0, neg: 0.0, neu: 1.0, pos: 0.0, \n",
            "compound: 0.3818, neg: 0.0, neu: 0.755, pos: 0.245, \n",
            "compound: -0.1027, neg: 0.241, neu: 0.648, pos: 0.111, \n",
            "compound: 0.2023, neg: 0.0, neu: 0.357, pos: 0.643, \n",
            "compound: 0.6115, neg: 0.0, neu: 0.734, pos: 0.266, \n",
            "compound: 0.0, neg: 0.0, neu: 1.0, pos: 0.0, \n",
            "compound: 0.34, neg: 0.0, neu: 0.821, pos: 0.179, \n",
            "compound: 0.0, neg: 0.0, neu: 1.0, pos: 0.0, \n",
            "compound: 0.0, neg: 0.0, neu: 1.0, pos: 0.0, \n",
            "compound: -0.3818, neg: 0.56, neu: 0.2, pos: 0.24, \n",
            "compound: -0.25, neg: 0.087, neu: 0.913, pos: 0.0, \n",
            "compound: 0.4588, neg: 0.0, neu: 0.882, pos: 0.118, \n",
            "compound: 0.0, neg: 0.0, neu: 1.0, pos: 0.0, \n",
            "compound: 0.0, neg: 0.0, neu: 1.0, pos: 0.0, \n",
            "compound: 0.2764, neg: 0.093, neu: 0.769, pos: 0.138, \n",
            "compound: -0.3682, neg: 0.361, neu: 0.451, pos: 0.188, \n",
            "compound: 0.0382, neg: 0.0, neu: 0.924, pos: 0.076, \n",
            "compound: 0.0, neg: 0.0, neu: 1.0, pos: 0.0, \n",
            "compound: 0.1531, neg: 0.0, neu: 0.89, pos: 0.11, \n",
            "compound: -0.0762, neg: 0.126, neu: 0.874, pos: 0.0, \n",
            "compound: 0.0, neg: 0.0, neu: 1.0, pos: 0.0, \n",
            "compound: 0.0, neg: 0.0, neu: 1.0, pos: 0.0, \n",
            "compound: 0.0516, neg: 0.0, neu: 0.87, pos: 0.13, \n",
            "compound: -0.4767, neg: 0.227, neu: 0.773, pos: 0.0, \n",
            "compound: 0.0, neg: 0.0, neu: 1.0, pos: 0.0, \n",
            "compound: 0.4215, neg: 0.0, neu: 0.741, pos: 0.259, \n",
            "compound: -0.4019, neg: 0.124, neu: 0.876, pos: 0.0, \n",
            "compound: 0.0, neg: 0.0, neu: 1.0, pos: 0.0, \n",
            "compound: 0.0, neg: 0.0, neu: 1.0, pos: 0.0, \n",
            "compound: 0.0, neg: 0.0, neu: 1.0, pos: 0.0, \n",
            "compound: -0.3818, neg: 0.265, neu: 0.735, pos: 0.0, \n",
            "compound: 0.1613, neg: 0.085, neu: 0.802, pos: 0.113, \n",
            "compound: -0.2023, neg: 0.205, neu: 0.795, pos: 0.0, \n",
            "compound: 0.2263, neg: 0.074, neu: 0.817, pos: 0.109, \n",
            "compound: 0.0, neg: 0.0, neu: 1.0, pos: 0.0, \n",
            "compound: 0.0, neg: 0.0, neu: 1.0, pos: 0.0, \n",
            "compound: -0.2263, neg: 0.241, neu: 0.759, pos: 0.0, \n",
            "compound: 0.34, neg: 0.0, neu: 0.805, pos: 0.195, \n",
            "compound: -0.2263, neg: 0.182, neu: 0.692, pos: 0.126, \n",
            "compound: -0.1511, neg: 0.185, neu: 0.815, pos: 0.0, \n",
            "compound: -0.033, neg: 0.174, neu: 0.661, pos: 0.165, \n",
            "compound: 0.1477, neg: 0.0, neu: 0.864, pos: 0.136, \n",
            "compound: 0.4939, neg: 0.0, neu: 0.738, pos: 0.262, \n",
            "compound: 0.0, neg: 0.0, neu: 1.0, pos: 0.0, \n",
            "compound: -0.34, neg: 0.158, neu: 0.789, pos: 0.053, \n",
            "compound: -0.3182, neg: 0.063, neu: 0.937, pos: 0.0, \n",
            "compound: 0.6369, neg: 0.0, neu: 0.792, pos: 0.208, \n",
            "compound: -0.4404, neg: 0.262, neu: 0.738, pos: 0.0, \n",
            "compound: 0.1761, neg: 0.087, neu: 0.776, pos: 0.137, \n",
            "compound: 0.5719, neg: 0.114, neu: 0.651, pos: 0.235, \n",
            "compound: 0.1119, neg: 0.078, neu: 0.829, pos: 0.093, \n",
            "compound: 0.0, neg: 0.0, neu: 1.0, pos: 0.0, \n",
            "compound: 0.128, neg: 0.0, neu: 0.0, pos: 1.0, \n",
            "compound: -0.0516, neg: 0.098, neu: 0.902, pos: 0.0, \n",
            "compound: 0.4588, neg: 0.0, neu: 0.636, pos: 0.364, \n",
            "compound: -0.0495, neg: 0.101, neu: 0.839, pos: 0.059, \n",
            "compound: 0.0, neg: 0.0, neu: 1.0, pos: 0.0, \n",
            "compound: 0.0, neg: 0.0, neu: 1.0, pos: 0.0, \n",
            "compound: 0.0, neg: 0.0, neu: 1.0, pos: 0.0, \n",
            "compound: -0.3632, neg: 0.201, neu: 0.799, pos: 0.0, \n",
            "compound: 0.0, neg: 0.0, neu: 1.0, pos: 0.0, \n",
            "compound: 0.0, neg: 0.0, neu: 1.0, pos: 0.0, \n",
            "compound: 0.0772, neg: 0.09, neu: 0.758, pos: 0.152, \n",
            "compound: -0.2732, neg: 0.259, neu: 0.741, pos: 0.0, \n",
            "compound: 0.0, neg: 0.0, neu: 1.0, pos: 0.0, \n",
            "compound: -0.2975, neg: 0.24, neu: 0.76, pos: 0.0, \n",
            "compound: 0.0, neg: 0.0, neu: 1.0, pos: 0.0, \n",
            "compound: 0.0, neg: 0.0, neu: 1.0, pos: 0.0, \n",
            "compound: 0.6369, neg: 0.0, neu: 0.829, pos: 0.171, \n",
            "compound: -0.1695, neg: 0.122, neu: 0.878, pos: 0.0, \n",
            "compound: 0.4404, neg: 0.0, neu: 0.879, pos: 0.121, \n",
            "compound: 0.0, neg: 0.0, neu: 1.0, pos: 0.0, \n",
            "compound: 0.4588, neg: 0.0, neu: 0.769, pos: 0.231, \n",
            "compound: 0.2732, neg: 0.0, neu: 0.851, pos: 0.149, \n",
            "compound: -0.5136, neg: 0.302, neu: 0.698, pos: 0.0, \n",
            "compound: 0.296, neg: 0.0, neu: 0.862, pos: 0.138, \n",
            "compound: -0.6103, neg: 0.162, neu: 0.711, pos: 0.127, \n",
            "compound: -0.2831, neg: 0.234, neu: 0.537, pos: 0.229, \n",
            "compound: 0.0, neg: 0.0, neu: 1.0, pos: 0.0, \n",
            "compound: 0.5106, neg: 0.0, neu: 0.875, pos: 0.125, \n",
            "compound: 0.0428, neg: 0.089, neu: 0.746, pos: 0.166, \n",
            "compound: 0.0, neg: 0.0, neu: 1.0, pos: 0.0, \n",
            "compound: 0.0, neg: 0.0, neu: 1.0, pos: 0.0, \n",
            "compound: 0.1027, neg: 0.141, neu: 0.704, pos: 0.156, \n",
            "compound: -0.5983, neg: 0.15, neu: 0.85, pos: 0.0, \n",
            "compound: 0.0, neg: 0.0, neu: 1.0, pos: 0.0, \n",
            "compound: 0.0, neg: 0.0, neu: 1.0, pos: 0.0, \n",
            "compound: 0.0, neg: 0.0, neu: 1.0, pos: 0.0, \n",
            "compound: 0.3818, neg: 0.0, neu: 0.852, pos: 0.148, \n",
            "compound: 0.2732, neg: 0.144, neu: 0.68, pos: 0.176, \n",
            "compound: -0.2023, neg: 0.087, neu: 0.913, pos: 0.0, \n",
            "compound: 0.0, neg: 0.0, neu: 1.0, pos: 0.0, \n",
            "compound: 0.4926, neg: 0.0, neu: 0.892, pos: 0.108, \n",
            "compound: 0.6597, neg: 0.0, neu: 0.565, pos: 0.435, \n",
            "compound: 0.5574, neg: 0.0, neu: 0.705, pos: 0.295, \n",
            "compound: 0.0, neg: 0.0, neu: 1.0, pos: 0.0, \n",
            "compound: 0.3987, neg: 0.0, neu: 0.956, pos: 0.044, \n",
            "compound: 0.807, neg: 0.0, neu: 0.783, pos: 0.217, \n",
            "compound: 0.3987, neg: 0.0, neu: 0.877, pos: 0.123, \n",
            "compound: 0.765, neg: 0.0, neu: 0.714, pos: 0.286, \n",
            "compound: 0.9097, neg: 0.0, neu: 0.737, pos: 0.263, \n",
            "compound: 0.4404, neg: 0.0, neu: 0.782, pos: 0.218, \n",
            "compound: 0.0, neg: 0.0, neu: 1.0, pos: 0.0, \n",
            "compound: 0.0, neg: 0.0, neu: 1.0, pos: 0.0, \n",
            "compound: 0.1027, neg: 0.0, neu: 0.938, pos: 0.062, \n",
            "compound: 0.0, neg: 0.0, neu: 1.0, pos: 0.0, \n",
            "compound: 0.5984, neg: 0.0, neu: 0.836, pos: 0.164, \n",
            "compound: 0.0, neg: 0.0, neu: 1.0, pos: 0.0, \n",
            "compound: 0.3818, neg: 0.0, neu: 0.809, pos: 0.191, \n",
            "compound: 0.3818, neg: 0.0, neu: 0.833, pos: 0.167, \n",
            "compound: 0.0, neg: 0.0, neu: 1.0, pos: 0.0, \n",
            "compound: 0.6486, neg: 0.0, neu: 0.845, pos: 0.155, \n",
            "compound: 0.0, neg: 0.0, neu: 1.0, pos: 0.0, \n",
            "compound: 0.2624, neg: 0.072, neu: 0.821, pos: 0.108, \n",
            "compound: -0.6124, neg: 0.278, neu: 0.722, pos: 0.0, \n",
            "compound: 0.6908, neg: 0.0, neu: 0.784, pos: 0.216, \n",
            "compound: 0.4003, neg: 0.0, neu: 0.806, pos: 0.194, \n",
            "compound: 0.0, neg: 0.0, neu: 1.0, pos: 0.0, \n",
            "compound: 0.4588, neg: 0.0, neu: 0.9, pos: 0.1, \n",
            "compound: 0.4215, neg: 0.0, neu: 0.682, pos: 0.318, \n",
            "compound: 0.8999, neg: 0.0, neu: 0.637, pos: 0.363, \n",
            "compound: 0.0, neg: 0.0, neu: 1.0, pos: 0.0, \n",
            "compound: 0.5859, neg: 0.0, neu: 0.612, pos: 0.388, \n",
            "compound: 0.6908, neg: 0.0, neu: 0.898, pos: 0.102, \n",
            "compound: 0.658, neg: 0.0, neu: 0.798, pos: 0.202, \n",
            "compound: 0.3818, neg: 0.0, neu: 0.698, pos: 0.302, \n",
            "compound: 0.1027, neg: 0.0, neu: 0.877, pos: 0.123, \n",
            "compound: 0.7902, neg: 0.0, neu: 0.763, pos: 0.237, \n",
            "compound: 0.0, neg: 0.0, neu: 1.0, pos: 0.0, \n",
            "compound: -0.2732, neg: 0.231, neu: 0.769, pos: 0.0, \n",
            "compound: 0.4588, neg: 0.0, neu: 0.846, pos: 0.154, \n",
            "compound: -0.2732, neg: 0.159, neu: 0.758, pos: 0.083, \n",
            "compound: 0.6124, neg: 0.0, neu: 0.7, pos: 0.3, \n",
            "compound: 0.802, neg: 0.0, neu: 0.766, pos: 0.234, \n",
            "compound: 0.1027, neg: 0.0, neu: 0.588, pos: 0.412, \n",
            "compound: 0.0772, neg: 0.175, neu: 0.629, pos: 0.196, \n",
            "compound: 0.6697, neg: 0.053, neu: 0.737, pos: 0.21, \n",
            "compound: 0.5574, neg: 0.0, neu: 0.455, pos: 0.545, \n",
            "compound: 0.3612, neg: 0.0, neu: 0.286, pos: 0.714, \n",
            "compound: -0.1139, neg: 0.138, neu: 0.862, pos: 0.0, \n",
            "compound: -0.1813, neg: 0.091, neu: 0.811, pos: 0.098, \n",
            "compound: 0.0, neg: 0.0, neu: 1.0, pos: 0.0, \n",
            "compound: 0.3182, neg: 0.0, neu: 0.881, pos: 0.119, \n",
            "compound: 0.0, neg: 0.0, neu: 1.0, pos: 0.0, \n",
            "compound: 0.1779, neg: 0.21, neu: 0.494, pos: 0.296, \n",
            "compound: 0.6808, neg: 0.0, neu: 0.869, pos: 0.131, \n",
            "compound: 0.6597, neg: 0.0, neu: 0.735, pos: 0.265, \n",
            "compound: 0.0, neg: 0.0, neu: 1.0, pos: 0.0, \n",
            "compound: 0.0, neg: 0.0, neu: 1.0, pos: 0.0, \n",
            "compound: 0.2924, neg: 0.0, neu: 0.786, pos: 0.214, \n",
            "compound: 0.5376, neg: 0.051, neu: 0.78, pos: 0.169, \n",
            "compound: 0.0, neg: 0.0, neu: 1.0, pos: 0.0, \n",
            "compound: -0.25, neg: 0.095, neu: 0.905, pos: 0.0, \n",
            "compound: 0.0, neg: 0.0, neu: 1.0, pos: 0.0, \n",
            "compound: 0.0, neg: 0.0, neu: 1.0, pos: 0.0, \n",
            "compound: 0.4798, neg: 0.0, neu: 0.66, pos: 0.34, \n",
            "compound: 0.6219, neg: 0.0, neu: 0.759, pos: 0.241, \n",
            "compound: -0.2411, neg: 0.141, neu: 0.859, pos: 0.0, \n",
            "compound: 0.1531, neg: 0.094, neu: 0.778, pos: 0.128, \n",
            "compound: 0.3182, neg: 0.0, neu: 0.813, pos: 0.187, \n",
            "compound: -0.2263, neg: 0.089, neu: 0.838, pos: 0.073, \n",
            "compound: 0.0, neg: 0.0, neu: 1.0, pos: 0.0, \n",
            "compound: 0.0, neg: 0.0, neu: 1.0, pos: 0.0, \n",
            "compound: 0.0, neg: 0.0, neu: 1.0, pos: 0.0, \n",
            "compound: 0.0, neg: 0.0, neu: 1.0, pos: 0.0, \n",
            "compound: 0.34, neg: 0.0, neu: 0.455, pos: 0.545, \n",
            "compound: 0.0, neg: 0.0, neu: 1.0, pos: 0.0, \n",
            "compound: 0.0, neg: 0.0, neu: 1.0, pos: 0.0, \n",
            "compound: 0.34, neg: 0.0, neu: 0.625, pos: 0.375, \n",
            "compound: 0.2446, neg: 0.0, neu: 0.771, pos: 0.229, \n",
            "compound: 0.1262, neg: 0.0, neu: 0.909, pos: 0.091, \n",
            "compound: 0.5719, neg: 0.0, neu: 0.0, pos: 1.0, \n",
            "compound: -0.4019, neg: 0.403, neu: 0.597, pos: 0.0, \n",
            "compound: 0.0, neg: 0.0, neu: 1.0, pos: 0.0, \n",
            "compound: 0.2732, neg: 0.0, neu: 0.588, pos: 0.412, \n",
            "compound: 0.0, neg: 0.0, neu: 1.0, pos: 0.0, \n",
            "compound: 0.0, neg: 0.0, neu: 1.0, pos: 0.0, \n",
            "compound: 0.0, neg: 0.0, neu: 1.0, pos: 0.0, \n",
            "compound: 0.0, neg: 0.0, neu: 1.0, pos: 0.0, \n",
            "compound: 0.0, neg: 0.0, neu: 1.0, pos: 0.0, \n",
            "compound: 0.0516, neg: 0.0, neu: 0.625, pos: 0.375, \n",
            "compound: 0.0, neg: 0.0, neu: 1.0, pos: 0.0, \n",
            "compound: 0.0, neg: 0.0, neu: 1.0, pos: 0.0, \n",
            "compound: -0.1531, neg: 0.444, neu: 0.556, pos: 0.0, \n",
            "compound: -0.1531, neg: 0.138, neu: 0.862, pos: 0.0, \n",
            "compound: 0.0, neg: 0.0, neu: 1.0, pos: 0.0, \n",
            "compound: -0.4019, neg: 0.278, neu: 0.722, pos: 0.0, \n",
            "compound: -0.1027, neg: 0.159, neu: 0.706, pos: 0.135, \n",
            "compound: 0.0, neg: 0.0, neu: 1.0, pos: 0.0, \n",
            "compound: -0.7845, neg: 0.18, neu: 0.82, pos: 0.0, \n",
            "compound: 0.1027, neg: 0.0, neu: 0.741, pos: 0.259, \n",
            "compound: 0.0, neg: 0.0, neu: 1.0, pos: 0.0, \n",
            "compound: 0.0, neg: 0.0, neu: 1.0, pos: 0.0, \n",
            "compound: 0.0, neg: 0.0, neu: 1.0, pos: 0.0, \n",
            "compound: 0.0, neg: 0.0, neu: 1.0, pos: 0.0, \n",
            "compound: 0.0, neg: 0.0, neu: 1.0, pos: 0.0, \n",
            "compound: 0.0, neg: 0.0, neu: 1.0, pos: 0.0, \n",
            "compound: 0.0, neg: 0.0, neu: 1.0, pos: 0.0, \n",
            "compound: -0.0377, neg: 0.0, neu: 1.0, pos: 0.0, \n",
            "compound: 0.2714, neg: 0.0, neu: 0.618, pos: 0.382, \n",
            "compound: 0.7741, neg: 0.0, neu: 0.706, pos: 0.294, \n",
            "compound: 0.4215, neg: 0.0, neu: 0.641, pos: 0.359, \n",
            "compound: 0.0, neg: 0.0, neu: 1.0, pos: 0.0, \n",
            "compound: 0.0, neg: 0.0, neu: 1.0, pos: 0.0, \n",
            "compound: 0.0, neg: 0.0, neu: 1.0, pos: 0.0, \n",
            "compound: 0.0, neg: 0.0, neu: 1.0, pos: 0.0, \n",
            "compound: 0.0, neg: 0.0, neu: 1.0, pos: 0.0, \n",
            "compound: 0.0, neg: 0.0, neu: 1.0, pos: 0.0, \n",
            "compound: 0.0, neg: 0.0, neu: 1.0, pos: 0.0, \n",
            "compound: 0.0, neg: 0.0, neu: 1.0, pos: 0.0, \n",
            "compound: -0.3818, neg: 0.094, neu: 0.906, pos: 0.0, \n",
            "compound: 0.1027, neg: 0.0, neu: 0.811, pos: 0.189, \n",
            "compound: 0.0, neg: 0.0, neu: 1.0, pos: 0.0, \n",
            "compound: 0.0, neg: 0.0, neu: 1.0, pos: 0.0, \n",
            "compound: -0.4019, neg: 0.172, neu: 0.828, pos: 0.0, \n",
            "compound: -0.4019, neg: 0.119, neu: 0.881, pos: 0.0, \n",
            "compound: 0.0, neg: 0.0, neu: 1.0, pos: 0.0, \n",
            "compound: 0.0, neg: 0.0, neu: 1.0, pos: 0.0, \n",
            "compound: 0.0, neg: 0.0, neu: 1.0, pos: 0.0, \n",
            "compound: 0.743, neg: 0.0, neu: 0.842, pos: 0.158, \n",
            "compound: -0.6908, neg: 0.158, neu: 0.842, pos: 0.0, \n",
            "compound: 0.0, neg: 0.0, neu: 1.0, pos: 0.0, \n",
            "compound: 0.0, neg: 0.0, neu: 1.0, pos: 0.0, \n",
            "compound: 0.0, neg: 0.0, neu: 1.0, pos: 0.0, \n",
            "compound: 0.0, neg: 0.0, neu: 1.0, pos: 0.0, \n",
            "compound: 0.0, neg: 0.0, neu: 1.0, pos: 0.0, \n",
            "compound: -0.2732, neg: 0.11, neu: 0.89, pos: 0.0, \n",
            "compound: -0.296, neg: 0.108, neu: 0.833, pos: 0.058, \n",
            "compound: 0.0, neg: 0.0, neu: 1.0, pos: 0.0, \n",
            "compound: 0.0, neg: 0.0, neu: 1.0, pos: 0.0, \n",
            "compound: -0.2263, neg: 0.117, neu: 0.814, pos: 0.069, \n",
            "compound: 0.6997, neg: 0.0, neu: 0.911, pos: 0.089, \n",
            "compound: 0.0, neg: 0.0, neu: 1.0, pos: 0.0, \n",
            "compound: 0.5423, neg: 0.0, neu: 0.769, pos: 0.231, \n",
            "compound: -0.6597, neg: 0.192, neu: 0.762, pos: 0.046, \n",
            "compound: 0.2732, neg: 0.0, neu: 0.93, pos: 0.07, \n",
            "compound: 0.6784, neg: 0.0, neu: 0.905, pos: 0.095, \n",
            "compound: 0.5411, neg: 0.042, neu: 0.788, pos: 0.17, \n",
            "compound: -0.4442, neg: 0.141, neu: 0.859, pos: 0.0, \n",
            "compound: 0.0777, neg: 0.169, neu: 0.651, pos: 0.18, \n",
            "compound: 0.0, neg: 0.0, neu: 1.0, pos: 0.0, \n",
            "compound: 0.8356, neg: 0.0, neu: 0.802, pos: 0.198, \n",
            "compound: -0.5986, neg: 0.134, neu: 0.866, pos: 0.0, \n",
            "compound: -0.0772, neg: 0.048, neu: 0.952, pos: 0.0, \n",
            "compound: -0.3331, neg: 0.062, neu: 0.88, pos: 0.058, \n",
            "compound: 0.5106, neg: 0.0, neu: 0.92, pos: 0.08, \n",
            "compound: -0.4471, neg: 0.07, neu: 0.874, pos: 0.056, \n",
            "compound: 0.4939, neg: 0.0, neu: 0.824, pos: 0.176, \n",
            "compound: 0.5684, neg: 0.0, neu: 0.714, pos: 0.286, \n",
            "compound: 0.0, neg: 0.0, neu: 1.0, pos: 0.0, \n",
            "compound: -0.3818, neg: 0.206, neu: 0.794, pos: 0.0, \n",
            "compound: 0.0, neg: 0.0, neu: 1.0, pos: 0.0, \n",
            "compound: 0.0, neg: 0.0, neu: 1.0, pos: 0.0, \n",
            "compound: 0.6671, neg: 0.0, neu: 0.736, pos: 0.264, \n",
            "compound: 0.6671, neg: 0.0, neu: 0.736, pos: 0.264, \n",
            "compound: 0.0, neg: 0.0, neu: 1.0, pos: 0.0, \n",
            "compound: 0.0, neg: 0.0, neu: 1.0, pos: 0.0, \n",
            "compound: 0.875, neg: 0.0, neu: 0.79, pos: 0.21, \n",
            "compound: 0.7574, neg: 0.0, neu: 0.745, pos: 0.255, \n",
            "compound: 0.0258, neg: 0.0, neu: 0.942, pos: 0.058, \n",
            "compound: 0.4019, neg: 0.0, neu: 0.847, pos: 0.153, \n",
            "compound: 0.2023, neg: 0.0, neu: 0.769, pos: 0.231, \n",
            "compound: 0.1531, neg: 0.0, neu: 0.873, pos: 0.127, \n",
            "compound: -0.1316, neg: 0.041, neu: 0.924, pos: 0.034, \n",
            "compound: 0.1027, neg: 0.0, neu: 0.865, pos: 0.135, \n",
            "compound: 0.5423, neg: 0.056, neu: 0.743, pos: 0.202, \n",
            "compound: -0.4019, neg: 0.147, neu: 0.779, pos: 0.074, \n",
            "compound: 0.2732, neg: 0.161, neu: 0.622, pos: 0.218, \n",
            "compound: 0.0, neg: 0.0, neu: 1.0, pos: 0.0, \n",
            "compound: 0.0, neg: 0.0, neu: 1.0, pos: 0.0, \n"
          ]
        }
      ],
      "source": [
        "for sentence in sentencesHT:\n",
        "        scores = SIA.polarity_scores(sentence)\n",
        "        for key in sorted(scores):\n",
        "                print('{0}: {1}, '.format(key, scores[key]), end='')\n",
        "        print()"
      ]
    },
    {
      "cell_type": "markdown",
      "id": "51895595",
      "metadata": {
        "id": "51895595"
      },
      "source": [
        "Finally, in these two steps, `SentimentIntensityAnalyzer` loops through each text sentence by sentence and calculates their polarity and intensity scores. For each sentence, we then print a negative (`neg`), neutral (`neu`), positive (`pos`), and compound (combined) score."
      ]
    },
    {
      "cell_type": "markdown",
      "source": [
        "This gives us pairs of texts analysed by sentiment, that we can then read for differences - either in the language, or in the sentiment analysis.\n",
        "\n",
        "As [Isobel found](https://github.com/Southampton-Digital-Humanities/2022_french-sentiment-analysis/blob/main/2022-08_Lester-I_nlp-report.pdf) (p12), VADER read then human translated texts as carrying more emotion than the machine translated texts.\n",
        "\n",
        "However, what Isobel also found (p15) is that we also need to be caresful before we trust the machine learning output, especially from rule based models like VADER, where we are not in the loop to iterate and check assumptions the model is making."
      ],
      "metadata": {
        "id": "SNP76coaCBF1"
      },
      "id": "SNP76coaCBF1"
    },
    {
      "cell_type": "markdown",
      "id": "736eb263",
      "metadata": {
        "id": "736eb263"
      },
      "source": [
        "### Rights"
      ]
    },
    {
      "cell_type": "markdown",
      "source": [
        "This notebook was produced by [James Baker](https://www.southampton.ac.uk/people/5yrbp5/doctor-james-baker) for the workshop '[START.. Analysing Sentiment with Python](https://www.eventbrite.co.uk/e/start-analysing-sentiment-with-python-tickets-428611417287?aff=ebdsoporgprofile)' held in November 2022, and organised by [Southampton Digital Humanities](http://digitalhumanities.soton.ac.uk/)."
      ],
      "metadata": {
        "id": "450OdTQkesYo"
      },
      "id": "450OdTQkesYo"
    },
    {
      "cell_type": "markdown",
      "source": [
        "This notebook builds on Zoë Wilkinson Saldaña, \"Sentiment Analysis for Exploratory Data Analysis,\" *Programming Historian* 7 (2018), [https://doi.org/10.46430/phen0079](https://doi.org/10.46430/phen0079)."
      ],
      "metadata": {
        "id": "75ARNcWLet24"
      },
      "id": "75ARNcWLet24"
    },
    {
      "cell_type": "markdown",
      "source": [
        "This notebook is released under a [CC-BY](https://creativecommons.org/licenses/by/4.0/deed.en) license."
      ],
      "metadata": {
        "id": "_zRIQwtPevwy"
      },
      "id": "_zRIQwtPevwy"
    }
  ],
  "metadata": {
    "kernelspec": {
      "display_name": "Python 3 (ipykernel)",
      "language": "python",
      "name": "python3"
    },
    "language_info": {
      "codemirror_mode": {
        "name": "ipython",
        "version": 3
      },
      "file_extension": ".py",
      "mimetype": "text/x-python",
      "name": "python",
      "nbconvert_exporter": "python",
      "pygments_lexer": "ipython3",
      "version": "3.9.7"
    },
    "colab": {
      "provenance": []
    }
  },
  "nbformat": 4,
  "nbformat_minor": 5
}