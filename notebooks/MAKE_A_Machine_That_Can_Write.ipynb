{
  "nbformat": 4,
  "nbformat_minor": 0,
  "metadata": {
    "colab": {
      "provenance": [],
      "collapsed_sections": []
    },
    "kernelspec": {
      "name": "python3",
      "display_name": "Python 3"
    },
    "accelerator": "GPU"
  },
  "cells": [
    {
      "cell_type": "markdown",
      "metadata": {
        "id": "H7LoMj4GA4n_"
      },
      "source": [
        "# MAKE.. A Machine That Can Write\n",
        "\n",
        "This notebook is heavily based on the notebook 'Train a GPT-2 Text-Generating Model w/ GPU For Free' by [Max Woolf](http://minimaxir.com), version last updated by Max on 14 February 2021.\n",
        "\n",
        "This fork was made by [James Baker](https://cradledincaricature.com/) for the session \"[MAKE.. A Machine That Can Write](https://www.eventbrite.co.uk/e/make-a-machine-that-can-write-tickets-187702823197?aff=ebdsoporgprofile)\", first held at the Digital Humanities Hub, University of Southampton, on 22 February 2022. The latest revision was for a October 2022 workshop.\n",
        "\n",
        "This notebook enables you to retrain an advanced text generating neural network on any text dataset **for free on a GPU using Collaboratory** using `gpt-2-simple`. To get the most out of it, you need a Google Account (and you don't have and don't want a Google Account, pair up with some who has).\n",
        "\n",
        "For more about `gpt-2-simple`, you can visit [this GitHub repository](https://github.com/minimaxir/gpt-2-simple). You can also read Max's [blog post](https://minimaxir.com/2019/09/howto-gpt2/) for more information how to use this notebook!\n",
        "\n",
        "To get started:\n",
        "\n",
        "1. Copy this notebook to your Google Drive to keep it and save your changes. (File -> Save a Copy in Drive)\n",
        "2. Make sure you're running the notebook in Google Chrome.\n",
        "3. Optional: using the default options below the model will be trained on a corpus of texts written by William Shakespeare. Alternatively, choose a different corpus of texts (ideally in .txt format) in whose style/voice you want the machine to write.\n",
        "  - James has previously used a corpus of catalogue descriptions (circa 1.5m words) written by the historian Dorothy George between 1930 and 1954: data https://zenodo.org/record/3245017; results https://cradledincaricature.com/2020/06/18/mary-dorothy-george/\n",
        "  - To create your own, good literary examples can be found at [Project Gutenberg](https://www.gutenberg.org/).\n",
        "4. Run the cells below: that is, hit the play buttons in order, waiting for each to complete (when a tick appears to the left of the code block) before moving onto the next):\n"
      ]
    },
    {
      "cell_type": "code",
      "metadata": {
        "id": "KBkpRgBCBS2_",
        "colab": {
          "base_uri": "https://localhost:8080/"
        },
        "outputId": "5544bcd8-74e8-4f62-defe-0287705a85fc"
      },
      "source": [
        "%tensorflow_version 2.x\n",
        "!pip install -q gpt-2-simple\n",
        "import gpt_2_simple as gpt2\n",
        "from datetime import datetime\n",
        "from google.colab import files"
      ],
      "execution_count": null,
      "outputs": [
        {
          "output_type": "stream",
          "name": "stdout",
          "text": [
            "Colab only includes TensorFlow 2.x; %tensorflow_version has no effect.\n",
            "  Building wheel for gpt-2-simple (setup.py) ... \u001b[?25l\u001b[?25hdone\n"
          ]
        }
      ]
    },
    {
      "cell_type": "markdown",
      "metadata": {
        "id": "Bj2IJLHP3KwE"
      },
      "source": [
        "## GPU\n",
        "\n",
        "Colaboratory uses either a Nvidia T4 GPU or an Nvidia K80 GPU. The T4 is slightly faster than the old K80 for training GPT-2, and has more memory allowing you to train the larger GPT-2 models and generate more text.\n",
        "\n",
        "You can verify which GPU is active by running the cell below."
      ]
    },
    {
      "cell_type": "code",
      "metadata": {
        "id": "sUmTooTW3osf",
        "colab": {
          "base_uri": "https://localhost:8080/"
        },
        "outputId": "60fcd0ee-e413-447e-dc63-33f502f2cec0"
      },
      "source": [
        "!nvidia-smi"
      ],
      "execution_count": null,
      "outputs": [
        {
          "output_type": "stream",
          "name": "stdout",
          "text": [
            "Tue Oct 18 13:21:51 2022       \n",
            "+-----------------------------------------------------------------------------+\n",
            "| NVIDIA-SMI 460.32.03    Driver Version: 460.32.03    CUDA Version: 11.2     |\n",
            "|-------------------------------+----------------------+----------------------+\n",
            "| GPU  Name        Persistence-M| Bus-Id        Disp.A | Volatile Uncorr. ECC |\n",
            "| Fan  Temp  Perf  Pwr:Usage/Cap|         Memory-Usage | GPU-Util  Compute M. |\n",
            "|                               |                      |               MIG M. |\n",
            "|===============================+======================+======================|\n",
            "|   0  Tesla T4            Off  | 00000000:00:04.0 Off |                    0 |\n",
            "| N/A   43C    P8     9W /  70W |      0MiB / 15109MiB |      0%      Default |\n",
            "|                               |                      |                  N/A |\n",
            "+-------------------------------+----------------------+----------------------+\n",
            "                                                                               \n",
            "+-----------------------------------------------------------------------------+\n",
            "| Processes:                                                                  |\n",
            "|  GPU   GI   CI        PID   Type   Process name                  GPU Memory |\n",
            "|        ID   ID                                                   Usage      |\n",
            "|=============================================================================|\n",
            "|  No running processes found                                                 |\n",
            "+-----------------------------------------------------------------------------+\n"
          ]
        }
      ]
    },
    {
      "cell_type": "markdown",
      "metadata": {
        "id": "0wXB05bPDYxS"
      },
      "source": [
        "## Downloading GPT-2\n",
        "\n",
        "If you're retraining a model on new text, you need to download the GPT-2 model first. \n",
        "\n",
        "There are three released sizes of GPT-2:\n",
        "\n",
        "* `124M` (default): the \"small\" model, 500MB on disk.\n",
        "* `355M`: the \"medium\" model, 1.5GB on disk.\n",
        "* `774M`: the \"large\" model, cannot currently be finetuned with Colaboratory but can be used to generate text from the pretrained model (see later in Notebook)\n",
        "* `1558M`: the \"extra large\", true model. Will not work if a K80/P4 GPU is attached to the notebook. (like `774M`, it cannot be finetuned).\n",
        "\n",
        "Larger models have more knowledge, but take longer to finetune and longer to generate text. You can specify which base model to use by changing `model_name` in the cells below.\n",
        "\n",
        "The next cell downloads it from Google Cloud Storage and saves it in the Colaboratory VM at `/models/<model_name>`.\n",
        "\n",
        "This model isn't permanently saved in the Colaboratory VM; you'll have to redownload it if you want to retrain it at a later time."
      ]
    },
    {
      "cell_type": "code",
      "metadata": {
        "id": "P8wSlgXoDPCR",
        "colab": {
          "base_uri": "https://localhost:8080/"
        },
        "outputId": "bb83bc70-bea1-4271-e4fd-926f8095b9eb"
      },
      "source": [
        "gpt2.download_gpt2(model_name=\"124M\")"
      ],
      "execution_count": null,
      "outputs": [
        {
          "output_type": "stream",
          "name": "stderr",
          "text": [
            "Fetching checkpoint: 1.05Mit [00:00, 314Mit/s]                                                      \n",
            "Fetching encoder.json: 1.05Mit [00:01, 966kit/s]\n",
            "Fetching hparams.json: 1.05Mit [00:00, 541Mit/s]                                                    \n",
            "Fetching model.ckpt.data-00000-of-00001: 498Mit [00:47, 10.4Mit/s]\n",
            "Fetching model.ckpt.index: 1.05Mit [00:00, 332Mit/s]                                                \n",
            "Fetching model.ckpt.meta: 1.05Mit [00:00, 1.41Mit/s]\n",
            "Fetching vocab.bpe: 1.05Mit [00:00, 1.20Mit/s]\n"
          ]
        }
      ]
    },
    {
      "cell_type": "markdown",
      "metadata": {
        "id": "N8KXuKWzQSsN"
      },
      "source": [
        "## Mounting Google Drive\n",
        "\n",
        "The best way to get input text to-be-trained into the Colaboratory VM, and to get the trained model *out* of Colaboratory, is to route it through Google Drive *first*.\n",
        "\n",
        "Running this cell (which will only work in Colaboratory) will mount your personal Google Drive in the VM, which later cells can use to get data in/out. (it mAY ask for an auth code; that auth is not saved anywhere)\n",
        "\n",
        "After entering you auth code, hit enter."
      ]
    },
    {
      "cell_type": "code",
      "metadata": {
        "id": "puq4iC6vUAHc",
        "colab": {
          "base_uri": "https://localhost:8080/"
        },
        "outputId": "997aafdb-1304-4626-94fd-21f4ca6e2c88"
      },
      "source": [
        "gpt2.mount_gdrive()"
      ],
      "execution_count": null,
      "outputs": [
        {
          "output_type": "stream",
          "name": "stdout",
          "text": [
            "Mounted at /content/drive\n"
          ]
        }
      ]
    },
    {
      "cell_type": "markdown",
      "metadata": {
        "id": "BT__brhBCvJu"
      },
      "source": [
        "## Uploading a Text File to be Trained to Colaboratory\n",
        "\n",
        "First, download a dataset with which to inflect the langauge model. This notebook is setup to run against '[obama_sotu.txt](https://drive.google.com/file/d/184DsOBtHrQxAQTQiN7ZRVrk6tXvPpWeG/view?usp=sharing)', a dataset of Obama's State of the Union addresses. Alternatively, you could use:\n",
        "\n",
        "\n",
        "*   '[bjork-radiohead-prince.txt](https://drive.google.com/file/d/1JVJBaRPX7j1lqARzprXMQQX203RRwyYB/view?usp=sharing)', a small dataset of music lyrics from three artists.\n",
        "*   '[shakespeare.txt](https://drive.google.com/file/d/1Id-1wra6vp2SpNg55Ak9F389jE-cH-24/view)', which is text file containing texts written by William Shakespeare.\n",
        "*   Or '[MDG.txt](https://drive.google.com/file/d/15-PrlOfwOZX_ZP9WQw1Dkajrxe3OqAoq/view?usp=sharing)', a dataset of descriptions of satirical prints.\n",
        "\n",
        "Which ever you choose it will work, you may just wish to change the variable 'simObama' to something different for ease of reading (that is, when you see the variable 'simObama' that could be anything, it just makes sense to make it something that relates to your data).\n",
        "\n",
        "Then in the Colaboratory Notebook sidebar on the left of the screen, select *Files* (the folder icon), hit the upload icon, and upload your chose to your notebook. Once the file appears in the sidebar you are ready to go.\n",
        "\n",
        "**Note**: if you upload a file other than 'obama_sotu.txt', be sure to change the file name in the cell below before you run the cell."
      ]
    },
    {
      "cell_type": "code",
      "metadata": {
        "id": "6OFnPCLADfll"
      },
      "source": [
        "file_name = \"obama_sotu.txt\""
      ],
      "execution_count": null,
      "outputs": []
    },
    {
      "cell_type": "markdown",
      "metadata": {
        "id": "HeeSKtNWUedE"
      },
      "source": [
        "**Ignore the next three code blocks if you've uploaded your dataset using `file_name = \"obama_sotu.txt\"` above**\n",
        "\n",
        "If your text file is larger than 10MB, it is recommended to upload that file to Google Drive first, then copy that file from Google Drive to the Colaboratory VM."
      ]
    },
    {
      "cell_type": "code",
      "metadata": {
        "colab": {
          "base_uri": "https://localhost:8080/"
        },
        "id": "sOhMTvu3wdbp",
        "outputId": "a1793414-6af5-466b-de61-cd2d8d436de2"
      },
      "source": [
        "from google.colab import drive\n",
        "drive.mount('/content/drive/')"
      ],
      "execution_count": null,
      "outputs": [
        {
          "output_type": "stream",
          "name": "stdout",
          "text": [
            "Drive already mounted at /content/drive/; to attempt to forcibly remount, call drive.mount(\"/content/drive/\", force_remount=True).\n"
          ]
        }
      ]
    },
    {
      "cell_type": "code",
      "metadata": {
        "id": "-Z6okFD8VKtS"
      },
      "source": [
        "file_name = \"/content/drive/MyDrive/Colab_Notebooks/obama_sotu.txt\""
      ],
      "execution_count": null,
      "outputs": []
    },
    {
      "cell_type": "code",
      "source": [
        "print(file_name)"
      ],
      "metadata": {
        "colab": {
          "base_uri": "https://localhost:8080/"
        },
        "id": "3m-zzJl7kgQn",
        "outputId": "e3c1ec03-a899-4e8b-a317-ec6496923d43"
      },
      "execution_count": null,
      "outputs": [
        {
          "output_type": "stream",
          "name": "stdout",
          "text": [
            "obama_sotu.txt\n"
          ]
        }
      ]
    },
    {
      "cell_type": "markdown",
      "metadata": {
        "id": "LdpZQXknFNY3"
      },
      "source": [
        "## Finetune GPT-2\n",
        "\n",
        "The next cell will start the actual finetuning of GPT-2. It creates a persistent TensorFlow session which stores the training config, then runs the training for the specified number of `steps`. (to have the finetuning run indefinitely, set `steps = -1`)\n",
        "\n",
        "The model checkpoints will be saved in `/checkpoint/run1` by default. The checkpoints are saved every 500 steps (can be changed) and when the cell is stopped.\n",
        "\n",
        "For 'obama_sotu.txt' (which is roughly 300kb, 50k words) you should start seeing snippets of text after 2 minutes. You should notice that each printed snippet is \"better\" than the last (though we will talk about what \"better\" means in this context). The model will complete after around 5 minutes for 'obama_sotu.txt' (more like 30 minutes for 'shakespeare.txt'.\n",
        "\n",
        "If you've uploaded a larger dataset to train the model, note that the training might time out after 4ish hours; make sure you end training and save the results so you don't lose them!\n",
        "\n",
        "**IMPORTANT NOTE:** If you want to rerun this cell, **restart the VM first** (Runtime -> Restart Runtime). You will need to rerun imports but not recopy files.\n",
        "\n",
        "Other optional-but-helpful parameters for `gpt2.finetune`:\n",
        "\n",
        "\n",
        "*  **`restore_from`**: Set to `fresh` to start training from the base GPT-2, or set to `latest` to restart training from an existing checkpoint.\n",
        "* **`sample_every`**: Number of steps to print example output\n",
        "* **`print_every`**: Number of steps to print training progress.\n",
        "* **`learning_rate`**:  Learning rate for the training. (default `1e-4`, can lower to `1e-5` if you have <1MB input data)\n",
        "*  **`run_name`**: subfolder within `checkpoint` to save the model. This is useful if you want to work with multiple models (will also need to specify  `run_name` when loading the model)\n",
        "* **`overwrite`**: Set to `True` if you want to continue finetuning an existing model (w/ `restore_from='latest'`) without creating duplicate copies. "
      ]
    },
    {
      "cell_type": "code",
      "metadata": {
        "id": "aeXshJM-Cuaf",
        "colab": {
          "base_uri": "https://localhost:8080/"
        },
        "outputId": "a67fd132-22a2-4afa-802c-33b60ba927b6"
      },
      "source": [
        "import tensorflow as tf\n",
        "tf.compat.v1.reset_default_graph()\n",
        "\n",
        "sess = gpt2.start_tf_sess()\n",
        "\n",
        "gpt2.finetune(sess,\n",
        "              dataset=file_name,\n",
        "              model_name='124M',\n",
        "              steps=100,\n",
        "              restore_from='fresh',\n",
        "              run_name='simObama',\n",
        "              print_every=10,\n",
        "              sample_every=20,\n",
        "              save_every=100\n",
        "              )"
      ],
      "execution_count": null,
      "outputs": [
        {
          "output_type": "stream",
          "name": "stdout",
          "text": [
            "Loading checkpoint models/124M/model.ckpt\n",
            "Loading dataset...\n"
          ]
        },
        {
          "output_type": "stream",
          "name": "stderr",
          "text": [
            "100%|██████████| 1/1 [00:00<00:00,  2.33it/s]\n"
          ]
        },
        {
          "output_type": "stream",
          "name": "stdout",
          "text": [
            "dataset has 65600 tokens\n",
            "Training...\n",
            "[10 | 26.07] loss=2.53 avg=2.53\n",
            "[20 | 46.80] loss=2.35 avg=2.44\n",
            "======== SAMPLE 1 ========\n",
            " son and daughter in a country where we share the values we hold proud.\n",
            "\n",
            "We've also begun to move forward in a number of ways. Last week I sent my administration the first comprehensive immigration reform bill in years. Because our immigration system reflects our ideals, we will make sure our children are sent to college and meet the high expectations of their nation's top university.\n",
            "\n",
            "And we've added more than 1 million families and made millions every year. It does not require our politicians to act. No more job-killing regulations. No more tax cuts. No more spending cuts. No more tax cuts for the wealthiest 5 percent of Americans. In fact, over the last 3 years, we've actually saved the American people more money by reducing our deficit by 13 percent.\n",
            "\n",
            "And we've set a higher expectation for the future of our children. For over 2 decades, every child in this country has had the chance to go to college or become a career or start a family. A parent who had to sell their house down the street would have gone on to go to college or go on to a doctor's appointment. A parent who had to turn to college or work part-time and earn a few hundred dollars a year. A father or mother who found themselves single.\n",
            "\n",
            "A generation ago, working families in America would not have been able to afford student loans. Now, too many Americans have no option but to give it a try. We're on track to cut over $2 trillion in debt, including our long-term bond program and savings programs. So why wait? There are ways that we can get here:\n",
            "\n",
            "First, we can make the recovery in this economy work for us again. We must make every effort to make our student loans work. And as I've seen many times, we shouldn't sacrifice a single penny to make sure those loans don't get wiped out on our children.\n",
            "\n",
            "Second, this Congress must pass the Government Accountability and Government Reform Act that will prevent the next recession from coming. My administration wants to ensure that no student loan can be filled more than once each year. We will act to help millions of families afford student loans. We will help make sure that the highest paying jobs are accessible to every kid. Because we're both a nation that stands against fraud, we'll continue to strengthen the economy, create jobs, and increase productivity.\n",
            "\n",
            "Third, we must do more to prepare our children for the future. I've long believed that what we want the next generation of high-paying jobs is what brings America to a more competitive global economy. That's why I'm asking hard-working Americans to take on the biggest job in the world: serving in the Army.\n",
            "\n",
            "Of course, every dollar sent home to my troops shouldn't be a surprise. They're not veterans, they're civilians. Every dollar sent home to me will help more than 4 million children achieve a brighter future. And our efforts will make America a world leader in science and technology and help millions more stay home.\n",
            "\n",
            "Fourth, we will end the war in Iraq. Because while we should do everything in our power to stop it, tonight I want the world to know that we have also come to the end of our enemies' air power, our tanks, our troops. America will send our forces home soon, as did my father. For my father, it was his faith that secured the United States of America.\n",
            "\n",
            "I still don't believe Saddam Hussein deserves the military prison he is currently serving for the use of chemical weapons. Last month, American soldiers left my service in Iraq because of the use of chemical weapons. That's why I want to keep the Government up-to-date on that issue.\n",
            "\n",
            "Third, we must be more flexible in our approach. I will use the money I bring home to Congress as an example. I intend to use the money I raise for each of the next four years as a means of helping the families most devastated by this war who are struggling to come to terms with the cost of the loss of a loved one, to help their children.\n",
            "\n",
            "We will give no more money into a war that is far too costly and far too risky for our children to support. The time has come to do more to help their families better support themselves and the children they care for. I will send my budget for fiscal year 2014 through Congress. We'll finish this job and help our children.\n",
            "\n",
            "This fiscal year ends September 30. Let me assure you. The people of America want what's best. But I cannot continue to delay another year of defense cuts. And I intend to do just that. I am committed to extending the military, as you do--all bills, through the Senate and the House of Representatives, until the end of next fiscal year. Let's be absolutely clear: The cost of war is too high and too costly, and the best way to protect ourselves and our Armed Forces is to end the war in Iraq.\n",
            "\n",
            "Now, that means no more\n",
            "\n",
            "[30 | 81.52] loss=2.16 avg=2.34\n",
            "[40 | 102.95] loss=2.09 avg=2.28\n",
            "======== SAMPLE 1 ========\n",
            ". They told Congress to keep the government open, and they told Congress to stop paying for the deficit. They did that. \n",
            "\n",
            "Let's be clear: We're not at a complete break in our deficits. We're not beyond reform in our national security programs. We're within reaching our long-held foreign policy goals. And if our economy recovers or we lose another quarter of our manufacturing jobs and our manufacturers can't compete with Japan or Europe or our friends in Europe or South Korea or China, that's an economy that needs strengthening. \n",
            "\n",
            "But if we continue to run deficits, whether it's because we're spending less, not borrowing more, or borrowing more, whether we're saving for retirement or raising our kids with more healthy income, it's an economic tragedy that threatens families across this country and threatens our way of life in the process. \n",
            "\n",
            "The most serious problem facing the United States of America today is our budget. Over the years, the deficit has grown by more than 50-fold, and our budget deficit has doubled. Its impact is huge, especially across the board. \n",
            "\n",
            "To put that in perspective: The deficit over the last 8 years has increased $1 trillion. \n",
            "\n",
            "The deficit has also increased by more than 97 percent, for a new study shows. That is unprecedented.  And while the average person can read this report and not feel like they're being asked to solve a huge problem, a quarter of Americans have struggled because their pay has skyrocketed or because Social Security benefits aren't enough or because Government benefits have become a bigger part of the cost of living \n",
            "\n",
            "The reason is simple. With Social Security, it's hard to change a woman for the first time in years when she's able to go to college. It's hard, in large part, for the millions of hard working families to weather the storm. On some nights, those hard-working families can feel the squeeze of retirement or the pressure of paying bills from their home or their job, but they just can't bring themselves to get back into work with no savings or no pay increases, without feeling the pressure of being let down. \n",
            "\n",
            "That's why folks like me, who have been on this Government payroll for 12 years and who know the people of Midway Village, I know their budget better than anyone. I know what they need to buy groceries or rent or just relax and work out. They know that the Government will do anything in their power to help them with their hard-earned money. \n",
            "\n",
            "Now, the deficit is growing. And not because my taxes haven't increased. Not because tax cuts haven't grown. \n",
            "\n",
            "From 2008 through 2011, the deficit for the first time in more than a century increased nearly 90 percent. But after spending over $20 billion cutting benefits for 9 million working moms, the deficit for 2 more generations is about to grow to 2.5 times what it was in 1990. And that is something I intend to avoid in the coming 2 decades. \n",
            "\n",
            "The problem is, the deficit is growing faster and faster, and that's why so many business leaders and financial professionals will invest in long-term investments to help businesses grow and grow, and to provide new investment protection for companies like Myer and my that have been gutted in the last year by fraud, abuse, and theft. \n",
            "\n",
            "A financial company in Denver is being held accountable for what it sold to an outside trader when a $2 million payment was made to an investor who was paid a bad fee. Those same entities who sent stock to an insider in Washington when a $15 million payment was improperly paid, will now be held accountable for what went awry on Wall Street when a big payer wasn't charged. \n",
            "\n",
            "And that's where we need to focus our resources. I'm eager to work with some of the business leaders and lenders who have made our Nation's financial system more flexible and more efficient over the last 6 months. Now is a good time to do the same. \n",
            "\n",
            "Here are some of our priorities over the last 2 years: strengthening the auto industry and rebuilding our communities, rebuilding our businesses, and improving education and training for all our troops. So let's just get started. Let's get it done. \n",
            "\n",
            "In fact, this month marks the 200th year that the Department of Defense is moving forward with the task of rebuilding our Armed Forces. And when we're finally able to put our troops on the line against the terrorists, the enemies, and the enemies' list, it is a huge achievement for this Nation and for our country. But the good news is, we have a new Secretary of Defense, an experienced and distinguished veteran of the combat era, and all of us, in these tough economic times, have a good sense of where our national security requires us. \n",
            "\n",
            "And we will be looking to all parts of the Government to bring America back on track as we transition to a clean-energy economy. And the reason we\n",
            "\n",
            "[50 | 137.22] loss=1.98 avg=2.22\n",
            "[60 | 159.17] loss=1.99 avg=2.18\n",
            "======== SAMPLE 1 ========\n",
            " own future. We don't take any shortcuts. \n",
            "\n",
            "The future is ours to build. We are just a group of smart people together. \n",
            "\n",
            "The question is, how. \n",
            "\n",
            "Some people's dreams will endure because of the generosity of a single mom. Others will endure because of the strength of the work ethic behind the skills and the knowledge that if the right person comes along that someday they will be able to take your place. But some people will endure because if you show up, show up, show up. In your home, at your work, in your businesses, in your neighborhood, right over there, right above and behind you, you will always receive the respect of neighbors and the respect of your business will make all of those things come true. \n",
            "\n",
            "Some people will endure because there is simply no middle ground. There are times when the only thing standing in the way of a success is a failure. We do not deny the possibility, and we will do everything we can to make America the best it can be for our citizens, and we will do whatever is necessary to help. But when you give to the military their finest equipment, when you make sure that there are no more layoffs, when you put millions back into the workforce that is something we all have to get better at, something that sets us apart from the competition, something that puts us at a greater competitive disadvantage, and even more so that America becomes the envy of the world, what are we asking for? We do not give to charity. We give to education. That is a huge reason why so many countries have embraced a free market. That is why the American people are ready for any offer, any offer, any offer. \n",
            "\n",
            "Some people will endure because their hopes will always be high. Some people will endure because if they gave what felt like a million bucks to their political opponents, there would be no political battles this year. But some people will endure because they are tired of this old system that tells us nothing in return for our vote, that tells us nothing in return for our energy, that tells us nothing on issues of common concern. We do not know them, so why do we ask this country to govern? We do not ask it to protect America against threats that we do not expect to meet, or to keep from getting hit again and again. \n",
            "\n",
            "Some people will endure because it is within our power to fix our foreign policy. It is not at all possible. It is not good for America. And neither is the world. The world does not want to see the success of a system of global economic power triumphing over a system of free will triumphing over science, technology, engineering, and math. We do not want power in conflicts like the one that threatened the world's oil industry in 2011. We do not want democracy in places like Ukraine, where people have been murdered with no trial for decades. We do not want autocracy in Russia, where people choose a leadership in the people's service that does not betray the interests of the petrodollar, that fears Western corporations, and that fears the world's oil supply. If the world does not give us a chance to win the chancellorship in time and space with a strong-armed superpower, then surely we will never know it. [Laughter] And that is why it is absolutely necessary for us to reestablish the rule of law and open the door to human creativity and debate. This is a country where nothing is sacred until it is found. It is a country where anything is possible unless we all give something back. \n",
            "\n",
            "Some people will endure because it is a responsibility that they must fulfill. But few know this. For I have never met a senior United States Army general who has come at me with a more piercing and personal sense of duty than General George Patton. No one doubts the ability of this man to win the war. No one questions the necessity of an ironclad commitment. And I bet Patton does not mind if the world saw fit to send him a military recruit. In fact, he does not hesitate to draw him to his troops and tell them to \"join them\" or \"teach them a new war.\" \n",
            "\n",
            "When I arrived at Patton's home this summer, I asked him to become a \"teacher,\" for he said he would be honored by me, and if I chose to enlist, he would give you his number. Tonight I was prepared to give him marching orders; I could have asked him to pull through the crowd, no challenge, no ceremony. I had no doubts. I was prepared to do even more. I knew Patton would give no small number of young men his marching orders: keep them out of enemy hands, enlist them in the fight, and be ready at any time to enlist without delay in the American army. \n",
            "\n",
            "So I asked him, and he told me--[Laughter]--[applause]. \"I will tell you what, then\n",
            "\n",
            "[70 | 193.98] loss=1.66 avg=2.10\n",
            "[80 | 215.91] loss=1.07 avg=1.97\n",
            "======== SAMPLE 1 ========\n",
            " pay people a minimum wage of at least $9.10 an hour. That alone should send a strong message to the rest of the world: If you want to go to school or do something important and meaningful in life, you should get a decent wage. But you should also get a decent wage. And that is why I have introduced legislation that will get a decent wage law before the Federal Court. PAYTAP: That is right, right, right, you've got to get it before it gets out of hand. \n",
            "\n",
            "Paytics are the new low: It costs more to educate our kids than running a factory or building a new hospital, and it's a direct result of a recession that has wiped out so much of our hard-earned money that most people's savings haven't been picked up by their parents. \n",
            "\n",
            "And so it is that in Washington, we complain more and spend less time shaking hands and more time shaking our economy--and in fact, job growth has barely budged over the past 3 years. We go about our business differently than many of our competitors. We spend less time lobbying and less time whipping up new businesses. We don't just make fewer consumer decisions, but less on our economies biggest foreign energy projects. And while we're at it, workers at our dairy farmers wage a strike to demand higher wages. And in Michigan, I'm asking Governor Rick Snyder to send me a bill that will help our dairy farmers get ahead on wages that aren't just higher than average, but higher than average, too. And tonight I'm calling on Congress to send me a bill that will give our dairy farmers a fair shot at getting ahead, and it will save them hundreds of thousands of dollars in energy bills. \n",
            "\n",
            "It's time to end the outdated and dangerous regulations that keep our factories from making good quality milk and giving our small businesses the best possible opportunity to keep growing. It's time to put more people back to work rebuilding bridges that once choked our economy. It's time to put the family at the forefront of our efforts to keep this country strong. And for all the rhetoric about the country struggling under a rock, we know that's not going to happen. We're going to get some serious jobs when we put those people back to work. \n",
            "\n",
            "On to--when the time comes to pass a budget, let's pass this quickly. Let's agree to the minimum wage so that it goes up 50 cents to make it affordable for low-wage workers. Let's pass a wage bill that honors the families that we hard-working families depend on, a bill that protects the hard-working workers who put money in their pockets, and a living wage that makes it fair for every American working full-time. Now, even a fair wage doesn't stop there. Let's also work together on a comprehensive plan to grow our middle class, expand opportunity, and combat our deficit. That's something we should be able to do together. \n",
            "\n",
            "We also know that with a healthy recovery, a strong economy, and a growing middle class, America will always be able to stand apart when it comes to a crisis. That's why we must restore faith in our institutions and restore confidence in our vote. That's why we must restore confidence in our tax system, restore confidence in our financial markets. And that's why we will work with anyone in order to create a secure, affordable, and just recovery. \n",
            "\n",
            "We have to stop holding our politicians and pundits to a higher standard. We know there are many in our administration and around the world who believe that if we don't reduce inequality, if we don't reform our Government so that we're never far from a problem, that it won't have an impact on future generations. \n",
            "\n",
            "Today, our efforts to combat climate change are nearing a consensus. And thanks to a bipartisan coalition of more than 50 countries, the United States is now the world's largest exporter of clean energy. Thanks to the work of more than 500 organizations and businesses around the world, we've made progress on more than 40 different fronts in the last 2 years. And thanks to a robust recovery plan, nearly half of all young people have more confidence in our economic system than they did a year ago, and nearly three in 10 Americans think our Government is doing a better job of building our future than under the previous President. \n",
            "\n",
            "Thanks to a growing economy built around new jobs and a strong middle class, we're on track to meet our goals in Paris this summer. And for good reason: More than two decades ago, the United States experienced the lowest unemployment rate in history. No one is more grateful than I to have met and been in work each day than our President. \n",
            "\n",
            "For more than a year, the only job I saw my wife and I drive or do the dishes was because we started the new year stronger than ever. And because I've been Commander in Chief, it's not because I can't do more spectacular jobs abroad or\n",
            "\n",
            "[90 | 250.72] loss=1.55 avg=1.92\n",
            "[100 | 272.61] loss=0.82 avg=1.81\n",
            "Saving checkpoint/simObama/model-100\n"
          ]
        }
      ]
    },
    {
      "cell_type": "markdown",
      "metadata": {
        "id": "IXSuTNERaw6K"
      },
      "source": [
        "After the model is trained, you can copy the checkpoint folder to your own Google Drive.\n",
        "\n",
        "If you want to download it to your personal computer, it's strongly recommended you copy it to Google Drive first, then download from there. The checkpoint folder is copied as a `.rar` compressed file; you can download it and uncompress it locally."
      ]
    },
    {
      "cell_type": "code",
      "metadata": {
        "id": "VHdTL8NDbAh3"
      },
      "source": [
        "gpt2.copy_checkpoint_to_gdrive(run_name='simObama')"
      ],
      "execution_count": null,
      "outputs": []
    },
    {
      "cell_type": "markdown",
      "metadata": {
        "id": "qQJgV_b4bmzd"
      },
      "source": [
        "You're done! Feel free to go to the **Generate Text From The Trained Model** section to generate text based on your retrained model."
      ]
    },
    {
      "cell_type": "markdown",
      "metadata": {
        "id": "pel-uBULXO2L"
      },
      "source": [
        "## Load a Trained Model Checkpoint\n",
        "\n",
        "**If you've just completed creating you model, skip to Generate Text From The Trained Model**\n",
        "\n",
        "Running the next cell will copy the `.rar` checkpoint file from your Google Drive into the Colaboratory VM."
      ]
    },
    {
      "cell_type": "code",
      "metadata": {
        "id": "DCcx5u7sbPTD"
      },
      "source": [
        "gpt2.copy_checkpoint_from_gdrive(run_name='simShakes')"
      ],
      "execution_count": null,
      "outputs": []
    },
    {
      "cell_type": "markdown",
      "metadata": {
        "id": "RTa6zf3e_9gV"
      },
      "source": [
        "The next cell will allow you to load the retrained model checkpoint + metadata necessary to generate text.\n",
        "\n",
        "**IMPORTANT NOTE:** If you want to rerun this cell, **restart the VM first** (Runtime -> Restart Runtime). You will need to rerun imports but not recopy files."
      ]
    },
    {
      "cell_type": "code",
      "metadata": {
        "id": "-fxL77nvAMAX",
        "colab": {
          "base_uri": "https://localhost:8080/"
        },
        "outputId": "965347f3-dc89-4581-8f65-2e8165eefae0"
      },
      "source": [
        "sess = gpt2.start_tf_sess()\n",
        "gpt2.load_gpt2(sess, run_name='simShakes')"
      ],
      "execution_count": null,
      "outputs": [
        {
          "output_type": "stream",
          "name": "stdout",
          "text": [
            "Loading checkpoint checkpoint/simShakes/model-500\n",
            "INFO:tensorflow:Restoring parameters from checkpoint/simShakes/model-500\n"
          ]
        }
      ]
    },
    {
      "cell_type": "markdown",
      "metadata": {
        "id": "ClJwpF_ACONp"
      },
      "source": [
        "## Generate Text From The Trained Model\n",
        "\n",
        "After you've trained the model or loaded a retrained model from checkpoint, you can now generate text. `generate` generates a single text from the loaded model."
      ]
    },
    {
      "cell_type": "code",
      "metadata": {
        "id": "4RNY6RBI9LmL",
        "colab": {
          "base_uri": "https://localhost:8080/"
        },
        "outputId": "341155bf-7dd6-46e2-f4e8-e428fbdfa66b"
      },
      "source": [
        "gpt2.generate(sess, run_name='simObama')"
      ],
      "execution_count": null,
      "outputs": [
        {
          "output_type": "stream",
          "name": "stdout",
          "text": [
            "A new study from the University of Michigan shows that in countries where gay marriage is legal, HIV/AIDS deaths decline, they don't. And that's because they have to.\n",
            "\n",
            "The study, by researchers from the U.S. Centers for Disease Control and Prevention, found that between 2005 and 2011, the average family in the United States experienced a 50 percent decline in life expectancies. That's a fact. But as soon as same-sex couples get married, we have an obligation to protect them. And so Congress should issue laws that recognize that same-sex couples can't expect to get married because they don't get married. [Laughter]\n",
            "\n",
            "Because gay marriage is a civil rights issue, we should have the legal status of a state crime in the United States of America. But we don't. And that's why, since the very day I signed the civil rights act, I have asked this Congress to send me another law that protects our most vulnerable people from the ravages of discrimination.\n",
            "\n",
            "Because of the laws in this book, I have the power to make laws that will make it possible for gay couples to get a year of marriage back on their person, home, and career. Because of this law, more Americans now get cancer treatment at a time when most patients would never have thought of getting cancer, and more Americans die from prescription drug overdoses. Because of this law, a quarter of all new home births in America this year were heroin-related, and more Americans die from gun violence than cancer from a single gun control vote.\n",
            "\n",
            "Because of this law, fewer young people are working today than at any time in our history. And that's bad for business and bad for families. That's bad for our economy and bad for America. That's why, every day since 9/11, I have urged this Congress to declare that our Nation's jobs are in danger, because fewer of our people are out and about. Maintaining our leadership in the Asia-Pacific is not enough for any President. We also have to remember that our security depends on America's leadership.\n",
            "\n",
            "We've all seen the heroic act of our troops. We all salute the colors on their uniform. We salute the fresh faces on their uniform. And along with them, are those who serve with distinction, who keep our country together and keep our ideals intact, who give their lives for our allies and defend our country wherever they may lead.\n",
            "\n",
            "Of course, there are other nations that respect our flag and who will not join us in upholding it. But we have to remember that it is a part of our DNA, that it has always been based on shared values: loyalty to your country and its ideals; a willingness to sacrifice for the sake of your ideals; and an amazing capacity for charity to come back and do good deeds that you have done for our country for generations.\n",
            "\n",
            "Thank you. God bless you, and God bless the United States of America.\n",
            "\n",
            "Mr. Speaker, Mr. Vice President, Members of Congress, and my fellow Americans: Last year, I expressed my profound regrets that the agency I lead, the Government Accountability Office, had declined to name or deny to Congress individuals who have served their country in extraordinary circumstances. I did so because the public has been deeply misled and the work of the Government has not been done. I do so because the public has not been told the honest-to-God story of the extraordinary circumstances that have unfolded in Ukraine, Afghanistan, Libya, Yemen, where we have not been swift, but whoosh, decisive, decisive, our diplomacy is doing to get the conflict to a more peaceful resolution, but which has dragged on for years.\n",
            "\n",
            "I know this is the first time that I have faced such a storm. I know this is the time that we all, as citizens and as men, come together, work to achieve our common ends, and achieve a better tomorrow. That is the goal that I have come to believe I can achieve.\n",
            "\n",
            "Now, I understand that there will be different opinions and different demands. And I understand this better than any other President in American history. But I also know that without a unified voice, our democracy will fail. We will not have a Government of our own.\n",
            "\n",
            "I know. I know. I know, and we will not grow or shrink, but we shall never again be confronted with the question of who is truly representing us, the man or woman representing us, the country we love or the world we hate. It is because of this failure, failure, that our democracy suffers.\n",
            "\n",
            "Now, it is not a failure of the past. It is a failure of our generation. We are not led, we are confronted with choices that have long since cost us. We are led to believe that what is best in ourselves and our world is best in the world as a whole. That is not the case. That is not the truth.\n",
            "\n",
            "And that is why it is absolutely necessary to defeat\n"
          ]
        }
      ]
    },
    {
      "cell_type": "markdown",
      "metadata": {
        "id": "oF4-PqF0Fl7R"
      },
      "source": [
        "If you're creating an API based on your model and need to pass the generated text elsewhere, you can do `text = gpt2.generate(sess, return_as_list=True)[0]`\n",
        "\n",
        "You can also pass in a `prefix` to the generate function to force the text to start with a given character sequence and generate text from there (good if you add an indicator when the text starts).\n",
        "\n",
        "You can also generate multiple texts at a time by specifing `nsamples`. Unique to GPT-2, you can pass a `batch_size` to generate multiple samples in parallel, giving a massive speedup (in Colaboratory, set a maximum of 20 for `batch_size`).\n",
        "\n",
        "Other optional-but-helpful parameters for `gpt2.generate` and friends:\n",
        "\n",
        "*  **`length`**: Number of tokens to generate (default 1023, the maximum)\n",
        "* **`temperature`**: The higher the temperature, the creative the text (default 0.7, recommended to keep between 0.7 and 1.0)\n",
        "* **`top_k`**: Limits the generated guesses to the top *k* guesses (default 0 which disables the behavior; if the generated output is super crazy, you may want to set `top_k=40`)\n",
        "* **`top_p`**: Nucleus sampling: limits the generated guesses to a cumulative probability. (gets good results on a dataset with `top_p=0.9`)\n",
        "* **`truncate`**: Truncates the input text until a given sequence, excluding that sequence (e.g. if `truncate='<|endoftext|>'`, the returned text will include everything before the first `<|endoftext|>`). It may be useful to combine this with a smaller `length` if the input texts are short.\n",
        "*  **`include_prefix`**: If using `truncate` and `include_prefix=False`, the specified `prefix` will not be included in the returned text."
      ]
    },
    {
      "cell_type": "code",
      "metadata": {
        "id": "8DKMc0fiej4N",
        "colab": {
          "base_uri": "https://localhost:8080/"
        },
        "outputId": "ae1d835e-0e92-4bd1-8f49-cba2eb620fe2"
      },
      "source": [
        "gpt2.generate(sess,\n",
        "              run_name='simObama',\n",
        "              length=500,\n",
        "              temperature=0.95,\n",
        "              nsamples=5,\n",
        "              batch_size=5,\n",
        "              include_prefix=True,\n",
        "              prefix=\"The American Dream\"\n",
        "              )"
      ],
      "execution_count": null,
      "outputs": [
        {
          "output_type": "stream",
          "name": "stdout",
          "text": [
            "The American Dream is not on the horizon, and the agenda we have to follow remains the same. It's just a matter of time. \n",
            "\n",
            "I know that we may see profound change, even a century of decline, if we look to past institutions and policies. As we speak, our planet is warming. More so than 50 years ago, it was the warmest on record. That planet had previously been thought to be in a state of near-term starvation, but this summer, scientists have shown us that the Central Valley is actually melting. The cold that we've been driving up in the last 2 and a half years has pushed down the temperature of the air we're living in to more than 18°F (4.7°C) below pre-industrial levels. \n",
            "\n",
            "Those of us here tonight who care about the well-being of our planet have had enough of this \"hiatus\" moment. We should do what it takes to combat global warming, to protect the environment, build more resilient communities, and promote a renewed effort to develop new technologies to cool our planet. \n",
            "\n",
            "Looking ahead, our responsibility as citizens is to protect ourselves and the planet we love. And it's our responsibility as Americans to do just that. \n",
            "\n",
            "As scientists and engineers, we take the lead in understanding the universe and make new discoveries that have new applications. But as citizens, we also make new, often startling, discoveries. I've debated and debated and debated and claimed that NASA had the most powerful scientific spacecraft in the world, but there was never any scientific research going on in those quiet, remote communities that have deep-space exploration capabilities. Even when our space program was expanded, communities struggled with regulations that concentrated power in the hands of the police and the military. In those communities, seeds of discovery were revealed: vaccines that could cure cancer, the remains of an agave plantation, potpourri for the poor, birds of prey that never forgave another living being, a full moon that brought new life to this once-loved part of the world. \n",
            "\n",
            "I want to speak plainly and candidly about this important issue to all of you tonight, and to the communities where we work and the important work that remains to be done to preserve what's left of our planet's natural diversity. But first, it's important to understand just a fraction of what we put into our food. We know that about 90 percent of what we eat comes from\n",
            "====================\n",
            "The American Dream is money. A farmer can get a new job knowing that if he takes the time to harden a tractor and build a better life for himself and his family, he'll be able to get a higher paying job teaching young kids. A college education can pay off loans and tuition and save money on bills that you can't pay off yet.\n",
            "\n",
            "We should all want a better life. \n",
            "\n",
            "But the jobs that we offer today aren't jobs that are guaranteed. The jobs that will be created over the next 5 years are the hard work of fixing our broken immigration system. Establishing more efficient means of getting around our immigration laws is the single most important job we have right now.\n",
            "\n",
            "Now, in 2 years, we will reform our immigration system so that it's more transparent, that it prevents countries like the United States of America from cheating by sending their citizens to spend years taking jobs from bad people, and finally puts our country at a safer and more attractive place to do business.\n",
            "\n",
            "Let me just say this without getting into the politics of it, because I know some of you are ears to hooks. [Laughter] That's one of those days. What if in the next 2 years, we learned that as many as a million illegal crossings led to the greatest security danger of our history? What if a foreign power had no idea that a small-town America is on the move? What if a country that our enemies have completely misunderstood were actually sending their citizens to help solve a serious security problem?\n",
            "\n",
            "This is America. This is how it's worked before: by defining our task as the destruction of our hemisphere, by consensus-seeking, by ballot box tactics that simply don't work, by our country being broken into so that no one has to flee. Topped by Abraham Lincoln is now the man who wrote: \"I have no fear.\"\n",
            "\n",
            "We live in the age of satellite imagery and GPS-enabled surveillance. Here are the places where everything from oil rigs to oil trucks have come to rest amid thicket, rubble, rubble's fallen: inversions, ditches, cinderblocks, vacant homes. Look at Boston. Look at Scranton. They had oil companies that knew their city and knew their gas, their coal companies knew theirs, and they knew each other's business. This was 2011. This was a city that had finally learned to speak to each other. They had finally come together.\n",
            "\n",
            "\n",
            "====================\n",
            "The American Dream shouldn't be sacrificed on TV ads that pledge we'll get through the year. It should be a chance to get ahead so people like me can have a better life. \n",
            "\n",
            "It is time to end tax breaks for powerful industries that benefit special interests. It's time to protect the middle class that small businesses enjoy and encourage the innovation that will create jobs and put people back to work. In fact, the United States of America is the best place on Earth to start a new business. An economy built to last, a rising standard-bearer for all who drives our example, a country where inequality is ironclad and where a rising share of our income comes from the wealthiest 1% doesn't create enough good jobs, a country where a shrinking number of Americans can get a raise. Now is the time to start rebuilding those good old-fashioned factories that helped make that bright red DeLorean, the Ford T-800? Think about that. Give it to the person next to you in the living room. \n",
            "\n",
            "It is time to end the tax breaks for the schools that create these jobs. Corporate America is out of work and schools are shrinking. But we the people--Democrats and Republicans--still get most of the jobs--everyday. That's why this Chamber is bringing this Congress together. We believe in the American Dream--that the efforts of a Government that serves all of us should be carefully scrutinized, but not disparaged, not downplayed, and barely cashed out as a party should be rewarded. So join the millions of hard-working Americans who put money where their store is, who are doing everything in their power to keep the Government open and attract new talents to fill those jobs. And remember, America is not a job game; neither are we. \n",
            "\n",
            "Now, a strong recession has decimated the hiring and train wreck that has hit manufacturing. My fellow Americans, we have strong companies that hire, but don't make the best products. We have ones that do. But our manufacturers aren't laying off workers; they're laying off customers. We're investing in new plants and factories in places like Virginia and have already ordered more construction workers to help prepare our workers for the economic realities of a recession. And as we climb out of a severe recession, this sector will be harder to replace, but it's not going to hurt. \n",
            "\n",
            "Over the last 18 months, we've increased service-sector spending and added jobs programs\n",
            "====================\n",
            "The American Dream is now part of our Constitution, and the first step in getting that dream back is to get elected. That means getting that chance together.\n",
            "\n",
            "Let's put the finishing touches on the third pillar of our reenergized democracy: the American Dream. \n",
            "\n",
            "We should have a national TV economy when we brought this task to the States. Let's get it done. And if we can't get it done today, then surely tomorrow we'll touch on another great American achievement: the construction industry's right to build America's first high-tech university.\n",
            "\n",
            "Let's cap this event to an hour. Tonight let's focus on the most important issue facing our economy: our growing housing and construction sector.\n",
            "\n",
            "Housing has never been a top priority for President. Once upon a time, most people didn't even know that housing was booming. But over the past 3 years, construction firm Realtors&mdash;RE&Masters&mdash;ran more than 4 million homes for purchase by the housing market.\n",
            "\n",
            "Now our industry is the strongest in the country. Our gas turbine shop is the best selling factory in America. Our furniture saloon is the best selling home in America. But most important, our businesses have grown more automated, connecting more people to our factories and parts to our furniture.\n",
            "\n",
            "And those of us who help build factories in need know many of these things can now count on your help. We've rescued more than 60,000 jobs when auto workers were laid off from laying tires and roofing. Meanwhile, Home Improvement manufacturers have added nearly 60,000 jobs over the past 5 years. Our food manufacturers are adding more than 60,000 jobs over the next 5 years. And the folks in the industry who cook up the perfect dinner each time, deliver a healthy 20-minute delay to customers, make sure their products come with all the proper packaging, send us your workers.\n",
            "\n",
            "So I ask this Congress to deploy the most experienced and responsible workers to help save countless jobs and help fuel the transition to automated parts production. Allowing workers to do all these different jobs with less oversight makes no sense.\n",
            "\n",
            "Now, to save jobs, we need all these jobs&mdash;whereof, we've had some great leadership. I've worked with leaders from Microsoft to Apple to Google. The only people I worked with who succeeded Steve Jobs were me and Henry J. Weyens, who'd just\n",
            "====================\n",
            "The American Dream means an education that can last through college, a job built through grit and hard work, and a chance to further develop America's ties to the European Union and beyond. We need a pathway to citizenship from this point forward. And I cannot think of a better way to move this country forward than by creating an Executive Order that I can sign. Let me put it plainly: If this Congress grants this Government the authority it has denied our citizens for more than a decade, we will unravel this great Nation. Our roads and bridges will be subject to new standards and our ports will be constructed with the same level of engineering and design and engineering and technology as those at the World War II site. Last year, we bought a new Army Black Hawk helicopter and sent it to Africa. And this year, we will begin construction on what could become one of the world's largest ports, the Gulf of Mexico, when we open the next 18 ports. That is an idea that we can work together on, as a single Government, to build a level playing field that does not only meets the needs of the 21 million Americans who use our waters each year, but represents a bigger opportunity for us all. \n",
            "\n",
            "And it is an idea that cannot be blocked. If passed, this Executive Order, if it is approved by my Democratic and Republican friends and Senators, will open new new ports to ship weapons, medical research, and other high-tech cargo across the Atlantic. This will create new commerce, jobs, and higher wages for American workers. It is right here in Washington. \n",
            "\n",
            "Now, I know that when the last President used to leak classified information, the Democrats were infuriated. So were the public. So were Iowans. So were we winners. Dreamers. Muslims. Race relations. I will not allow this Administration to leak any more classified information to the world. For the love of all things American, we must always remember that we are a people who, as they say, do not parts, we do things, and that we are just like anybody else: curious, interested, interested in taking our place in world affairs. \n",
            "\n",
            "Thank you, God bless you, and God bless the United States of America.\n",
            "\n",
            "Madam Speaker, Vice President Biden, Members of Congress, distinguished guests, distinguished guests, gals, fellow Americans: Today, the State Department is under siege from within. [Laughter] It is in constant need of urgent,\n",
            "====================\n"
          ]
        }
      ]
    },
    {
      "cell_type": "markdown",
      "metadata": {
        "id": "zjjEN2Tafhl2"
      },
      "source": [
        "For bulk generation, you can generate a large amount of text to a file and sort out the samples locally on your computer. The next cell will generate a generated text file with a unique timestamp.\n",
        "\n",
        "You can rerun the cells as many times as you want for even more generated texts!"
      ]
    },
    {
      "cell_type": "code",
      "metadata": {
        "id": "Fa6p6arifSL0"
      },
      "source": [
        "gen_file = 'gpt2_gentext_{:%Y%m%d_%H%M%S}.txt'.format(datetime.utcnow())\n",
        "\n",
        "gpt2.generate_to_file(sess,\n",
        "                      run_name='simObama',\n",
        "                      destination_path=gen_file,\n",
        "                      length=300,\n",
        "                      temperature=0.77,\n",
        "                      prefix=\"My fellow Americans,\",\n",
        "                      nsamples=100,\n",
        "                      batch_size=5\n",
        "                      )"
      ],
      "execution_count": null,
      "outputs": []
    },
    {
      "cell_type": "code",
      "metadata": {
        "id": "0-LRex8lfv1g",
        "colab": {
          "base_uri": "https://localhost:8080/",
          "height": 17
        },
        "outputId": "6207f716-2b7d-4cdc-932a-5952e4a9107c"
      },
      "source": [
        "# may have to run twice to get file to download\n",
        "files.download(gen_file)"
      ],
      "execution_count": null,
      "outputs": [
        {
          "output_type": "display_data",
          "data": {
            "text/plain": [
              "<IPython.core.display.Javascript object>"
            ],
            "application/javascript": [
              "\n",
              "    async function download(id, filename, size) {\n",
              "      if (!google.colab.kernel.accessAllowed) {\n",
              "        return;\n",
              "      }\n",
              "      const div = document.createElement('div');\n",
              "      const label = document.createElement('label');\n",
              "      label.textContent = `Downloading \"${filename}\": `;\n",
              "      div.appendChild(label);\n",
              "      const progress = document.createElement('progress');\n",
              "      progress.max = size;\n",
              "      div.appendChild(progress);\n",
              "      document.body.appendChild(div);\n",
              "\n",
              "      const buffers = [];\n",
              "      let downloaded = 0;\n",
              "\n",
              "      const channel = await google.colab.kernel.comms.open(id);\n",
              "      // Send a message to notify the kernel that we're ready.\n",
              "      channel.send({})\n",
              "\n",
              "      for await (const message of channel.messages) {\n",
              "        // Send a message to notify the kernel that we're ready.\n",
              "        channel.send({})\n",
              "        if (message.buffers) {\n",
              "          for (const buffer of message.buffers) {\n",
              "            buffers.push(buffer);\n",
              "            downloaded += buffer.byteLength;\n",
              "            progress.value = downloaded;\n",
              "          }\n",
              "        }\n",
              "      }\n",
              "      const blob = new Blob(buffers, {type: 'application/binary'});\n",
              "      const a = document.createElement('a');\n",
              "      a.href = window.URL.createObjectURL(blob);\n",
              "      a.download = filename;\n",
              "      div.appendChild(a);\n",
              "      a.click();\n",
              "      div.remove();\n",
              "    }\n",
              "  "
            ]
          },
          "metadata": {}
        },
        {
          "output_type": "display_data",
          "data": {
            "text/plain": [
              "<IPython.core.display.Javascript object>"
            ],
            "application/javascript": [
              "download(\"download_8a0da51d-8638-4537-bb88-e8d3af9916fc\", \"gpt2_gentext_20221018_140320.txt\", 141720)"
            ]
          },
          "metadata": {}
        }
      ]
    },
    {
      "cell_type": "markdown",
      "metadata": {
        "id": "pqWQidGf3IPF"
      },
      "source": [
        "# Where to go next\n",
        "\n",
        "## Samples\n",
        "\n",
        "Go [here](https://drive.google.com/drive/folders/1ZCCYvbG126iM1vgyh93tg74raB14YYh4?usp=sharing) for sample of texts generated by this model using 'shakespeare.txt' (temperature=0.8, prefix=\"LADY\").\n",
        "\n",
        "## Reading\n",
        "\n",
        "As Ted Underwood writes in a fascinating piece ('Analytics and Imagination' Journal of Cultural Analytics blog, [15 October 2021](https://culturalanalytics.org/post/1205-analytics-and-imagination)) on the emergent challege of \"technology companies hav[ing] started to realize that they’re in the business of modeling (and generating) culture\":\n",
        "\n",
        "> the dissolving boundary between analysis and creation is an interesting development for humanists\n",
        "\n",
        "And so whilst machine generated texts have their problems (they are woefully inefficient learners, have tendancy to forget things, and lack narrative logic) they still give us uncanny versions of texts we know, offering opportunities for [deformative reading](https://doi.org/10.1353/nlh.1999.0010). I've done this in my work, using a 'sim' writer to [help me understand the ways the labour conditions in which the cataloguer and historian Dorothy George worked shaped and constrained her language choices](https://doi.org/10.1093/hisres/htaa026). These machine texts also give us insight into how predictive systems work, for more on which I thoroughly recommend Leah Henrickson, *Reading Computer-Generated Texts* (Cambridge: Cambridge University Press, [2021](doi.org/10.1017/9781108906463)). The key thing is that unless you '[overfit](https://en.wikipedia.org/wiki/Overfitting#Machine_learning)' the model it will write novel text, text that is like but not the same as the text(s) used to inflect it. What this means for empirical work, is a matter for discussion.\n",
        "\n",
        "## Some Next Steps\n",
        "\n",
        "In this notebook we've only used the a small GPT-2 model and yet we've been able to produce text (far from logical text, but text at least in the style/voice of the text we  used to inflect the model). GPT-2 was launched in 2019. Language-based neural networks have advanced enormously in recent years (such that they appear to be keeping Underwood awake at night!), and so any serious work would go beyond our toy example to use more recent architectures.\n",
        "\n",
        "![alt text](https://i.imgur.com/qbVjgI3.png)\n",
        "\n",
        "One interesting area of exploration is [asking RNNs questions](https://medium.com/analytics-vidhya/an-ai-that-does-your-homework-e5fa40c43d17). Imagine for a moment that we tried this with our model, and the kind of answers we would get. Nevertheless, with very large datasets and very large models, we could build different way of querying information: asking the model open questions, observing the answer, and the using that to look for the data that correlates. As Underwood suggests, this hybrid of creativity and analysis is a fascinating thread to pull at."
      ]
    },
    {
      "cell_type": "markdown",
      "metadata": {
        "id": "QQAN3M6RT7Kj"
      },
      "source": [
        "## Advanced: Generate Text From The Pretrained Model\n",
        "\n",
        "If you want to generate text from the pretrained model, not a finetuned model, pass `model_name` to `gpt2.load_gpt2()` and `gpt2.generate()`.\n",
        "\n",
        "This is currently the only way to generate text from the 774M or 1558M models with this notebook."
      ]
    },
    {
      "cell_type": "code",
      "metadata": {
        "id": "hsUd_jHgUZnD",
        "colab": {
          "base_uri": "https://localhost:8080/",
          "height": 158
        },
        "outputId": "4e0c8a3f-3527-41c4-e3fe-3357f3f8f6c2"
      },
      "source": [
        "model_name = \"774M\"\n",
        "\n",
        "gpt2.download_gpt2(model_name=model_name)"
      ],
      "execution_count": null,
      "outputs": [
        {
          "output_type": "stream",
          "text": [
            "Fetching checkpoint: 1.05Mit [00:00, 354Mit/s]                                                      \n",
            "Fetching encoder.json: 1.05Mit [00:00, 131Mit/s]                                                    \n",
            "Fetching hparams.json: 1.05Mit [00:00, 279Mit/s]                                                    \n",
            "Fetching model.ckpt.data-00000-of-00001: 3.10Git [00:23, 131Mit/s]                                  \n",
            "Fetching model.ckpt.index: 1.05Mit [00:00, 380Mit/s]                                                \n",
            "Fetching model.ckpt.meta: 2.10Mit [00:00, 226Mit/s]                                                 \n",
            "Fetching vocab.bpe: 1.05Mit [00:00, 199Mit/s]                                                       \n"
          ],
          "name": "stderr"
        }
      ]
    },
    {
      "cell_type": "code",
      "metadata": {
        "id": "BAe4NpKNUj2C",
        "colab": {
          "base_uri": "https://localhost:8080/",
          "height": 124
        },
        "outputId": "b09bfe1d-2ff8-4b8a-fffb-273d28d5d4ae"
      },
      "source": [
        "sess = gpt2.start_tf_sess()\n",
        "\n",
        "gpt2.load_gpt2(sess, model_name=model_name)"
      ],
      "execution_count": null,
      "outputs": [
        {
          "output_type": "stream",
          "text": [
            "WARNING: Logging before flag parsing goes to stderr.\n",
            "W0828 18:37:58.571830 139905369159552 deprecation.py:323] From /usr/local/lib/python3.6/dist-packages/tensorflow/python/training/saver.py:1276: checkpoint_exists (from tensorflow.python.training.checkpoint_management) is deprecated and will be removed in a future version.\n",
            "Instructions for updating:\n",
            "Use standard file APIs to check for files with this prefix.\n"
          ],
          "name": "stderr"
        },
        {
          "output_type": "stream",
          "text": [
            "Loading pretrained model models/774M/model.ckpt\n"
          ],
          "name": "stdout"
        }
      ]
    },
    {
      "cell_type": "code",
      "metadata": {
        "id": "-xInIZKaU104",
        "colab": {
          "base_uri": "https://localhost:8080/",
          "height": 797
        },
        "outputId": "56348e28-7d08-45e3-c859-f26c0efd066d"
      },
      "source": [
        "gpt2.generate(sess,\n",
        "              model_name=model_name,\n",
        "              prefix=\"The secret of life is\",\n",
        "              length=100,\n",
        "              temperature=0.7,\n",
        "              top_p=0.9,\n",
        "              nsamples=5,\n",
        "              batch_size=5\n",
        "              )"
      ],
      "execution_count": null,
      "outputs": [
        {
          "output_type": "stream",
          "text": [
            "The secret of life is that it's really easy to make it complicated,\" said Bill Nye, the host of the popular science show \"Bill Nye the Science Guy.\" \"And this is one of the reasons why we all need to be smarter about science, because we can't keep up with the amazing things that are going on all the time.\"\n",
            "\n",
            "While Nye is correct that \"everything that's going on all the time\" is making the world a better place, he misses the point. This is not\n",
            "====================\n",
            "The secret of life is in the rhythm of the universe. It's not a mystery. It's not a mystery to me. It's the nature of the universe. It's the beauty of the universe. It's the way the universe works. It's the way the universe is. It's the way the universe is going to work. It's the way the universe is. It's the way the universe is. It's the way the universe is. It's the way the universe is. It's the way\n",
            "====================\n",
            "The secret of life is in the universe.\n",
            "\n",
            "\n",
            "-\n",
            "\n",
            "The Red Devil\n",
            "\n",
            "It's the end of the world as we know it, and the only thing that can save us is a band of super-powered individuals known as the Red Devil.\n",
            "\n",
            "\n",
            "The Red Devil is a group of super-powered individuals who are seeking the secret of life and the only way they know how to do it is by taking on the roles of a variety of different super-powered individuals, each of which has their own\n",
            "====================\n",
            "The secret of life is in the mixing of the elements, and it is the mixing of the elements that makes life possible.\"\n",
            "\n",
            "But in the world of food science, the idea of a \"complex\" or \"complexity\" is almost entirely imaginary.\n",
            "\n",
            "As a scientist, I'm fascinated by the question of how life first began.\n",
            "\n",
            "It's the question that drives my work and the work of the scientists who work on it.\n",
            "\n",
            "My current research is exploring how microbes work in the first moments\n",
            "====================\n",
            "The secret of life is the journey of life, the search for the truth.\n",
            "\n",
            "4.4.2. The last thing you know\n",
            "\n",
            "There is nothing more important than the last thing you know.\n",
            "\n",
            "4.4.3. The little things that make all the difference\n",
            "\n",
            "The little things that make all the difference.\n",
            "\n",
            "4.4.4. The truth is the best teacher\n",
            "\n",
            "The truth is the best teacher.\n",
            "\n",
            "4.4.5. The truth is what\n",
            "====================\n"
          ],
          "name": "stdout"
        }
      ]
    },
    {
      "cell_type": "markdown",
      "metadata": {
        "id": "ig-KVgkCDCKD"
      },
      "source": [
        "# Etcetera\n",
        "\n",
        "If the notebook has errors (e.g. GPU Sync Fail), force-kill the Colaboratory virtual machine and restart it with the command below:"
      ]
    },
    {
      "cell_type": "code",
      "metadata": {
        "id": "rIHiVP53FnsX"
      },
      "source": [
        "!kill -9 -1"
      ],
      "execution_count": null,
      "outputs": []
    },
    {
      "cell_type": "markdown",
      "metadata": {
        "id": "wmTXWNUygS5E"
      },
      "source": [
        "# LICENSE\n",
        "\n",
        "MIT License\n",
        "\n",
        "Copyright (c) 2019 Max Woolf\n",
        "\n",
        "Permission is hereby granted, free of charge, to any person obtaining a copy\n",
        "of this software and associated documentation files (the \"Software\"), to deal\n",
        "in the Software without restriction, including without limitation the rights\n",
        "to use, copy, modify, merge, publish, distribute, sublicense, and/or sell\n",
        "copies of the Software, and to permit persons to whom the Software is\n",
        "furnished to do so, subject to the following conditions:\n",
        "\n",
        "The above copyright notice and this permission notice shall be included in all\n",
        "copies or substantial portions of the Software.\n",
        "\n",
        "THE SOFTWARE IS PROVIDED \"AS IS\", WITHOUT WARRANTY OF ANY KIND, EXPRESS OR\n",
        "IMPLIED, INCLUDING BUT NOT LIMITED TO THE WARRANTIES OF MERCHANTABILITY,\n",
        "FITNESS FOR A PARTICULAR PURPOSE AND NONINFRINGEMENT. IN NO EVENT SHALL THE\n",
        "AUTHORS OR COPYRIGHT HOLDERS BE LIABLE FOR ANY CLAIM, DAMAGES OR OTHER\n",
        "LIABILITY, WHETHER IN AN ACTION OF CONTRACT, TORT OR OTHERWISE, ARISING FROM,\n",
        "OUT OF OR IN CONNECTION WITH THE SOFTWARE OR THE USE OR OTHER DEALINGS IN THE\n",
        "SOFTWARE."
      ]
    }
  ]
}