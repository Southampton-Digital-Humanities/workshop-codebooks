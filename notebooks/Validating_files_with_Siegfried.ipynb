{
  "cells": [
    {
      "cell_type": "markdown",
      "id": "b138665f",
      "metadata": {
        "id": "b138665f"
      },
      "source": [
        "# Validating files with Siegfried\n",
        "\n",
        "[Siegfried](https://www.itforarchivists.com/siegfried) is a signature-based file format identification tool, implementing:\n",
        "\n",
        "- the National Archives UK's PRONOM file format signatures\n",
        "- freedesktop.org's MIME-info file format signatures\n",
        "- the Library of Congress's FDD file format signatures (beta).\n",
        "\n",
        "It is used by digital preservation professionals to validate that the precise format of all stored digital objects, and to link that identification to a central registry of technical information about that format and its dependencies.\n",
        "\n"
      ]
    },
    {
      "cell_type": "markdown",
      "source": [
        "### Be Kind\n",
        "\n",
        "\n",
        "Ideally, don't use my colab notebook (and hence google resources) by make your own. To do this:\n",
        "\n",
        "1. Copy this notebook to your Google Drive to keep it and save your changes. (File -> Save a Copy in Drive)\n",
        "2. If there is a problem, try running the notebook in Google Chrome."
      ],
      "metadata": {
        "id": "y0BROlfJQ9ex"
      },
      "id": "y0BROlfJQ9ex"
    },
    {
      "cell_type": "markdown",
      "source": [
        "## Setup\n",
        "\n",
        "The next three steps install Siegfried within your Colab Notebook."
      ],
      "metadata": {
        "id": "YW7jg9zoqji2"
      },
      "id": "YW7jg9zoqji2"
    },
    {
      "cell_type": "code",
      "source": [
        "!curl -sL \"http://keyserver.ubuntu.com/pks/lookup?op=get&search=0x20F802FE798E6857\" | gpg --dearmor | sudo tee /usr/share/keyrings/siegfried-archive-keyring.gpg"
      ],
      "metadata": {
        "id": "8gatlo603KX0"
      },
      "id": "8gatlo603KX0",
      "execution_count": null,
      "outputs": []
    },
    {
      "cell_type": "code",
      "source": [
        "!echo \"deb [signed-by=/usr/share/keyrings/siegfried-archive-keyring.gpg] https://www.itforarchivists.com/ buster main\" | sudo tee -a /etc/apt/sources.list.d/siegfried.list"
      ],
      "metadata": {
        "id": "1KiFNtvT3l3v"
      },
      "id": "1KiFNtvT3l3v",
      "execution_count": null,
      "outputs": []
    },
    {
      "cell_type": "code",
      "source": [
        "!sudo apt-get update && sudo apt-get install siegfried"
      ],
      "metadata": {
        "id": "qHiNKSP33qim"
      },
      "id": "qHiNKSP33qim",
      "execution_count": null,
      "outputs": []
    },
    {
      "cell_type": "markdown",
      "source": [
        "## Upload some data\n",
        "\n",
        "Grab the following files from [Discmaster](http://discmaster.textfiles.com/) - a site that hosts vintage computer files:\n",
        "\n",
        "- [clinton.gif](http://discmaster.textfiles.com/view/8183/nightowlsharewarenopv10.iso/023a/clinton.gif)\n",
        "- [X-FILES.AU](http://discmaster.textfiles.com/view/7028/Current%20Shareware%20Volume%205%20(January%201996).ISO/sound/x_fileso.zip/X-FILES.AU)\n",
        "- [BUSH.FLI](http://discmaster.textfiles.com/view/8197/no.zip/no/027A/BUSHFLIC.ZIP/BUSH.FLI)\n",
        "- [shellnew.lwp](http://discmaster.textfiles.com/view/4931/Hobby%20PC%2005.iso/ViaVoice/WordPro_1/lotuspro/wordpro/shellnew.lwp)\n",
        "\n",
        "*Note: you will need to right/CMD click on the file extensions (e.g. .mp4) to grab the files.*\n",
        "\n",
        "Then in the Colaboratory Notebook sidebar on the left of the screen, select Files (the folder icon), hit the upload icon, and upload your files to your notebook. Once the file appears in the sidebar you are ready to go."
      ],
      "metadata": {
        "id": "tMbmzIopoa1U"
      },
      "id": "tMbmzIopoa1U"
    },
    {
      "cell_type": "markdown",
      "source": [
        "These two step open our text files `machine_text.txt` and `Human_text.txt` and put them into their respective message_text variables for use in various analysis functions below."
      ],
      "metadata": {
        "id": "tzTQhfAza8x0"
      },
      "id": "tzTQhfAza8x0"
    },
    {
      "cell_type": "code",
      "execution_count": null,
      "id": "54ca1275",
      "metadata": {
        "id": "54ca1275"
      },
      "outputs": [],
      "source": [
        "!sf BUSH.FLI"
      ]
    },
    {
      "cell_type": "code",
      "execution_count": null,
      "id": "0872912a",
      "metadata": {
        "id": "0872912a"
      },
      "outputs": [],
      "source": [
        "!sf clinton.gif"
      ]
    },
    {
      "cell_type": "code",
      "source": [
        "!sf shellnew.lwp"
      ],
      "metadata": {
        "id": "kuSXOKE38wqA"
      },
      "id": "kuSXOKE38wqA",
      "execution_count": null,
      "outputs": []
    },
    {
      "cell_type": "code",
      "source": [
        "!sf X-FILES.AU"
      ],
      "metadata": {
        "id": "ZIvTZlgW80QH"
      },
      "id": "ZIvTZlgW80QH",
      "execution_count": null,
      "outputs": []
    },
    {
      "cell_type": "markdown",
      "source": [
        "### Challenge Task\n",
        "\n",
        "Having run the file validation and examined the output, rank the four files by how much at risk of loss you think they are (from most at risk to least at risk).\n",
        "\n",
        "*Tip: think about how much data Siegfried can find about each file format, and how robust that data looks to you*"
      ],
      "metadata": {
        "id": "JPBAGKeSDeb2"
      },
      "id": "JPBAGKeSDeb2"
    },
    {
      "cell_type": "markdown",
      "id": "736eb263",
      "metadata": {
        "id": "736eb263"
      },
      "source": [
        "### Rights"
      ]
    },
    {
      "cell_type": "markdown",
      "source": [
        "This notebook was produced by [James Baker](https://www.southampton.ac.uk/people/5yrbp5/doctor-james-baker) for the lecture 'Digital Heritage', given as part of the [HERI6002 'Global Cultural Heritage'](https://www.southampton.ac.uk/courses/modules/heri6002) module in November 2022."
      ],
      "metadata": {
        "id": "450OdTQkesYo"
      },
      "id": "450OdTQkesYo"
    },
    {
      "cell_type": "markdown",
      "source": [
        "This notebook is released under a [CC-BY](https://creativecommons.org/licenses/by/4.0/deed.en) license."
      ],
      "metadata": {
        "id": "_zRIQwtPevwy"
      },
      "id": "_zRIQwtPevwy"
    }
  ],
  "metadata": {
    "kernelspec": {
      "display_name": "Python 3 (ipykernel)",
      "language": "python",
      "name": "python3"
    },
    "language_info": {
      "codemirror_mode": {
        "name": "ipython",
        "version": 3
      },
      "file_extension": ".py",
      "mimetype": "text/x-python",
      "name": "python",
      "nbconvert_exporter": "python",
      "pygments_lexer": "ipython3",
      "version": "3.9.7"
    },
    "colab": {
      "provenance": []
    }
  },
  "nbformat": 4,
  "nbformat_minor": 5
}